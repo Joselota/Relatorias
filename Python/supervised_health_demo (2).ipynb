{
  "nbformat": 4,
  "nbformat_minor": 5,
  "metadata": {
    "colab": {
      "provenance": []
    },
    "language_info": {
      "name": "python"
    },
    "kernelspec": {
      "name": "python3",
      "display_name": "Python 3"
    }
  },
  "cells": [
    {
      "id": "abfe0a6d",
      "cell_type": "markdown",
      "source": [
        "\n",
        "# 🤖 Clasificación Supervisada en Salud\n",
        "\n",
        "Este notebook muestra un ejemplo básico de aprendizaje supervisado usando un dataset de enfermedades cardíacas. Entrenaremos un modelo para predecir si un paciente tiene o no tiene enfermedad cardíaca.\n",
        "\n",
        "## Contenido\n",
        "1. Carga del dataset\n",
        "2. Preprocesamiento\n",
        "3. División entrenamiento/test\n",
        "4. Entrenamiento de modelo (Logistic Regression)\n",
        "5. Evaluación del modelo\n"
      ],
      "metadata": {
        "id": "abfe0a6d"
      }
    },
    {
      "id": "e25435a0",
      "cell_type": "code",
      "metadata": {
        "id": "e25435a0"
      },
      "execution_count": null,
      "source": [
        "import pandas as pd\n",
        "import numpy as np\n",
        "from sklearn.model_selection import train_test_split\n",
        "from sklearn.preprocessing import StandardScaler\n",
        "from sklearn.linear_model import LogisticRegression\n",
        "from sklearn.metrics import classification_report, confusion_matrix\n",
        "import seaborn as sns\n",
        "import matplotlib.pyplot as plt\n",
        "sns.set(style=\"whitegrid\")\n"
      ],
      "outputs": []
    },
    {
      "id": "e19292c9",
      "cell_type": "code",
      "metadata": {
        "colab": {
          "base_uri": "https://localhost:8080/",
          "height": 206
        },
        "id": "e19292c9",
        "outputId": "a9690b6f-462b-4950-8c56-b742ce0f18af"
      },
      "execution_count": null,
      "source": [
        "url = \"https://gist.githubusercontent.com/trantuyen082001/1fc2f5c0ad1507f40e721e6d18b34138/raw/heart.csv\"\n",
        "df = pd.read_csv(url)\n",
        "df.head()\n"
      ],
      "outputs": [
        {
          "output_type": "execute_result",
          "data": {
            "text/plain": [
              "   age  sex  cp  trtbps  chol  fbs  restecg  thalachh  exng  oldpeak  slp  \\\n",
              "0   63    1   3     145   233    1        0       150     0      2.3    0   \n",
              "1   37    1   2     130   250    0        1       187     0      3.5    0   \n",
              "2   41    0   1     130   204    0        0       172     0      1.4    2   \n",
              "3   56    1   1     120   236    0        1       178     0      0.8    2   \n",
              "4   57    0   0     120   354    0        1       163     1      0.6    2   \n",
              "\n",
              "   caa  thall  output  \n",
              "0    0      1       1  \n",
              "1    0      2       1  \n",
              "2    0      2       1  \n",
              "3    0      2       1  \n",
              "4    0      2       1  "
            ],
            "text/html": [
              "\n",
              "  <div id=\"df-0e5bd16c-58e5-49d6-bab5-d050d52d5ad9\" class=\"colab-df-container\">\n",
              "    <div>\n",
              "<style scoped>\n",
              "    .dataframe tbody tr th:only-of-type {\n",
              "        vertical-align: middle;\n",
              "    }\n",
              "\n",
              "    .dataframe tbody tr th {\n",
              "        vertical-align: top;\n",
              "    }\n",
              "\n",
              "    .dataframe thead th {\n",
              "        text-align: right;\n",
              "    }\n",
              "</style>\n",
              "<table border=\"1\" class=\"dataframe\">\n",
              "  <thead>\n",
              "    <tr style=\"text-align: right;\">\n",
              "      <th></th>\n",
              "      <th>age</th>\n",
              "      <th>sex</th>\n",
              "      <th>cp</th>\n",
              "      <th>trtbps</th>\n",
              "      <th>chol</th>\n",
              "      <th>fbs</th>\n",
              "      <th>restecg</th>\n",
              "      <th>thalachh</th>\n",
              "      <th>exng</th>\n",
              "      <th>oldpeak</th>\n",
              "      <th>slp</th>\n",
              "      <th>caa</th>\n",
              "      <th>thall</th>\n",
              "      <th>output</th>\n",
              "    </tr>\n",
              "  </thead>\n",
              "  <tbody>\n",
              "    <tr>\n",
              "      <th>0</th>\n",
              "      <td>63</td>\n",
              "      <td>1</td>\n",
              "      <td>3</td>\n",
              "      <td>145</td>\n",
              "      <td>233</td>\n",
              "      <td>1</td>\n",
              "      <td>0</td>\n",
              "      <td>150</td>\n",
              "      <td>0</td>\n",
              "      <td>2.3</td>\n",
              "      <td>0</td>\n",
              "      <td>0</td>\n",
              "      <td>1</td>\n",
              "      <td>1</td>\n",
              "    </tr>\n",
              "    <tr>\n",
              "      <th>1</th>\n",
              "      <td>37</td>\n",
              "      <td>1</td>\n",
              "      <td>2</td>\n",
              "      <td>130</td>\n",
              "      <td>250</td>\n",
              "      <td>0</td>\n",
              "      <td>1</td>\n",
              "      <td>187</td>\n",
              "      <td>0</td>\n",
              "      <td>3.5</td>\n",
              "      <td>0</td>\n",
              "      <td>0</td>\n",
              "      <td>2</td>\n",
              "      <td>1</td>\n",
              "    </tr>\n",
              "    <tr>\n",
              "      <th>2</th>\n",
              "      <td>41</td>\n",
              "      <td>0</td>\n",
              "      <td>1</td>\n",
              "      <td>130</td>\n",
              "      <td>204</td>\n",
              "      <td>0</td>\n",
              "      <td>0</td>\n",
              "      <td>172</td>\n",
              "      <td>0</td>\n",
              "      <td>1.4</td>\n",
              "      <td>2</td>\n",
              "      <td>0</td>\n",
              "      <td>2</td>\n",
              "      <td>1</td>\n",
              "    </tr>\n",
              "    <tr>\n",
              "      <th>3</th>\n",
              "      <td>56</td>\n",
              "      <td>1</td>\n",
              "      <td>1</td>\n",
              "      <td>120</td>\n",
              "      <td>236</td>\n",
              "      <td>0</td>\n",
              "      <td>1</td>\n",
              "      <td>178</td>\n",
              "      <td>0</td>\n",
              "      <td>0.8</td>\n",
              "      <td>2</td>\n",
              "      <td>0</td>\n",
              "      <td>2</td>\n",
              "      <td>1</td>\n",
              "    </tr>\n",
              "    <tr>\n",
              "      <th>4</th>\n",
              "      <td>57</td>\n",
              "      <td>0</td>\n",
              "      <td>0</td>\n",
              "      <td>120</td>\n",
              "      <td>354</td>\n",
              "      <td>0</td>\n",
              "      <td>1</td>\n",
              "      <td>163</td>\n",
              "      <td>1</td>\n",
              "      <td>0.6</td>\n",
              "      <td>2</td>\n",
              "      <td>0</td>\n",
              "      <td>2</td>\n",
              "      <td>1</td>\n",
              "    </tr>\n",
              "  </tbody>\n",
              "</table>\n",
              "</div>\n",
              "    <div class=\"colab-df-buttons\">\n",
              "\n",
              "  <div class=\"colab-df-container\">\n",
              "    <button class=\"colab-df-convert\" onclick=\"convertToInteractive('df-0e5bd16c-58e5-49d6-bab5-d050d52d5ad9')\"\n",
              "            title=\"Convert this dataframe to an interactive table.\"\n",
              "            style=\"display:none;\">\n",
              "\n",
              "  <svg xmlns=\"http://www.w3.org/2000/svg\" height=\"24px\" viewBox=\"0 -960 960 960\">\n",
              "    <path d=\"M120-120v-720h720v720H120Zm60-500h600v-160H180v160Zm220 220h160v-160H400v160Zm0 220h160v-160H400v160ZM180-400h160v-160H180v160Zm440 0h160v-160H620v160ZM180-180h160v-160H180v160Zm440 0h160v-160H620v160Z\"/>\n",
              "  </svg>\n",
              "    </button>\n",
              "\n",
              "  <style>\n",
              "    .colab-df-container {\n",
              "      display:flex;\n",
              "      gap: 12px;\n",
              "    }\n",
              "\n",
              "    .colab-df-convert {\n",
              "      background-color: #E8F0FE;\n",
              "      border: none;\n",
              "      border-radius: 50%;\n",
              "      cursor: pointer;\n",
              "      display: none;\n",
              "      fill: #1967D2;\n",
              "      height: 32px;\n",
              "      padding: 0 0 0 0;\n",
              "      width: 32px;\n",
              "    }\n",
              "\n",
              "    .colab-df-convert:hover {\n",
              "      background-color: #E2EBFA;\n",
              "      box-shadow: 0px 1px 2px rgba(60, 64, 67, 0.3), 0px 1px 3px 1px rgba(60, 64, 67, 0.15);\n",
              "      fill: #174EA6;\n",
              "    }\n",
              "\n",
              "    .colab-df-buttons div {\n",
              "      margin-bottom: 4px;\n",
              "    }\n",
              "\n",
              "    [theme=dark] .colab-df-convert {\n",
              "      background-color: #3B4455;\n",
              "      fill: #D2E3FC;\n",
              "    }\n",
              "\n",
              "    [theme=dark] .colab-df-convert:hover {\n",
              "      background-color: #434B5C;\n",
              "      box-shadow: 0px 1px 3px 1px rgba(0, 0, 0, 0.15);\n",
              "      filter: drop-shadow(0px 1px 2px rgba(0, 0, 0, 0.3));\n",
              "      fill: #FFFFFF;\n",
              "    }\n",
              "  </style>\n",
              "\n",
              "    <script>\n",
              "      const buttonEl =\n",
              "        document.querySelector('#df-0e5bd16c-58e5-49d6-bab5-d050d52d5ad9 button.colab-df-convert');\n",
              "      buttonEl.style.display =\n",
              "        google.colab.kernel.accessAllowed ? 'block' : 'none';\n",
              "\n",
              "      async function convertToInteractive(key) {\n",
              "        const element = document.querySelector('#df-0e5bd16c-58e5-49d6-bab5-d050d52d5ad9');\n",
              "        const dataTable =\n",
              "          await google.colab.kernel.invokeFunction('convertToInteractive',\n",
              "                                                    [key], {});\n",
              "        if (!dataTable) return;\n",
              "\n",
              "        const docLinkHtml = 'Like what you see? Visit the ' +\n",
              "          '<a target=\"_blank\" href=https://colab.research.google.com/notebooks/data_table.ipynb>data table notebook</a>'\n",
              "          + ' to learn more about interactive tables.';\n",
              "        element.innerHTML = '';\n",
              "        dataTable['output_type'] = 'display_data';\n",
              "        await google.colab.output.renderOutput(dataTable, element);\n",
              "        const docLink = document.createElement('div');\n",
              "        docLink.innerHTML = docLinkHtml;\n",
              "        element.appendChild(docLink);\n",
              "      }\n",
              "    </script>\n",
              "  </div>\n",
              "\n",
              "\n",
              "    <div id=\"df-d8f893de-469e-4e4e-b09a-fd770550c822\">\n",
              "      <button class=\"colab-df-quickchart\" onclick=\"quickchart('df-d8f893de-469e-4e4e-b09a-fd770550c822')\"\n",
              "                title=\"Suggest charts\"\n",
              "                style=\"display:none;\">\n",
              "\n",
              "<svg xmlns=\"http://www.w3.org/2000/svg\" height=\"24px\"viewBox=\"0 0 24 24\"\n",
              "     width=\"24px\">\n",
              "    <g>\n",
              "        <path d=\"M19 3H5c-1.1 0-2 .9-2 2v14c0 1.1.9 2 2 2h14c1.1 0 2-.9 2-2V5c0-1.1-.9-2-2-2zM9 17H7v-7h2v7zm4 0h-2V7h2v10zm4 0h-2v-4h2v4z\"/>\n",
              "    </g>\n",
              "</svg>\n",
              "      </button>\n",
              "\n",
              "<style>\n",
              "  .colab-df-quickchart {\n",
              "      --bg-color: #E8F0FE;\n",
              "      --fill-color: #1967D2;\n",
              "      --hover-bg-color: #E2EBFA;\n",
              "      --hover-fill-color: #174EA6;\n",
              "      --disabled-fill-color: #AAA;\n",
              "      --disabled-bg-color: #DDD;\n",
              "  }\n",
              "\n",
              "  [theme=dark] .colab-df-quickchart {\n",
              "      --bg-color: #3B4455;\n",
              "      --fill-color: #D2E3FC;\n",
              "      --hover-bg-color: #434B5C;\n",
              "      --hover-fill-color: #FFFFFF;\n",
              "      --disabled-bg-color: #3B4455;\n",
              "      --disabled-fill-color: #666;\n",
              "  }\n",
              "\n",
              "  .colab-df-quickchart {\n",
              "    background-color: var(--bg-color);\n",
              "    border: none;\n",
              "    border-radius: 50%;\n",
              "    cursor: pointer;\n",
              "    display: none;\n",
              "    fill: var(--fill-color);\n",
              "    height: 32px;\n",
              "    padding: 0;\n",
              "    width: 32px;\n",
              "  }\n",
              "\n",
              "  .colab-df-quickchart:hover {\n",
              "    background-color: var(--hover-bg-color);\n",
              "    box-shadow: 0 1px 2px rgba(60, 64, 67, 0.3), 0 1px 3px 1px rgba(60, 64, 67, 0.15);\n",
              "    fill: var(--button-hover-fill-color);\n",
              "  }\n",
              "\n",
              "  .colab-df-quickchart-complete:disabled,\n",
              "  .colab-df-quickchart-complete:disabled:hover {\n",
              "    background-color: var(--disabled-bg-color);\n",
              "    fill: var(--disabled-fill-color);\n",
              "    box-shadow: none;\n",
              "  }\n",
              "\n",
              "  .colab-df-spinner {\n",
              "    border: 2px solid var(--fill-color);\n",
              "    border-color: transparent;\n",
              "    border-bottom-color: var(--fill-color);\n",
              "    animation:\n",
              "      spin 1s steps(1) infinite;\n",
              "  }\n",
              "\n",
              "  @keyframes spin {\n",
              "    0% {\n",
              "      border-color: transparent;\n",
              "      border-bottom-color: var(--fill-color);\n",
              "      border-left-color: var(--fill-color);\n",
              "    }\n",
              "    20% {\n",
              "      border-color: transparent;\n",
              "      border-left-color: var(--fill-color);\n",
              "      border-top-color: var(--fill-color);\n",
              "    }\n",
              "    30% {\n",
              "      border-color: transparent;\n",
              "      border-left-color: var(--fill-color);\n",
              "      border-top-color: var(--fill-color);\n",
              "      border-right-color: var(--fill-color);\n",
              "    }\n",
              "    40% {\n",
              "      border-color: transparent;\n",
              "      border-right-color: var(--fill-color);\n",
              "      border-top-color: var(--fill-color);\n",
              "    }\n",
              "    60% {\n",
              "      border-color: transparent;\n",
              "      border-right-color: var(--fill-color);\n",
              "    }\n",
              "    80% {\n",
              "      border-color: transparent;\n",
              "      border-right-color: var(--fill-color);\n",
              "      border-bottom-color: var(--fill-color);\n",
              "    }\n",
              "    90% {\n",
              "      border-color: transparent;\n",
              "      border-bottom-color: var(--fill-color);\n",
              "    }\n",
              "  }\n",
              "</style>\n",
              "\n",
              "      <script>\n",
              "        async function quickchart(key) {\n",
              "          const quickchartButtonEl =\n",
              "            document.querySelector('#' + key + ' button');\n",
              "          quickchartButtonEl.disabled = true;  // To prevent multiple clicks.\n",
              "          quickchartButtonEl.classList.add('colab-df-spinner');\n",
              "          try {\n",
              "            const charts = await google.colab.kernel.invokeFunction(\n",
              "                'suggestCharts', [key], {});\n",
              "          } catch (error) {\n",
              "            console.error('Error during call to suggestCharts:', error);\n",
              "          }\n",
              "          quickchartButtonEl.classList.remove('colab-df-spinner');\n",
              "          quickchartButtonEl.classList.add('colab-df-quickchart-complete');\n",
              "        }\n",
              "        (() => {\n",
              "          let quickchartButtonEl =\n",
              "            document.querySelector('#df-d8f893de-469e-4e4e-b09a-fd770550c822 button');\n",
              "          quickchartButtonEl.style.display =\n",
              "            google.colab.kernel.accessAllowed ? 'block' : 'none';\n",
              "        })();\n",
              "      </script>\n",
              "    </div>\n",
              "\n",
              "    </div>\n",
              "  </div>\n"
            ],
            "application/vnd.google.colaboratory.intrinsic+json": {
              "type": "dataframe",
              "variable_name": "df",
              "summary": "{\n  \"name\": \"df\",\n  \"rows\": 303,\n  \"fields\": [\n    {\n      \"column\": \"age\",\n      \"properties\": {\n        \"dtype\": \"number\",\n        \"std\": 9,\n        \"min\": 29,\n        \"max\": 77,\n        \"num_unique_values\": 41,\n        \"samples\": [\n          46,\n          66,\n          48\n        ],\n        \"semantic_type\": \"\",\n        \"description\": \"\"\n      }\n    },\n    {\n      \"column\": \"sex\",\n      \"properties\": {\n        \"dtype\": \"number\",\n        \"std\": 0,\n        \"min\": 0,\n        \"max\": 1,\n        \"num_unique_values\": 2,\n        \"samples\": [\n          0,\n          1\n        ],\n        \"semantic_type\": \"\",\n        \"description\": \"\"\n      }\n    },\n    {\n      \"column\": \"cp\",\n      \"properties\": {\n        \"dtype\": \"number\",\n        \"std\": 1,\n        \"min\": 0,\n        \"max\": 3,\n        \"num_unique_values\": 4,\n        \"samples\": [\n          2,\n          0\n        ],\n        \"semantic_type\": \"\",\n        \"description\": \"\"\n      }\n    },\n    {\n      \"column\": \"trtbps\",\n      \"properties\": {\n        \"dtype\": \"number\",\n        \"std\": 17,\n        \"min\": 94,\n        \"max\": 200,\n        \"num_unique_values\": 49,\n        \"samples\": [\n          104,\n          123\n        ],\n        \"semantic_type\": \"\",\n        \"description\": \"\"\n      }\n    },\n    {\n      \"column\": \"chol\",\n      \"properties\": {\n        \"dtype\": \"number\",\n        \"std\": 51,\n        \"min\": 126,\n        \"max\": 564,\n        \"num_unique_values\": 152,\n        \"samples\": [\n          277,\n          169\n        ],\n        \"semantic_type\": \"\",\n        \"description\": \"\"\n      }\n    },\n    {\n      \"column\": \"fbs\",\n      \"properties\": {\n        \"dtype\": \"number\",\n        \"std\": 0,\n        \"min\": 0,\n        \"max\": 1,\n        \"num_unique_values\": 2,\n        \"samples\": [\n          0,\n          1\n        ],\n        \"semantic_type\": \"\",\n        \"description\": \"\"\n      }\n    },\n    {\n      \"column\": \"restecg\",\n      \"properties\": {\n        \"dtype\": \"number\",\n        \"std\": 0,\n        \"min\": 0,\n        \"max\": 2,\n        \"num_unique_values\": 3,\n        \"samples\": [\n          0,\n          1\n        ],\n        \"semantic_type\": \"\",\n        \"description\": \"\"\n      }\n    },\n    {\n      \"column\": \"thalachh\",\n      \"properties\": {\n        \"dtype\": \"number\",\n        \"std\": 22,\n        \"min\": 71,\n        \"max\": 202,\n        \"num_unique_values\": 91,\n        \"samples\": [\n          159,\n          152\n        ],\n        \"semantic_type\": \"\",\n        \"description\": \"\"\n      }\n    },\n    {\n      \"column\": \"exng\",\n      \"properties\": {\n        \"dtype\": \"number\",\n        \"std\": 0,\n        \"min\": 0,\n        \"max\": 1,\n        \"num_unique_values\": 2,\n        \"samples\": [\n          1,\n          0\n        ],\n        \"semantic_type\": \"\",\n        \"description\": \"\"\n      }\n    },\n    {\n      \"column\": \"oldpeak\",\n      \"properties\": {\n        \"dtype\": \"number\",\n        \"std\": 1.1610750220686343,\n        \"min\": 0.0,\n        \"max\": 6.2,\n        \"num_unique_values\": 40,\n        \"samples\": [\n          1.9,\n          3.0\n        ],\n        \"semantic_type\": \"\",\n        \"description\": \"\"\n      }\n    },\n    {\n      \"column\": \"slp\",\n      \"properties\": {\n        \"dtype\": \"number\",\n        \"std\": 0,\n        \"min\": 0,\n        \"max\": 2,\n        \"num_unique_values\": 3,\n        \"samples\": [\n          0,\n          2\n        ],\n        \"semantic_type\": \"\",\n        \"description\": \"\"\n      }\n    },\n    {\n      \"column\": \"caa\",\n      \"properties\": {\n        \"dtype\": \"number\",\n        \"std\": 1,\n        \"min\": 0,\n        \"max\": 4,\n        \"num_unique_values\": 5,\n        \"samples\": [\n          2,\n          4\n        ],\n        \"semantic_type\": \"\",\n        \"description\": \"\"\n      }\n    },\n    {\n      \"column\": \"thall\",\n      \"properties\": {\n        \"dtype\": \"number\",\n        \"std\": 0,\n        \"min\": 0,\n        \"max\": 3,\n        \"num_unique_values\": 4,\n        \"samples\": [\n          2,\n          0\n        ],\n        \"semantic_type\": \"\",\n        \"description\": \"\"\n      }\n    },\n    {\n      \"column\": \"output\",\n      \"properties\": {\n        \"dtype\": \"number\",\n        \"std\": 0,\n        \"min\": 0,\n        \"max\": 1,\n        \"num_unique_values\": 2,\n        \"samples\": [\n          0,\n          1\n        ],\n        \"semantic_type\": \"\",\n        \"description\": \"\"\n      }\n    }\n  ]\n}"
            }
          },
          "metadata": {},
          "execution_count": 3
        }
      ]
    },
    {
      "id": "ed900c8e",
      "cell_type": "code",
      "metadata": {
        "id": "ed900c8e"
      },
      "execution_count": null,
      "source": [
        "X = df.drop(columns=[\"output\"])\n",
        "y = df[\"output\"]"
      ],
      "outputs": []
    },
    {
      "cell_type": "markdown",
      "source": [
        "X = df.drop(columns=[\"output\"])\n",
        "* Crea un nuevo DataFrame llamado X que contiene todas las columnas excepto la columna \"output\".\n",
        "* Este será el conjunto de variables independientes, o inputs, es decir, los datos que el modelo usará para hacer sus predicciones (por ejemplo: edad, colesterol, presión…).\n",
        "\n",
        "y = df[\"output\"]\n",
        "* Extrae la columna \"output\" y la guarda en y.\n",
        "* Esta columna es la variable dependiente, o target, lo que el modelo intentará predecir.\n",
        "* En este dataset, output probablemente indica si una persona tiene o no una enfermedad cardíaca (0 = no, 1 = sí)."
      ],
      "metadata": {
        "id": "kS219ekwUmQV"
      },
      "id": "kS219ekwUmQV"
    },
    {
      "cell_type": "markdown",
      "source": [
        "**¿Por qué se hace esto?**\n",
        "* Porque en un modelo supervisado necesitas decirle explícitamente:\n",
        "\n",
        "“Estas son las variables con las que vas a aprender (X), y esta es la respuesta correcta (y).”"
      ],
      "metadata": {
        "id": "wjUIzC7dUxGm"
      },
      "id": "wjUIzC7dUxGm"
    },
    {
      "cell_type": "code",
      "source": [
        "scaler = StandardScaler()\n",
        "X_scaled = scaler.fit_transform(X)"
      ],
      "metadata": {
        "id": "YU1eHfBnUi_g"
      },
      "id": "YU1eHfBnUi_g",
      "execution_count": 13,
      "outputs": []
    },
    {
      "cell_type": "markdown",
      "source": [
        "Acá lo que estamos haciendo es poner todas las columnas en la misma ‘escala’.\n",
        "\n",
        "Algunas variables pueden tener números grandes (como el colesterol o la edad), y otras pueden tener números pequeños (como proporciones o medidas normalizadas).\n",
        "\n",
        "Si dejamos que el modelo entrene con esas diferencias tan grandes, le va a dar más importancia a las columnas con números grandes, aunque no necesariamente sean más importantes."
      ],
      "metadata": {
        "id": "D85WlXtAVSuI"
      },
      "id": "D85WlXtAVSuI"
    },
    {
      "cell_type": "markdown",
      "source": [
        "**¿Qué cambia?**\n",
        "Si antes tenías una columna como \"edad\" con valores como 40, 50, 60…\n",
        "Y otra columna como \"presión\" con valores 1.2, 1.4, 1.3…\n",
        "\n",
        "Después del escalado, ambas van a tener valores parecidos (por ejemplo, -1 a 1), para que el modelo no se sesgue por los tamaños."
      ],
      "metadata": {
        "id": "n0JChQFOVbfk"
      },
      "id": "n0JChQFOVbfk"
    },
    {
      "id": "52e2b861",
      "cell_type": "code",
      "metadata": {
        "id": "52e2b861"
      },
      "execution_count": 10,
      "source": [
        "X_train, X_test, y_train, y_test = train_test_split(\n",
        "    X_scaled, y, test_size=0.2, random_state=42, stratify=y\n",
        ")"
      ],
      "outputs": []
    },
    {
      "cell_type": "markdown",
      "source": [
        "Esta línea divide nuestros datos en dos partes: una para entrenar el modelo y otra para probar si aprendió bien.\n",
        "\n",
        "¿Qué se está dividiendo?\n",
        "\n",
        "X_scaled: todas las variables con las que el modelo va a aprender (las entradas)\n",
        "\n",
        "y: la columna que queremos que el modelo aprenda a predecir (el resultado final)\n",
        "\n"
      ],
      "metadata": {
        "id": "MBJ_1C7cVhlx"
      },
      "id": "MBJ_1C7cVhlx"
    },
    {
      "cell_type": "markdown",
      "source": [
        "**¿Qué significa cada parte?**\n"
      ],
      "metadata": {
        "id": "QHZSpoU5Vpwo"
      },
      "id": "QHZSpoU5Vpwo"
    },
    {
      "cell_type": "markdown",
      "source": [
        "| Parte             | Qué hace                                                                                                          |\n",
        "| ----------------- | ----------------------------------------------------------------------------------------------------------------- |\n",
        "| `test_size=0.2`   | Usa el 20% de los datos para **evaluar**, y el 80% para **entrenar**                                              |\n",
        "| `random_state=42` | Asegura que la división sea **siempre igual** (útil para reproducir resultados)                                   |\n",
        "| `stratify=y`      | Se asegura de que **la proporción de clases (0 y 1)** sea parecida en ambos grupos (importante si hay desbalance) |\n"
      ],
      "metadata": {
        "id": "MBQaY2rTV6xG"
      },
      "id": "MBQaY2rTV6xG"
    },
    {
      "id": "664cdc1f",
      "cell_type": "code",
      "metadata": {
        "id": "664cdc1f"
      },
      "execution_count": 14,
      "source": [
        "model = LogisticRegression(max_iter=1000)\n",
        "model.fit(X_train, y_train)\n",
        "y_pred = model.predict(X_test)\n"
      ],
      "outputs": []
    },
    {
      "cell_type": "markdown",
      "source": [
        "*1. model = LogisticRegression(max_iter=1000)*\n",
        "\n",
        "Acá estoy creando un modelo de regresión logística, que es uno de los más simples y usados para clasificación binaria (por ejemplo: ¿esta persona tiene una enfermedad o no?).\n",
        "\n",
        "* Es como decir: “Voy a usar esta técnica de aprendizaje”.\n",
        "* max_iter=1000 significa que le damos más oportunidades para aprender si los datos son complejos.\n",
        "\n",
        "2. model.fit(X_train, y_train)\n",
        "\n",
        "Acá le enseño al modelo con los datos de entrenamiento:\n",
        "le muestro los síntomas (X_train) y le digo cuál fue el resultado real (y_train).\n",
        "* El modelo aprende patrones entre variables y resultados.\n",
        "* Por ejemplo: personas con ciertas combinaciones de edad, colesterol y presión tienden a tener o no tener la condición.\n",
        "\n",
        "3. y_pred = model.predict(X_test)\n",
        "\n",
        "Y ahora le muestro nuevos pacientes (X_test) que nunca había visto, y le pido que me diga qué cree que va a pasar con ellos.\n",
        "* El modelo hace predicciones (0 o 1).\n",
        "* Esa respuesta se guarda en y_pred."
      ],
      "metadata": {
        "id": "QjLNL70xWKid"
      },
      "id": "QjLNL70xWKid"
    },
    {
      "id": "fc5d0d9b",
      "cell_type": "code",
      "metadata": {
        "colab": {
          "base_uri": "https://localhost:8080/"
        },
        "id": "fc5d0d9b",
        "outputId": "93ee40dd-8688-49b3-831b-599b7a1fa6bd"
      },
      "execution_count": 15,
      "source": [
        "print(\"Reporte de clasificación:\")\n",
        "print(classification_report(y_test, y_pred))\n"
      ],
      "outputs": [
        {
          "output_type": "stream",
          "name": "stdout",
          "text": [
            "Reporte de clasificación:\n",
            "              precision    recall  f1-score   support\n",
            "\n",
            "           0       0.86      0.68      0.76        28\n",
            "           1       0.77      0.91      0.83        33\n",
            "\n",
            "    accuracy                           0.80        61\n",
            "   macro avg       0.82      0.79      0.80        61\n",
            "weighted avg       0.81      0.80      0.80        61\n",
            "\n"
          ]
        }
      ]
    },
    {
      "cell_type": "markdown",
      "source": [
        "**Resumen general:**"
      ],
      "metadata": {
        "id": "Q96VKYOfWw9O"
      },
      "id": "Q96VKYOfWw9O"
    },
    {
      "cell_type": "markdown",
      "source": [
        "| Métrica                     | Resultado                                          |\n",
        "| --------------------------- | -------------------------------------------------- |\n",
        "| Accuracy (exactitud global) | **0.80** → el modelo acierta en 8 de cada 10 casos |\n"
      ],
      "metadata": {
        "id": "tt0DlPumWpId"
      },
      "id": "tt0DlPumWpId"
    },
    {
      "cell_type": "markdown",
      "source": [
        "Análisis por clase:\n",
        "\n",
        "Clase 0 (por ejemplo, personas con la enfermedad):\n",
        "* Precision: 0.86 → cuando el modelo dice “tiene la enfermedad”, acierta el 86% de las veces.\n",
        "* Recall: 0.68 → de todos los que realmente tenían la enfermedad, solo detectó el 68%.\n",
        "* F1-score: 0.76 → rendimiento moderado, penalizado por ese recall bajo.\n",
        "\n",
        "El modelo se le están escapando muchos positivos reales de la clase 0. Esto podría ser grave si estamos hablando de diagnósticos médicos.\n",
        "\n",
        "Clase 1 (por ejemplo, personas sanas):\n",
        "* Precision: 0.77 → de los que el modelo dijo “están sanos”, acertó el 77%.\n",
        "* Recall: 0.91 → detectó correctamente al 91% de los sanos.\n",
        "* F1-score: 0.83 → balanceado y bastante sólido.\n",
        "\n",
        "El modelo prefiere no equivocarse con los sanos, pero eso significa que es más conservador con los enfermos.\n",
        "\n",
        "Promedios:\n",
        "* Macro avg: promedio simple entre clases → F1 = 0.80\n",
        "* Weighted avg: ajusta por la cantidad de casos en cada clase → también 0.80\n",
        "\n"
      ],
      "metadata": {
        "id": "6i0U34kyW0P5"
      },
      "id": "6i0U34kyW0P5"
    },
    {
      "cell_type": "markdown",
      "source": [
        "# **Conclusión final:**\n",
        "* El modelo tiene buen desempeño general (80%), pero hay un desequilibrio importante: es mucho mejor detectando a los sanos que a los enfermos.\n",
        "\n",
        "* Si la clase 0 es la más importante (como en medicina), sería recomendable:\n",
        "  - Ajustar el umbral de decisión\n",
        "  - Probar otro modelo\n",
        "  - O usar técnicas para aumentar el recall de la clase 0"
      ],
      "metadata": {
        "id": "pMm5Onh3XiSL"
      },
      "id": "pMm5Onh3XiSL"
    },
    {
      "id": "5c00a2fa",
      "cell_type": "code",
      "metadata": {
        "colab": {
          "base_uri": "https://localhost:8080/",
          "height": 480
        },
        "id": "5c00a2fa",
        "outputId": "69761311-d8df-45db-80e2-731b8f08f0e6"
      },
      "execution_count": null,
      "source": [
        "import seaborn as sns\n",
        "import matplotlib.pyplot as plt\n",
        "from sklearn.metrics import ConfusionMatrixDisplay\n",
        "\n",
        "cm = confusion_matrix(y_test, y_pred)\n",
        "sns.heatmap(cm, annot=True, fmt=\"d\", cmap=\"Blues\", xticklabels=[\"No Enfermo\", \"Enfermo\"], yticklabels=[\"No Enfermo\", \"Enfermo\"])\n",
        "plt.xlabel(\"Predicción\")\n",
        "plt.ylabel(\"Real\")\n",
        "plt.title(\"Matriz de Confusión\")\n",
        "plt.show()\n"
      ],
      "outputs": [
        {
          "output_type": "display_data",
          "data": {
            "text/plain": [
              "<Figure size 640x480 with 2 Axes>"
            ],
            "image/png": "[encoded data removed]"
          },
          "metadata": {}
        }
      ]
    },
    {
      "cell_type": "markdown",
      "source": [
        "# **Análisis de la Matriz de Confusión**"
      ],
      "metadata": {
        "id": "TM_gsHEmX1EP"
      },
      "id": "TM_gsHEmX1EP"
    },
    {
      "cell_type": "markdown",
      "source": [
        "**¿Qué nos dice esta matriz?**\n",
        "\n",
        "Detecta correctamente a la mayoría de los enfermos:\n",
        "→ 30 personas enfermas fueron correctamente clasificadas.\n",
        "\n",
        "Tiene algunos errores al clasificar sanos:\n",
        "→ 9 personas no enfermas fueron clasificadas erróneamente como enfermas.\n",
        "\n",
        "Solo se le escaparon 3 enfermos reales (falsos negativos), lo cual es aceptable, aunque siempre preocupante en contextos clínicos."
      ],
      "metadata": {
        "id": "R9NLY1z4X6g8"
      },
      "id": "R9NLY1z4X6g8"
    },
    {
      "cell_type": "markdown",
      "source": [
        "**Métricas clave implícitas**\n",
        "* Recall (para enfermos) ≈ 30 / (30 + 3) ≈ 0.91\n",
        "→ El modelo detecta al 91 % de los enfermos reales.\n",
        "* Precision (para enfermos) ≈ 30 / (30 + 9) ≈ 0.77\n",
        "→ De todos los que dijo que estaban enfermos, el 77 % realmente lo estaban."
      ],
      "metadata": {
        "id": "SRyjARCsYEhA"
      },
      "id": "SRyjARCsYEhA"
    },
    {
      "cell_type": "markdown",
      "source": [
        "# Conclusión final"
      ],
      "metadata": {
        "id": "nCA6V47RYN9a"
      },
      "id": "nCA6V47RYN9a"
    },
    {
      "cell_type": "markdown",
      "source": [
        "El modelo está priorizando detectar a los enfermos (alto recall), lo cual es bueno si estamos en un contexto de salud donde es mejor “prevenir que curar”.\n",
        "\n",
        "Sin embargo, está generando algunos falsos positivos (gente sana que el modelo clasifica como enferma), lo que podría implicar más exámenes innecesarios o ansiedad para esas personas."
      ],
      "metadata": {
        "id": "9q85h864YPxk"
      },
      "id": "9q85h864YPxk"
    }
  ]
}