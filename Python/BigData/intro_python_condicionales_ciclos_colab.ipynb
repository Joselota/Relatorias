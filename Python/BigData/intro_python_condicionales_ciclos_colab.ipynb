{
 "cells": [
  {
   "cell_type": "markdown",
   "id": "170315dc",
   "metadata": {},
   "source": [
    "# Introducción a Python — Condicionales y Ciclos (Colab)\n",
    "Tres ejemplos listos para clase:\n",
    "\n",
    "1. **`if`** para clasificar temperaturas como “normal”, “febrícula” o “fiebre”.\n",
    "2. **`for`** para recorrer una lista de pacientes e imprimir sus edades.\n",
    "3. **`while`** para imprimir turnos hasta llegar a un número límite.\n",
    "\n",
    "> Puedes ejecutar cada celda por separado en Google Colab.\n"
   ]
  },
  {
   "cell_type": "markdown",
   "id": "80fa249d",
   "metadata": {},
   "source": [
    "## 1) `if` — Clasificar temperaturas\n",
    "**Regla usada (referencial para el ejercicio):**\n",
    "- `normal` : `< 37.5 °C`\n",
    "- `febrícula`: `≥ 37.5 °C y < 38.0 °C`\n",
    "- `fiebre`: `≥ 38.0 °C`\n",
    "\n",
    "> Ajusta los umbrales si tu institución usa otros.\n"
   ]
  },
  {
   "cell_type": "code",
   "execution_count": null,
   "id": "9ead960e",
   "metadata": {},
   "outputs": [],
   "source": [
    "# Ejemplo simple: clasificar una sola temperatura\n",
    "temp = 37.8  # cambia este valor para probar\n",
    "\n",
    "if temp < 37.5:\n",
    "    clasificacion = \"normal\"\n",
    "elif temp < 38.0:\n",
    "    clasificacion = \"febrícula\"\n",
    "else:\n",
    "    clasificacion = \"fiebre\"\n",
    "\n",
    "print(f\"Temperatura: {temp} °C → {clasificacion}\")\n"
   ]
  },
  {
   "cell_type": "code",
   "execution_count": null,
   "id": "994ded01",
   "metadata": {},
   "outputs": [],
   "source": [
    "# Versión interactiva (opcional): ingresar por teclado\n",
    "# Descomenta estas líneas si quieres pedir el valor durante la ejecución.\n",
    "# try:\n",
    "#     t = float(input(\"Ingresa temperatura (°C): \"))\n",
    "#     if t < 37.5:\n",
    "#         c = \"normal\"\n",
    "#     elif t < 38.0:\n",
    "#         c = \"febrícula\"\n",
    "#     else:\n",
    "#         c = \"fiebre\"\n",
    "#     print(f\"Temperatura: {t} °C → {c}\")\n",
    "# except ValueError:\n",
    "#     print(\"Dato inválido: ingresa un número (usa punto decimal).\")\n"
   ]
  },
  {
   "cell_type": "markdown",
   "id": "94121c3a",
   "metadata": {},
   "source": [
    "## 2) `for` — Recorrer una lista de pacientes e imprimir edades\n",
    "Usaremos una lista de diccionarios, donde cada elemento representa un paciente.\n"
   ]
  },
  {
   "cell_type": "code",
   "execution_count": null,
   "id": "ca82e2c7",
   "metadata": {},
   "outputs": [],
   "source": [
    "pacientes = [\n",
    "    {\"nombre\": \"Ingrid\", \"edad\": 30, \"rut\": \"12.345.678-9\"},\n",
    "    {\"nombre\": \"Alexis\", \"edad\": 42, \"rut\": \"9.876.543-2\"},\n",
    "    {\"nombre\": \"Camila\", \"edad\": 25, \"rut\": \"22.333.444-5\"},\n",
    "]\n",
    "\n",
    "for p in pacientes:\n",
    "    print(f\"{p['nombre']} → {p['edad']} años\")\n"
   ]
  },
  {
   "cell_type": "code",
   "execution_count": null,
   "id": "72fb08d3",
   "metadata": {},
   "outputs": [],
   "source": [
    "# Extra: mostrar además el promedio de edades\n",
    "edades = [p[\"edad\"] for p in pacientes]\n",
    "promedio = sum(edades) / len(edades)\n",
    "print(f\"Promedio de edades: {promedio:.1f} años\")\n"
   ]
  },
  {
   "cell_type": "markdown",
   "id": "0877dcdb",
   "metadata": {},
   "source": [
    "## 3) `while` — Imprimir turnos hasta un límite\n",
    "Tenemos turnos rotativos: `mañana`, `tarde`, `noche`.  \n",
    "Imprimiremos turnos hasta llegar a un **límite** (contador).\n"
   ]
  },
  {
   "cell_type": "code",
   "execution_count": null,
   "id": "cc21011c",
   "metadata": {},
   "outputs": [],
   "source": [
    "turnos = [\"mañana\", \"tarde\", \"noche\"]\n",
    "limite = 7                # ¿cuántos turnos quieres imprimir?\n",
    "i = 0                     # contador total de turnos impresos\n",
    "idx = 0                   # índice para la lista de turnos\n",
    "\n",
    "while i < limite:\n",
    "    print(f\"Turno {i+1}: {turnos[idx]}\")\n",
    "    i += 1                # avanzamos el contador\n",
    "    idx = (idx + 1) % len(turnos)  # rotamos entre 0,1,2\n"
   ]
  },
  {
   "cell_type": "code",
   "execution_count": null,
   "id": "11981491",
   "metadata": {},
   "outputs": [],
   "source": [
    "# Versión con validación básica por teclado (opcional):\n",
    "# try:\n",
    "#     limite = int(input(\"¿Cuántos turnos imprimir? \"))\n",
    "#     turnos = [\"mañana\", \"tarde\", \"noche\"]\n",
    "#     i, idx = 0, 0\n",
    "#     while i < limite:\n",
    "#         print(f\"Turno {i+1}: {turnos[idx]}\")\n",
    "#         i += 1\n",
    "#         idx = (idx + 1) % len(turnos)\n",
    "# except ValueError:\n",
    "#     print(\"Dato inválido: ingresa un número entero.\")\n"
   ]
  },
  {
   "cell_type": "markdown",
   "id": "82aa163a",
   "metadata": {},
   "source": [
    "---\n",
    "### Sugerencias didácticas\n",
    "- Pide a los estudiantes **probar** con varios valores (temperatura y límites).\n",
    "- Invita a **modificar** la lista de pacientes y agregar nuevos campos.\n",
    "- Muestra cómo **fallan** los programas (errores de tipeo, tipos de datos) y cómo manejarlos.\n"
   ]
  }
 ],
 "metadata": {},
 "nbformat": 4,
 "nbformat_minor": 5
}
