{
 "cells": [
  {
   "cell_type": "markdown",
   "id": "915b65b0",
   "metadata": {},
   "source": [
    "# Introducción a Python — Ejercicios básicos\n",
    "\n",
    "Notebook para Google Colab. Cuatro ejercicios cortos para practicar listas, diccionarios y conjuntos (`set`)."
   ]
  },
  {
   "cell_type": "markdown",
   "id": "b298c426",
   "metadata": {},
   "source": [
    "## Ejercicio 1\n",
    "**Crear una lista con 3 frutas y mostrar la segunda.**\n",
    "\n",
    "*Pista:* en Python los índices comienzan en `0`, así que el segundo elemento está en el índice `1`."
   ]
  },
  {
   "cell_type": "code",
   "execution_count": null,
   "id": "d59b970a",
   "metadata": {},
   "outputs": [],
   "source": [
    "# Escribe tu solución aquí\n",
    "frutas = [\"manzana\", \"banana\", \"kiwi\"]  # puedes cambiar las frutas\n",
    "print(frutas[1])  # debería imprimir la segunda fruta\n"
   ]
  },
  {
   "cell_type": "markdown",
   "id": "6bc65b5f",
   "metadata": {},
   "source": [
    "## Ejercicio 2\n",
    "**Crear un diccionario de un paciente e imprimir su edad.**\n",
    "\n",
    "El diccionario debe tener al menos: `nombre`, `edad`, `rut`."
   ]
  },
  {
   "cell_type": "code",
   "execution_count": null,
   "id": "4424c964",
   "metadata": {},
   "outputs": [],
   "source": [
    "# Escribe tu solución aquí\n",
    "paciente = {\n",
    "    \"nombre\": \"Ingrid\",\n",
    "    \"edad\": 30,\n",
    "    \"rut\": \"12.345.678-9\"\n",
    "}\n",
    "print(paciente[\"edad\"])\n"
   ]
  },
  {
   "cell_type": "markdown",
   "id": "81e7ba2b",
   "metadata": {},
   "source": [
    "## Ejercicio 3\n",
    "**Agregar un nuevo campo `enfermedad` al diccionario.**\n",
    "\n",
    "Usa el diccionario `paciente` del ejercicio anterior y agrega una clave nueva llamada `enfermedad` con algún valor (por ejemplo, `'hipertensión'`)."
   ]
  },
  {
   "cell_type": "code",
   "execution_count": null,
   "id": "e827e79a",
   "metadata": {},
   "outputs": [],
   "source": [
    "# Escribe tu solución aquí\n",
    "# Partimos del diccionario 'paciente' ya creado\n",
    "paciente[\"enfermedad\"] = \"hipertensión\"  # puedes cambiar el valor\n",
    "print(paciente)\n"
   ]
  },
  {
   "cell_type": "markdown",
   "id": "c533dd5f",
   "metadata": {},
   "source": [
    "## Ejercicio 4\n",
    "**Mostrar cuántos turnos distintos hay usando un `set`.**\n",
    "\n",
    "Supón que tienes una lista de turnos (con valores repetidos). Convierte la lista a un `set` para quedarte solo con los valores únicos y cuenta cuántos hay."
   ]
  },
  {
   "cell_type": "code",
   "execution_count": null,
   "id": "368669c0",
   "metadata": {},
   "outputs": [],
   "source": [
    "# Escribe tu solución aquí\n",
    "turnos = [\"mañana\", \"tarde\", \"noche\", \"mañana\", \"tarde\", \"tarde\"]  # ejemplo con duplicados\n",
    "turnos_unicos = set(turnos)\n",
    "print(\"Turnos distintos:\", len(turnos_unicos))\n",
    "print(\"Detalle:\", turnos_unicos)\n"
   ]
  },
  {
   "cell_type": "markdown",
   "id": "b27609c2",
   "metadata": {},
   "source": [
    "## (Opcional) Validación rápida\n",
    "Solo para que veas salidas de ejemplo al ejecutar todas las celdas arriba."
   ]
  }
 ],
 "metadata": {},
 "nbformat": 4,
 "nbformat_minor": 5
}
