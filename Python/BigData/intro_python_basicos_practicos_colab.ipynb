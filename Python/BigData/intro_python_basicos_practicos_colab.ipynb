{
 "cells": [
  {
   "cell_type": "markdown",
   "id": "d2d6582b",
   "metadata": {},
   "source": [
    "# Introducción a Python — Básicos y primeros pasos (Colab)\n",
    "\n",
    "Este notebook acompaña las láminas:\n",
    "1. **Conceptos básicos**: variables y tipos.\n",
    "2. **Conceptos básicos**: operadores y entrada/salida.\n",
    "3. **Primeros pasos**: imprimir y operaciones simples.\n",
    "4. **Pequeño ejercicio**: área de un rectángulo.\n",
    "\n",
    "Además incluye **ejemplos extra** para practicar en clase.\n"
   ]
  },
  {
   "cell_type": "markdown",
   "id": "595da0f0",
   "metadata": {},
   "source": [
    "## 1) Conceptos básicos — Variables y tipos"
   ]
  },
  {
   "cell_type": "code",
   "execution_count": null,
   "id": "20dfa071",
   "metadata": {},
   "outputs": [],
   "source": [
    "# Variables (puedes cambiar los valores)\n",
    "nombre = \"Ingrid\"\n",
    "edad = 30\n",
    "altura = 1.68\n",
    "es_estudiante = True\n",
    "\n",
    "print(nombre, edad, altura, es_estudiante)"
   ]
  },
  {
   "cell_type": "code",
   "execution_count": null,
   "id": "cb9557eb",
   "metadata": {},
   "outputs": [],
   "source": [
    "# Tipos de datos y función type()\n",
    "print(type(nombre))        # <class 'str'>\n",
    "print(type(edad))          # <class 'int'>\n",
    "print(type(altura))        # <class 'float'>\n",
    "print(type(es_estudiante)) # <class 'bool'>"
   ]
  },
  {
   "cell_type": "code",
   "execution_count": null,
   "id": "c89ea41e",
   "metadata": {},
   "outputs": [],
   "source": [
    "# Conversión de tipos (casting)\n",
    "anio = \"2025\"\n",
    "anio_num = int(anio)       # de str a int\n",
    "print(anio_num, type(anio_num))\n",
    "\n",
    "pi = 3.14159\n",
    "pi_str = str(pi)           # de float a str\n",
    "print(pi_str, type(pi_str))"
   ]
  },
  {
   "cell_type": "markdown",
   "id": "7dc27976",
   "metadata": {},
   "source": [
    "## 2) Conceptos básicos — Operadores y entrada/salida"
   ]
  },
  {
   "cell_type": "code",
   "execution_count": null,
   "id": "5810df3c",
   "metadata": {},
   "outputs": [],
   "source": [
    "# Operadores matemáticos\n",
    "a, b = 7, 3\n",
    "print(\"a+b =\", a + b)\n",
    "print(\"a-b =\", a - b)\n",
    "print(\"a*b =\", a * b)\n",
    "print(\"a/b =\", a / b)    # división float\n",
    "print(\"a//b =\", a // b)  # división entera\n",
    "print(\"a%b =\", a % b)    # módulo\n",
    "print(\"a**b =\", a ** b)  # potencia"
   ]
  },
  {
   "cell_type": "code",
   "execution_count": null,
   "id": "fd04b555",
   "metadata": {},
   "outputs": [],
   "source": [
    "# Operadores de comparación + lógicos\n",
    "x = 10\n",
    "print(x > 5, x == 10, x != 8)         # True True True\n",
    "print((x > 5) and (x < 20))           # True\n",
    "print((x < 5) or (x == 10))           # True\n",
    "print(not (x == 10))                  # False"
   ]
  },
  {
   "cell_type": "code",
   "execution_count": null,
   "id": "9191b206",
   "metadata": {},
   "outputs": [],
   "source": [
    "# Entrada y salida + f-strings\n",
    "# Descomenta para probar en Colab:\n",
    "# nombre = input(\"¿Cómo te llamas? \")\n",
    "# print(\"Hola\", nombre)\n",
    "# print(f\"Hola {nombre}, ¡bienvenida/o a Python!\")"
   ]
  },
  {
   "cell_type": "markdown",
   "id": "0f01e4ef",
   "metadata": {},
   "source": [
    "## 3) Primeros pasos — imprimir y operaciones simples"
   ]
  },
  {
   "cell_type": "code",
   "execution_count": null,
   "id": "50b9f87d",
   "metadata": {},
   "outputs": [],
   "source": [
    "print(\"Aprendiendo Python\")\n",
    "a, b = 5, 3\n",
    "print(a + b)   # 8\n",
    "print(a > b)   # True"
   ]
  },
  {
   "cell_type": "markdown",
   "id": "aca49e33",
   "metadata": {},
   "source": [
    "## 4) Pequeño ejercicio — área de un rectángulo\n",
    "\n",
    "> Pide `base` y `altura`, calcula el área y muéstrala.\n"
   ]
  },
  {
   "cell_type": "code",
   "execution_count": null,
   "id": "35d23d7d",
   "metadata": {},
   "outputs": [],
   "source": [
    "# Versión con valores fijos (rápida para mostrar en clase)\n",
    "base = 4.0\n",
    "altura = 2.5\n",
    "area = base * altura\n",
    "print(f\"Área del rectángulo = {area}\")"
   ]
  },
  {
   "cell_type": "code",
   "execution_count": null,
   "id": "12972355",
   "metadata": {},
   "outputs": [],
   "source": [
    "# Versión interactiva (descomenta para usar en Colab)\n",
    "# try:\n",
    "#     base = float(input(\"Base: \"))\n",
    "#     altura = float(input(\"Altura: \"))\n",
    "#     area = base * altura\n",
    "#     print(f\"Área = {area}\")\n",
    "# except ValueError:\n",
    "#     print(\"Dato inválido: usa números (punto decimal).\")"
   ]
  },
  {
   "cell_type": "markdown",
   "id": "d9d2133d",
   "metadata": {},
   "source": [
    "---\n",
    "# Ejemplos extra para practicar\n",
    "\n",
    "Ejercicios cortos que amplían lo visto.\n"
   ]
  },
  {
   "cell_type": "markdown",
   "id": "c9b89f11",
   "metadata": {},
   "source": [
    "### Extra 1) Círculo — área y perímetro"
   ]
  },
  {
   "cell_type": "code",
   "execution_count": null,
   "id": "dcbfa755",
   "metadata": {},
   "outputs": [],
   "source": [
    "import math\n",
    "r = 3.0\n",
    "area = math.pi * r**2\n",
    "perimetro = 2 * math.pi * r\n",
    "print(f\"r={r} → área={area:.2f}, perímetro={perimetro:.2f}\")"
   ]
  },
  {
   "cell_type": "markdown",
   "id": "f435f5c2",
   "metadata": {},
   "source": [
    "### Extra 2) Conversor °C ↔ °F"
   ]
  },
  {
   "cell_type": "code",
   "execution_count": null,
   "id": "9a150054",
   "metadata": {},
   "outputs": [],
   "source": [
    "c = 37.0\n",
    "f = c * 9/5 + 32\n",
    "print(f\"{c} °C = {f:.1f} °F\")"
   ]
  },
  {
   "cell_type": "markdown",
   "id": "98c78be3",
   "metadata": {},
   "source": [
    "### Extra 3) Promedio de 3 notas y clasificación"
   ]
  },
  {
   "cell_type": "code",
   "execution_count": null,
   "id": "bdf2b0a2",
   "metadata": {},
   "outputs": [],
   "source": [
    "n1, n2, n3 = 5.0, 6.0, 4.0\n",
    "prom = (n1 + n2 + n3) / 3\n",
    "if prom >= 6.0:\n",
    "    estado = \"Excelente\"\n",
    "elif prom >= 4.0:\n",
    "    estado = \"Aprobado\"\n",
    "else:\n",
    "    estado = \"Reprobado\"\n",
    "print(f\"Promedio={prom:.2f} → {estado}\")"
   ]
  },
  {
   "cell_type": "markdown",
   "id": "1f6b92c9",
   "metadata": {},
   "source": [
    "### Extra 4) Mayoría de edad"
   ]
  },
  {
   "cell_type": "code",
   "execution_count": null,
   "id": "482ad953",
   "metadata": {},
   "outputs": [],
   "source": [
    "edad = 17\n",
    "print(\"Mayor de edad\" if edad >= 18 else \"Menor de edad\")"
   ]
  },
  {
   "cell_type": "markdown",
   "id": "7bf07aeb",
   "metadata": {},
   "source": [
    "### Extra 5) Texto — iniciales y longitud"
   ]
  },
  {
   "cell_type": "code",
   "execution_count": null,
   "id": "605d8ac7",
   "metadata": {},
   "outputs": [],
   "source": [
    "nombre_completo = \"Ingrid Solís\"\n",
    "iniciales = nombre_completo[0] + nombre_completo.split()[-1][0]\n",
    "print(\"Iniciales:\", iniciales.upper())\n",
    "print(\"Longitud:\", len(nombre_completo))"
   ]
  },
  {
   "cell_type": "markdown",
   "id": "4f8e3540",
   "metadata": {},
   "source": [
    "### Extra 6) Suma de 1..N con `for`"
   ]
  },
  {
   "cell_type": "code",
   "execution_count": null,
   "id": "3cde9b69",
   "metadata": {},
   "outputs": [],
   "source": [
    "N = 10\n",
    "suma = 0\n",
    "for i in range(1, N+1):\n",
    "    suma += i\n",
    "print(f\"Suma 1..{N} = {suma}\")"
   ]
  },
  {
   "cell_type": "markdown",
   "id": "a6ffc88a",
   "metadata": {},
   "source": [
    "### Extra 7) Mini calculadora (+, -, *, /)"
   ]
  },
  {
   "cell_type": "code",
   "execution_count": null,
   "id": "96f9759a",
   "metadata": {},
   "outputs": [],
   "source": [
    "op, x, y = \"+\", 10, 5\n",
    "if op == \"+\":\n",
    "    print(x + y)\n",
    "elif op == \"-\":\n",
    "    print(x - y)\n",
    "elif op == \"*\":\n",
    "    print(x * y)\n",
    "elif op == \"/\":\n",
    "    print(x / y)\n",
    "else:\n",
    "    print(\"Operación no válida\")"
   ]
  },
  {
   "cell_type": "markdown",
   "id": "5de0d778",
   "metadata": {},
   "source": [
    "### Extra 8) `while` — pedir PIN (máx. 3 intentos)"
   ]
  },
  {
   "cell_type": "code",
   "execution_count": null,
   "id": "93db5cbc",
   "metadata": {},
   "outputs": [],
   "source": [
    "pin_correcto = \"1234\"\n",
    "intentos = 0\n",
    "# Descomenta para probar en Colab (pedirá input)\n",
    "# while intentos < 3:\n",
    "#     pin = input(\"Ingresa PIN: \")\n",
    "#     if pin == pin_correcto:\n",
    "#         print(\"Acceso concedido\")\n",
    "#         break\n",
    "#     intentos += 1\n",
    "# else:\n",
    "#     print(\"Acceso bloqueado\")"
   ]
  },
  {
   "cell_type": "markdown",
   "id": "56c7d647",
   "metadata": {},
   "source": [
    "---\n",
    "## Sugerencias didácticas\n",
    "- Pide que cambien valores y observen el resultado.\n",
    "- Muestren **errores comunes** (por ejemplo, `ValueError` al convertir) y cómo evitarlos.\n",
    "- Introduce gradualmente **f-strings**, `math`, y el uso de `try/except`.\n"
   ]
  }
 ],
 "metadata": {},
 "nbformat": 4,
 "nbformat_minor": 5
}
