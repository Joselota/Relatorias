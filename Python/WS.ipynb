{
  "nbformat": 4,
  "nbformat_minor": 0,
  "metadata": {
    "colab": {
      "provenance": []
    },
    "kernelspec": {
      "name": "python3",
      "display_name": "Python 3"
    },
    "language_info": {
      "name": "python"
    }
  },
  "cells": [
    {
      "cell_type": "code",
      "execution_count": 1,
      "metadata": {
        "colab": {
          "base_uri": "https://localhost:8080/"
        },
        "id": "6UUt7MD-kPWG",
        "outputId": "c3d9e374-40cd-4232-b59c-26dc20926352"
      },
      "outputs": [
        {
          "output_type": "stream",
          "name": "stdout",
          "text": [
            "El título H1 de la página es: All products\n"
          ]
        }
      ],
      "source": [
        "import requests\n",
        "from bs4 import BeautifulSoup\n",
        "import pandas as pd\n",
        "\n",
        "# 1. Hago la petición\n",
        "url = \"http://books.toscrape.com/\"\n",
        "response = requests.get(url)\n",
        "\n",
        "# 2. Creo la \"sopa\" (el objeto parseado)\n",
        "soup = BeautifulSoup(response.text, 'html.parser')\n",
        "\n",
        "# 3. ¡Empiezo a buscar!\n",
        "titulo = soup.find('h1').get_text()\n",
        "print(f\"El título H1 de la página es: {titulo}\")"
      ]
    },
    {
      "cell_type": "code",
      "source": [
        "\n",
        "# 3. ¡Empiezo a buscar y a extraer la lista de datos!\n",
        "# Queremos extraer TÍTULOS y PRECIOS de los libros\n",
        "\n",
        "lista_libros = [] # Una lista para guardar los diccionarios de datos\n",
        "elementos_articulos = soup.find_all('article', class_='product_pod') # Busco todos los contenedores de libros\n",
        "\n",
        "next_button = soup.find('li', class_='next')\n",
        "\n",
        "for articulo in elementos_articulos:\n",
        "    # 3.1 Extraer el título del libro\n",
        "    titulo = articulo.h3.a.attrs['title']\n",
        "\n",
        "    # 3.2 Extraer el precio (está en una etiqueta <p> con la clase 'price_color')\n",
        "    precio_str = articulo.find('p', class_='price_color').get_text(strip=True)\n",
        "\n",
        "    # 3.3 Limpiar y convertir el precio (eliminar el símbolo de moneda)\n",
        "    precio_limpio = precio_str.replace('£', '')\n",
        "\n",
        "    # 3.4 Almacenar en la lista\n",
        "    lista_libros.append({\n",
        "        'Titulo_Libro': titulo,\n",
        "        'Precio_Euros': precio_limpio\n",
        "    })\n",
        "\n",
        "# 4. Estructurar con Pandas (paso a DataFrame)\n",
        "df = pd.DataFrame(lista_libros)\n",
        "\n",
        "\n"
      ],
      "metadata": {
        "id": "JPbohSnul5Iv"
      },
      "execution_count": 2,
      "outputs": []
    },
    {
      "cell_type": "code",
      "source": [
        "# 5. Exploración final (como lo harían en EDA)\n",
        "print(\"\\n--- Vista Preliminar del DataFrame ---\")\n",
        "print(df.head(10))\n"
      ],
      "metadata": {
        "colab": {
          "base_uri": "https://localhost:8080/"
        },
        "id": "_kwcXpDlmq23",
        "outputId": "71b6d6db-c7d5-48c5-8ec0-17186fa7a995"
      },
      "execution_count": 3,
      "outputs": [
        {
          "output_type": "stream",
          "name": "stdout",
          "text": [
            "\n",
            "--- Vista Preliminar del DataFrame ---\n",
            "                                        Titulo_Libro Precio_Euros\n",
            "0                               A Light in the Attic       Â51.77\n",
            "1                                 Tipping the Velvet       Â53.74\n",
            "2                                         Soumission       Â50.10\n",
            "3                                      Sharp Objects       Â47.82\n",
            "4              Sapiens: A Brief History of Humankind       Â54.23\n",
            "5                                    The Requiem Red       Â22.65\n",
            "6  The Dirty Little Secrets of Getting Your Dream...       Â33.34\n",
            "7  The Coming Woman: A Novel Based on the Life of...       Â17.93\n",
            "8  The Boys in the Boat: Nine Americans and Their...       Â22.60\n",
            "9                                    The Black Maria       Â52.15\n"
          ]
        }
      ]
    }
  ]
}