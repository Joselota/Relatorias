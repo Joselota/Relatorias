{
  "cells": [
    {
      "cell_type": "markdown",
      "id": "8cae058c",
      "metadata": {
        "id": "8cae058c"
      },
      "source": [
        "\n",
        "# 🚗 Regresión Lineal con Regularización — **Auto MPG** (Scikit-Learn)\n",
        "\n",
        "Este cuaderno expande el ejemplo de *Regresión Lineal* añadiendo **regularización**:\n",
        "- **Ridge** (L2): reduce la varianza y encoge coeficientes grandes.\n",
        "- **Lasso** (L1): además puede llevar algunos coeficientes exactamente a **cero** (selección de variables).\n",
        "\n",
        "Flujo:\n",
        "\n",
        "1) Carga y limpieza básica del dataset `mpg`  \n",
        "2) Preprocesamiento con `OneHotEncoder` para `origin`  \n",
        "3) Modelos: `LinearRegression`, `RidgeCV`, `LassoCV` (con `StandardScaler`)  \n",
        "4) Evaluación en *test*: MAE, RMSE, R²  \n",
        "5) Comparación visual de coeficientes\n"
      ]
    },
    {
      "cell_type": "code",
      "execution_count": null,
      "id": "601a11fb",
      "metadata": {
        "id": "601a11fb"
      },
      "outputs": [],
      "source": [
        "\n",
        "import numpy as np\n",
        "import pandas as pd\n",
        "import matplotlib.pyplot as plt\n",
        "\n",
        "from sklearn.model_selection import train_test_split\n",
        "from sklearn.preprocessing import OneHotEncoder, StandardScaler\n",
        "from sklearn.compose import ColumnTransformer\n",
        "from sklearn.pipeline import Pipeline\n",
        "from sklearn.linear_model import LinearRegression, RidgeCV, LassoCV\n",
        "from sklearn.metrics import mean_absolute_error, mean_squared_error, r2_score\n"
      ]
    },
    {
      "cell_type": "markdown",
      "id": "b6821ba2",
      "metadata": {
        "id": "b6821ba2"
      },
      "source": [
        "## 1) Carga y limpieza"
      ]
    },
    {
      "cell_type": "code",
      "execution_count": null,
      "id": "85ac972f",
      "metadata": {
        "id": "85ac972f"
      },
      "outputs": [],
      "source": [
        "\n",
        "url = \"https://raw.githubusercontent.com/mwaskom/seaborn-data/master/mpg.csv\"\n",
        "df = pd.read_csv(url)\n"
      ]
    },
    {
      "cell_type": "markdown",
      "source": [
        "| Columna          | Significado                                                                                                                                                                  |\n",
        "| ---------------- | ---------------------------------------------------------------------------------------------------------------------------------------------------------------------------- |\n",
        "| **mpg**          | *Miles per gallon* — Rendimiento de combustible en millas por galón. Es la **variable objetivo**.                                                                            |\n",
        "| **cylinders**    | Número de cilindros del motor (4, 6, 8, etc.). Variable categórica numérica.                                                                                                 |\n",
        "| **displacement** | Cilindrada total del motor en pulgadas cúbicas (*cubic inches*). Relacionada con el tamaño del motor.                                                                        |\n",
        "| **horsepower**   | Potencia del motor en caballos de fuerza (*horsepower*).                                                                                                                     |\n",
        "| **weight**       | Peso del vehículo en libras (*pounds*).                                                                                                                                      |\n",
        "| **acceleration** | Tiempo (en segundos) que tarda el coche en pasar de 0 a 60 mph.                                                                                                              |\n",
        "| **model\\_year**  | Año del modelo (por ejemplo, 70 = 1970, 82 = 1982).                                                                                                                          |\n",
        "| **origin**       | Región de origen del auto: 1 = USA, 2 = Europa, 3 = Japón.                                                                                                                   |\n",
        "| **name**         | Nombre y modelo del automóvil (texto libre). Normalmente no se usa directamente como variable de entrada, o se convierte a indicadores de marca/modelo si se quiere incluir. |\n"
      ],
      "metadata": {
        "id": "Y0DEjYWh4QR8"
      },
      "id": "Y0DEjYWh4QR8"
    },
    {
      "cell_type": "code",
      "source": [
        "cols_needed = [\"mpg\",\"cylinders\",\"displacement\",\"horsepower\",\"weight\",\"acceleration\",\"model_year\",\"origin\"]\n",
        "df = df[cols_needed].dropna().copy()\n",
        "\n",
        "target = \"mpg\"\n",
        "y = df[target].values\n",
        "num_features = [\"cylinders\",\"displacement\",\"horsepower\",\"weight\",\"acceleration\",\"model_year\"]\n",
        "cat_features = [\"origin\"]\n",
        "X = df[num_features + cat_features]"
      ],
      "metadata": {
        "id": "3fteFDQR4U0c"
      },
      "id": "3fteFDQR4U0c",
      "execution_count": null,
      "outputs": []
    },
    {
      "cell_type": "markdown",
      "id": "f6ffb6df",
      "metadata": {
        "id": "f6ffb6df"
      },
      "source": [
        "## 2) Train/Test split"
      ]
    },
    {
      "cell_type": "code",
      "execution_count": null,
      "id": "36ef189d",
      "metadata": {
        "colab": {
          "base_uri": "https://localhost:8080/"
        },
        "id": "36ef189d",
        "outputId": "643714eb-a138-4e0e-9fcc-b765dcfbacb7"
      },
      "outputs": [
        {
          "output_type": "execute_result",
          "data": {
            "text/plain": [
              "((313, 7), (79, 7))"
            ]
          },
          "metadata": {},
          "execution_count": 3
        }
      ],
      "source": [
        "\n",
        "X_train, X_test, y_train, y_test = train_test_split(\n",
        "    X, y, test_size=0.2, random_state=42\n",
        ")\n",
        "X_train.shape, X_test.shape\n"
      ]
    },
    {
      "cell_type": "markdown",
      "id": "ff8f83cb",
      "metadata": {
        "id": "ff8f83cb"
      },
      "source": [
        "## 3) Preprocesamiento"
      ]
    },
    {
      "cell_type": "code",
      "execution_count": null,
      "id": "546e41d7",
      "metadata": {
        "id": "546e41d7"
      },
      "outputs": [],
      "source": [
        "\n",
        "# One-Hot para la categórica + passthrough numéricas\n",
        "ohe = ColumnTransformer(\n",
        "    transformers=[(\"cat\", OneHotEncoder(drop=\"first\", sparse_output=False), cat_features)],\n",
        "    remainder=\"passthrough\"\n",
        ")\n",
        "\n",
        "# Escalado posterior a OHE (para regularización estable)\n",
        "preprocess = Pipeline(steps=[\n",
        "    (\"ohe\", ohe),\n",
        "    (\"scaler\", StandardScaler())\n",
        "])\n"
      ]
    },
    {
      "cell_type": "markdown",
      "id": "a3ebe0ea",
      "metadata": {
        "id": "a3ebe0ea"
      },
      "source": [
        "## 4) Modelos y entrenamiento"
      ]
    },
    {
      "cell_type": "code",
      "execution_count": null,
      "id": "b7149be8",
      "metadata": {
        "colab": {
          "base_uri": "https://localhost:8080/"
        },
        "id": "b7149be8",
        "outputId": "cce033d5-14c8-4e23-f4a4-c5e1a338fe1a"
      },
      "outputs": [
        {
          "output_type": "stream",
          "name": "stdout",
          "text": [
            "MAE | RMSE | R2\n",
            "Linear: [2.462, 3.2561, 0.7923]\n",
            "Ridge : [2.4658, 3.2807, 0.7891] alpha* = 2.976351441631316\n",
            "Lasso : [2.4746, 3.3042, 0.7861] alpha* = 0.08531678524172806\n"
          ]
        }
      ],
      "source": [
        "\n",
        "# Lineal sin regularización\n",
        "lin = Pipeline(steps=[(\"prep\", preprocess),\n",
        "                     (\"model\", LinearRegression())])\n",
        "lin.fit(X_train, y_train)\n",
        "\n",
        "# Ridge con búsqueda de alpha vía CV\n",
        "ridge_alphas = np.logspace(-3, 3, 20)\n",
        "ridge = Pipeline(steps=[(\"prep\", preprocess),\n",
        "                       (\"model\", RidgeCV(alphas=ridge_alphas, cv=5))])\n",
        "ridge.fit(X_train, y_train)\n",
        "\n",
        "# Lasso con búsqueda de alpha vía CV\n",
        "lasso = Pipeline(steps=[(\"prep\", preprocess),\n",
        "                       (\"model\", LassoCV(alphas=np.logspace(-3, 1, 30), cv=5, max_iter=10000))])\n",
        "lasso.fit(X_train, y_train)\n",
        "\n",
        "# Predicciones\n",
        "y_pred_lin   = lin.predict(X_test)\n",
        "y_pred_ridge = ridge.predict(X_test)\n",
        "y_pred_lasso = lasso.predict(X_test)\n",
        "\n",
        "def metrics(y_true, y_pred):\n",
        "    mae = mean_absolute_error(y_true, y_pred)\n",
        "    rmse = mean_squared_error(y_true, y_pred) ** 0.5\n",
        "    r2 = r2_score(y_true, y_pred)\n",
        "    return mae, rmse, r2\n",
        "\n",
        "m_lin   = metrics(y_test, y_pred_lin)\n",
        "m_ridge = metrics(y_test, y_pred_ridge)\n",
        "m_lasso = metrics(y_test, y_pred_lasso)\n",
        "\n",
        "print(\"MAE | RMSE | R2\")\n",
        "print(\"Linear:\", [round(v,4) for v in m_lin])\n",
        "print(\"Ridge :\", [round(v,4) for v in m_ridge], \"alpha* =\", getattr(ridge.named_steps[\"model\"], \"alpha_\", None))\n",
        "print(\"Lasso :\", [round(v,4) for v in m_lasso], \"alpha* =\", getattr(lasso.named_steps[\"model\"], \"alpha_\", None))\n"
      ]
    },
    {
      "cell_type": "markdown",
      "id": "6a40d447",
      "metadata": {
        "id": "6a40d447"
      },
      "source": [
        "## 5) Comparación de coeficientes"
      ]
    },
    {
      "cell_type": "code",
      "execution_count": null,
      "id": "063e5628",
      "metadata": {
        "colab": {
          "base_uri": "https://localhost:8080/",
          "height": 331
        },
        "id": "063e5628",
        "outputId": "197bc8b0-e3e7-497e-f01d-2ff252e2d0c0"
      },
      "outputs": [
        {
          "output_type": "execute_result",
          "data": {
            "text/plain": [
              "                Linear     Ridge     Lasso\n",
              "feature                                   \n",
              "weight       -5.393692 -4.854288 -4.600721\n",
              "model_year    2.889178  2.812920  2.745648\n",
              "displacement  1.989750  1.300622  0.000000\n",
              "origin_usa   -1.375644 -1.268329 -1.046137\n",
              "horsepower   -0.826385 -0.914800 -0.430142\n",
              "cylinders    -0.580795 -0.444248 -0.000000\n",
              "origin_japan  0.132504  0.195565  0.147758\n",
              "acceleration  0.118718  0.014014  0.000000"
            ],
            "text/html": [
              "\n",
              "  <div id=\"df-796ed7ad-60ca-4b40-9eb4-9504b1c4cf9c\" class=\"colab-df-container\">\n",
              "    <div>\n",
              "<style scoped>\n",
              "    .dataframe tbody tr th:only-of-type {\n",
              "        vertical-align: middle;\n",
              "    }\n",
              "\n",
              "    .dataframe tbody tr th {\n",
              "        vertical-align: top;\n",
              "    }\n",
              "\n",
              "    .dataframe thead th {\n",
              "        text-align: right;\n",
              "    }\n",
              "</style>\n",
              "<table border=\"1\" class=\"dataframe\">\n",
              "  <thead>\n",
              "    <tr style=\"text-align: right;\">\n",
              "      <th></th>\n",
              "      <th>Linear</th>\n",
              "      <th>Ridge</th>\n",
              "      <th>Lasso</th>\n",
              "    </tr>\n",
              "    <tr>\n",
              "      <th>feature</th>\n",
              "      <th></th>\n",
              "      <th></th>\n",
              "      <th></th>\n",
              "    </tr>\n",
              "  </thead>\n",
              "  <tbody>\n",
              "    <tr>\n",
              "      <th>weight</th>\n",
              "      <td>-5.393692</td>\n",
              "      <td>-4.854288</td>\n",
              "      <td>-4.600721</td>\n",
              "    </tr>\n",
              "    <tr>\n",
              "      <th>model_year</th>\n",
              "      <td>2.889178</td>\n",
              "      <td>2.812920</td>\n",
              "      <td>2.745648</td>\n",
              "    </tr>\n",
              "    <tr>\n",
              "      <th>displacement</th>\n",
              "      <td>1.989750</td>\n",
              "      <td>1.300622</td>\n",
              "      <td>0.000000</td>\n",
              "    </tr>\n",
              "    <tr>\n",
              "      <th>origin_usa</th>\n",
              "      <td>-1.375644</td>\n",
              "      <td>-1.268329</td>\n",
              "      <td>-1.046137</td>\n",
              "    </tr>\n",
              "    <tr>\n",
              "      <th>horsepower</th>\n",
              "      <td>-0.826385</td>\n",
              "      <td>-0.914800</td>\n",
              "      <td>-0.430142</td>\n",
              "    </tr>\n",
              "    <tr>\n",
              "      <th>cylinders</th>\n",
              "      <td>-0.580795</td>\n",
              "      <td>-0.444248</td>\n",
              "      <td>-0.000000</td>\n",
              "    </tr>\n",
              "    <tr>\n",
              "      <th>origin_japan</th>\n",
              "      <td>0.132504</td>\n",
              "      <td>0.195565</td>\n",
              "      <td>0.147758</td>\n",
              "    </tr>\n",
              "    <tr>\n",
              "      <th>acceleration</th>\n",
              "      <td>0.118718</td>\n",
              "      <td>0.014014</td>\n",
              "      <td>0.000000</td>\n",
              "    </tr>\n",
              "  </tbody>\n",
              "</table>\n",
              "</div>\n",
              "    <div class=\"colab-df-buttons\">\n",
              "\n",
              "  <div class=\"colab-df-container\">\n",
              "    <button class=\"colab-df-convert\" onclick=\"convertToInteractive('df-796ed7ad-60ca-4b40-9eb4-9504b1c4cf9c')\"\n",
              "            title=\"Convert this dataframe to an interactive table.\"\n",
              "            style=\"display:none;\">\n",
              "\n",
              "  <svg xmlns=\"http://www.w3.org/2000/svg\" height=\"24px\" viewBox=\"0 -960 960 960\">\n",
              "    <path d=\"M120-120v-720h720v720H120Zm60-500h600v-160H180v160Zm220 220h160v-160H400v160Zm0 220h160v-160H400v160ZM180-400h160v-160H180v160Zm440 0h160v-160H620v160ZM180-180h160v-160H180v160Zm440 0h160v-160H620v160Z\"/>\n",
              "  </svg>\n",
              "    </button>\n",
              "\n",
              "  <style>\n",
              "    .colab-df-container {\n",
              "      display:flex;\n",
              "      gap: 12px;\n",
              "    }\n",
              "\n",
              "    .colab-df-convert {\n",
              "      background-color: #E8F0FE;\n",
              "      border: none;\n",
              "      border-radius: 50%;\n",
              "      cursor: pointer;\n",
              "      display: none;\n",
              "      fill: #1967D2;\n",
              "      height: 32px;\n",
              "      padding: 0 0 0 0;\n",
              "      width: 32px;\n",
              "    }\n",
              "\n",
              "    .colab-df-convert:hover {\n",
              "      background-color: #E2EBFA;\n",
              "      box-shadow: 0px 1px 2px rgba(60, 64, 67, 0.3), 0px 1px 3px 1px rgba(60, 64, 67, 0.15);\n",
              "      fill: #174EA6;\n",
              "    }\n",
              "\n",
              "    .colab-df-buttons div {\n",
              "      margin-bottom: 4px;\n",
              "    }\n",
              "\n",
              "    [theme=dark] .colab-df-convert {\n",
              "      background-color: #3B4455;\n",
              "      fill: #D2E3FC;\n",
              "    }\n",
              "\n",
              "    [theme=dark] .colab-df-convert:hover {\n",
              "      background-color: #434B5C;\n",
              "      box-shadow: 0px 1px 3px 1px rgba(0, 0, 0, 0.15);\n",
              "      filter: drop-shadow(0px 1px 2px rgba(0, 0, 0, 0.3));\n",
              "      fill: #FFFFFF;\n",
              "    }\n",
              "  </style>\n",
              "\n",
              "    <script>\n",
              "      const buttonEl =\n",
              "        document.querySelector('#df-796ed7ad-60ca-4b40-9eb4-9504b1c4cf9c button.colab-df-convert');\n",
              "      buttonEl.style.display =\n",
              "        google.colab.kernel.accessAllowed ? 'block' : 'none';\n",
              "\n",
              "      async function convertToInteractive(key) {\n",
              "        const element = document.querySelector('#df-796ed7ad-60ca-4b40-9eb4-9504b1c4cf9c');\n",
              "        const dataTable =\n",
              "          await google.colab.kernel.invokeFunction('convertToInteractive',\n",
              "                                                    [key], {});\n",
              "        if (!dataTable) return;\n",
              "\n",
              "        const docLinkHtml = 'Like what you see? Visit the ' +\n",
              "          '<a target=\"_blank\" href=https://colab.research.google.com/notebooks/data_table.ipynb>data table notebook</a>'\n",
              "          + ' to learn more about interactive tables.';\n",
              "        element.innerHTML = '';\n",
              "        dataTable['output_type'] = 'display_data';\n",
              "        await google.colab.output.renderOutput(dataTable, element);\n",
              "        const docLink = document.createElement('div');\n",
              "        docLink.innerHTML = docLinkHtml;\n",
              "        element.appendChild(docLink);\n",
              "      }\n",
              "    </script>\n",
              "  </div>\n",
              "\n",
              "\n",
              "    <div id=\"df-fd906109-e94a-4d45-ae44-9ee6f733c2aa\">\n",
              "      <button class=\"colab-df-quickchart\" onclick=\"quickchart('df-fd906109-e94a-4d45-ae44-9ee6f733c2aa')\"\n",
              "                title=\"Suggest charts\"\n",
              "                style=\"display:none;\">\n",
              "\n",
              "<svg xmlns=\"http://www.w3.org/2000/svg\" height=\"24px\"viewBox=\"0 0 24 24\"\n",
              "     width=\"24px\">\n",
              "    <g>\n",
              "        <path d=\"M19 3H5c-1.1 0-2 .9-2 2v14c0 1.1.9 2 2 2h14c1.1 0 2-.9 2-2V5c0-1.1-.9-2-2-2zM9 17H7v-7h2v7zm4 0h-2V7h2v10zm4 0h-2v-4h2v4z\"/>\n",
              "    </g>\n",
              "</svg>\n",
              "      </button>\n",
              "\n",
              "<style>\n",
              "  .colab-df-quickchart {\n",
              "      --bg-color: #E8F0FE;\n",
              "      --fill-color: #1967D2;\n",
              "      --hover-bg-color: #E2EBFA;\n",
              "      --hover-fill-color: #174EA6;\n",
              "      --disabled-fill-color: #AAA;\n",
              "      --disabled-bg-color: #DDD;\n",
              "  }\n",
              "\n",
              "  [theme=dark] .colab-df-quickchart {\n",
              "      --bg-color: #3B4455;\n",
              "      --fill-color: #D2E3FC;\n",
              "      --hover-bg-color: #434B5C;\n",
              "      --hover-fill-color: #FFFFFF;\n",
              "      --disabled-bg-color: #3B4455;\n",
              "      --disabled-fill-color: #666;\n",
              "  }\n",
              "\n",
              "  .colab-df-quickchart {\n",
              "    background-color: var(--bg-color);\n",
              "    border: none;\n",
              "    border-radius: 50%;\n",
              "    cursor: pointer;\n",
              "    display: none;\n",
              "    fill: var(--fill-color);\n",
              "    height: 32px;\n",
              "    padding: 0;\n",
              "    width: 32px;\n",
              "  }\n",
              "\n",
              "  .colab-df-quickchart:hover {\n",
              "    background-color: var(--hover-bg-color);\n",
              "    box-shadow: 0 1px 2px rgba(60, 64, 67, 0.3), 0 1px 3px 1px rgba(60, 64, 67, 0.15);\n",
              "    fill: var(--button-hover-fill-color);\n",
              "  }\n",
              "\n",
              "  .colab-df-quickchart-complete:disabled,\n",
              "  .colab-df-quickchart-complete:disabled:hover {\n",
              "    background-color: var(--disabled-bg-color);\n",
              "    fill: var(--disabled-fill-color);\n",
              "    box-shadow: none;\n",
              "  }\n",
              "\n",
              "  .colab-df-spinner {\n",
              "    border: 2px solid var(--fill-color);\n",
              "    border-color: transparent;\n",
              "    border-bottom-color: var(--fill-color);\n",
              "    animation:\n",
              "      spin 1s steps(1) infinite;\n",
              "  }\n",
              "\n",
              "  @keyframes spin {\n",
              "    0% {\n",
              "      border-color: transparent;\n",
              "      border-bottom-color: var(--fill-color);\n",
              "      border-left-color: var(--fill-color);\n",
              "    }\n",
              "    20% {\n",
              "      border-color: transparent;\n",
              "      border-left-color: var(--fill-color);\n",
              "      border-top-color: var(--fill-color);\n",
              "    }\n",
              "    30% {\n",
              "      border-color: transparent;\n",
              "      border-left-color: var(--fill-color);\n",
              "      border-top-color: var(--fill-color);\n",
              "      border-right-color: var(--fill-color);\n",
              "    }\n",
              "    40% {\n",
              "      border-color: transparent;\n",
              "      border-right-color: var(--fill-color);\n",
              "      border-top-color: var(--fill-color);\n",
              "    }\n",
              "    60% {\n",
              "      border-color: transparent;\n",
              "      border-right-color: var(--fill-color);\n",
              "    }\n",
              "    80% {\n",
              "      border-color: transparent;\n",
              "      border-right-color: var(--fill-color);\n",
              "      border-bottom-color: var(--fill-color);\n",
              "    }\n",
              "    90% {\n",
              "      border-color: transparent;\n",
              "      border-bottom-color: var(--fill-color);\n",
              "    }\n",
              "  }\n",
              "</style>\n",
              "\n",
              "      <script>\n",
              "        async function quickchart(key) {\n",
              "          const quickchartButtonEl =\n",
              "            document.querySelector('#' + key + ' button');\n",
              "          quickchartButtonEl.disabled = true;  // To prevent multiple clicks.\n",
              "          quickchartButtonEl.classList.add('colab-df-spinner');\n",
              "          try {\n",
              "            const charts = await google.colab.kernel.invokeFunction(\n",
              "                'suggestCharts', [key], {});\n",
              "          } catch (error) {\n",
              "            console.error('Error during call to suggestCharts:', error);\n",
              "          }\n",
              "          quickchartButtonEl.classList.remove('colab-df-spinner');\n",
              "          quickchartButtonEl.classList.add('colab-df-quickchart-complete');\n",
              "        }\n",
              "        (() => {\n",
              "          let quickchartButtonEl =\n",
              "            document.querySelector('#df-fd906109-e94a-4d45-ae44-9ee6f733c2aa button');\n",
              "          quickchartButtonEl.style.display =\n",
              "            google.colab.kernel.accessAllowed ? 'block' : 'none';\n",
              "        })();\n",
              "      </script>\n",
              "    </div>\n",
              "\n",
              "    </div>\n",
              "  </div>\n"
            ],
            "application/vnd.google.colaboratory.intrinsic+json": {
              "type": "dataframe",
              "summary": "{\n  \"name\": \"coef_df\",\n  \"rows\": 8,\n  \"fields\": [\n    {\n      \"column\": \"feature\",\n      \"properties\": {\n        \"dtype\": \"string\",\n        \"num_unique_values\": 8,\n        \"samples\": [\n          \"model_year\",\n          \"cylinders\",\n          \"weight\"\n        ],\n        \"semantic_type\": \"\",\n        \"description\": \"\"\n      }\n    },\n    {\n      \"column\": \"Linear\",\n      \"properties\": {\n        \"dtype\": \"number\",\n        \"std\": 2.48373608363514,\n        \"min\": -5.393692349492289,\n        \"max\": 2.8891783828544204,\n        \"num_unique_values\": 8,\n        \"samples\": [\n          2.8891783828544204,\n          -0.5807948458986314,\n          -5.393692349492289\n        ],\n        \"semantic_type\": \"\",\n        \"description\": \"\"\n      }\n    },\n    {\n      \"column\": \"Ridge\",\n      \"properties\": {\n        \"dtype\": \"number\",\n        \"std\": 2.2233345958412407,\n        \"min\": -4.854287879405064,\n        \"max\": 2.812920459789247,\n        \"num_unique_values\": 8,\n        \"samples\": [\n          2.812920459789247,\n          -0.44424813244824196,\n          -4.854287879405064\n        ],\n        \"semantic_type\": \"\",\n        \"description\": \"\"\n      }\n    },\n    {\n      \"column\": \"Lasso\",\n      \"properties\": {\n        \"dtype\": \"number\",\n        \"std\": 2.026241094871152,\n        \"min\": -4.600721434782235,\n        \"max\": 2.7456483317979434,\n        \"num_unique_values\": 6,\n        \"samples\": [\n          -4.600721434782235,\n          2.7456483317979434,\n          0.14775784487993524\n        ],\n        \"semantic_type\": \"\",\n        \"description\": \"\"\n      }\n    }\n  ]\n}"
            }
          },
          "metadata": {},
          "execution_count": 6
        }
      ],
      "source": [
        "\n",
        "# Recuperar nombres de features después de OHE\n",
        "ohe_fit = preprocess.named_steps[\"ohe\"]\n",
        "feat_names = list(ohe_fit.named_transformers_[\"cat\"].get_feature_names_out(cat_features)) + num_features\n",
        "\n",
        "# Extraer coeficientes ya escalados (último paso del pipeline)\n",
        "coef_lin   = lin.named_steps[\"model\"].coef_\n",
        "coef_ridge = ridge.named_steps[\"model\"].coef_\n",
        "coef_lasso = lasso.named_steps[\"model\"].coef_\n",
        "\n",
        "coef_df = pd.DataFrame({\n",
        "    \"feature\": feat_names,\n",
        "    \"Linear\": coef_lin,\n",
        "    \"Ridge\": coef_ridge,\n",
        "    \"Lasso\": coef_lasso,\n",
        "}).set_index(\"feature\")\n",
        "\n",
        "# Mostrar tabla ordenada por magnitud en el modelo Ridge\n",
        "coef_df.loc[coef_df[\"Ridge\"].abs().sort_values(ascending=False).index].head(15)\n"
      ]
    },
    {
      "cell_type": "code",
      "execution_count": null,
      "id": "4af1f779",
      "metadata": {
        "colab": {
          "base_uri": "https://localhost:8080/",
          "height": 607
        },
        "id": "4af1f779",
        "outputId": "9578f732-a51c-49a9-c7df-9170759dad85"
      },
      "outputs": [
        {
          "output_type": "display_data",
          "data": {
            "text/plain": [
              "<Figure size 900x600 with 1 Axes>"
            ],
            "image/png": "[encoded data removed]"
          },
          "metadata": {}
        }
      ],
      "source": [
        "\n",
        "# Gráfico único de coeficientes comparados (hasta 12 más influyentes por Ridge)\n",
        "topk = 12\n",
        "order = coef_df[\"Ridge\"].abs().sort_values(ascending=False).index[:topk]\n",
        "plot_df = coef_df.loc[order]\n",
        "\n",
        "plt.figure(figsize=(9,6))\n",
        "x = np.arange(len(plot_df))\n",
        "w = 0.25\n",
        "plt.bar(x - w, plot_df[\"Linear\"].values, width=w, label=\"Linear\")\n",
        "plt.bar(x,       plot_df[\"Ridge\"].values, width=w, label=\"Ridge\")\n",
        "plt.bar(x + w, plot_df[\"Lasso\"].values, width=w, label=\"Lasso\")\n",
        "plt.xticks(x, plot_df.index, rotation=45, ha=\"right\")\n",
        "plt.title(\"Comparación de coeficientes (top por magnitud en Ridge)\")\n",
        "plt.legend()\n",
        "plt.tight_layout()\n",
        "plt.show()\n"
      ]
    },
    {
      "cell_type": "markdown",
      "id": "4fcfecf0",
      "metadata": {
        "id": "4fcfecf0"
      },
      "source": [
        "\n",
        "### 🧠 Cómo interpretar la regularización\n",
        "- **Ridge (L2):** encoge coeficientes grandes para reducir varianza. Útil cuando hay **multicolinealidad** o muchas variables correlacionadas.  \n",
        "- **Lasso (L1):** puede forzar algunos coeficientes a **cero** → *selección de variables*.  \n",
        "- Si el rendimiento de Ridge/Lasso mejora (menor RMSE, mayor \\(R^2\\)) respecto al lineal, es señal de **mejor generalización**.  \n",
        "- El valor óptimo de \\(\\alpha\\) se elige por **validación cruzada** (RidgeCV/LassoCV).\n"
      ]
    }
  ],
  "metadata": {
    "colab": {
      "provenance": []
    },
    "language_info": {
      "name": "python"
    },
    "kernelspec": {
      "name": "python3",
      "display_name": "Python 3"
    }
  },
  "nbformat": 4,
  "nbformat_minor": 5
}