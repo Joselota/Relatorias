{
  "cells": [
    {
      "cell_type": "markdown",
      "id": "8af5c3b9",
      "metadata": {
        "id": "8af5c3b9"
      },
      "source": [
        "\n",
        "# 📘 Regresión Lineal Simple — Ejemplos para Colab\n",
        "\n",
        "Este cuaderno incluye **dos casos** de regresión lineal simple con datos ficticios:\n",
        "\n",
        "1) **Superficie (m²) → Precio de arriendo (USD)**  \n",
        "2) **Horas de estudio → Nota de examen**\n",
        "\n",
        "Cada caso contiene: creación del dataset, ajuste del modelo con `numpy`, gráfico, y una celda **Markdown + LaTeX** con la interpretación de los resultados.\n"
      ]
    },
    {
      "cell_type": "code",
      "execution_count": 1,
      "id": "0c542794",
      "metadata": {
        "id": "0c542794"
      },
      "outputs": [],
      "source": [
        "import numpy as np\n",
        "import pandas as pd\n",
        "import matplotlib.pyplot as plt\n",
        "from pathlib import Path"
      ]
    },
    {
      "cell_type": "markdown",
      "id": "40dbf164",
      "metadata": {
        "id": "40dbf164"
      },
      "source": [
        "\n",
        "---\n",
        "\n",
        "## Ejemplo 1 — Superficie (m²) → Precio de arriendo (USD)\n"
      ]
    },
    {
      "cell_type": "code",
      "source": [
        "# Dataset ficticio\n",
        "df = pd.DataFrame({\n",
        "    \"superficie_m2\": [30, 40, 50, 60, 70, 80, 90, 100, 110, 120],\n",
        "    \"precio_usd\":    [250, 320, 400, 460, 520, 580, 640, 700, 750, 800]\n",
        "})"
      ],
      "metadata": {
        "id": "5_ai5NXnelcN"
      },
      "id": "5_ai5NXnelcN",
      "execution_count": 2,
      "outputs": []
    },
    {
      "cell_type": "code",
      "source": [
        "df.shape"
      ],
      "metadata": {
        "id": "EFBgIrKpem1Q",
        "outputId": "c51435e4-af66-449a-ddda-e124bfe04861",
        "colab": {
          "base_uri": "https://localhost:8080/"
        }
      },
      "id": "EFBgIrKpem1Q",
      "execution_count": 3,
      "outputs": [
        {
          "output_type": "execute_result",
          "data": {
            "text/plain": [
              "(10, 2)"
            ]
          },
          "metadata": {},
          "execution_count": 3
        }
      ]
    },
    {
      "cell_type": "code",
      "source": [
        "df.info()"
      ],
      "metadata": {
        "id": "KWZFzEF5er1V",
        "outputId": "ea525486-6fd8-4679-f3a5-23accedb9a4a",
        "colab": {
          "base_uri": "https://localhost:8080/"
        }
      },
      "id": "KWZFzEF5er1V",
      "execution_count": 4,
      "outputs": [
        {
          "output_type": "stream",
          "name": "stdout",
          "text": [
            "<class 'pandas.core.frame.DataFrame'>\n",
            "RangeIndex: 10 entries, 0 to 9\n",
            "Data columns (total 2 columns):\n",
            " #   Column         Non-Null Count  Dtype\n",
            "---  ------         --------------  -----\n",
            " 0   superficie_m2  10 non-null     int64\n",
            " 1   precio_usd     10 non-null     int64\n",
            "dtypes: int64(2)\n",
            "memory usage: 292.0 bytes\n"
          ]
        }
      ]
    },
    {
      "cell_type": "code",
      "source": [
        "df.isnull().sum()"
      ],
      "metadata": {
        "id": "2V95gIy_e8GN",
        "outputId": "8d128f85-2021-4a96-eb59-b7921769975e",
        "colab": {
          "base_uri": "https://localhost:8080/",
          "height": 147
        }
      },
      "id": "2V95gIy_e8GN",
      "execution_count": 7,
      "outputs": [
        {
          "output_type": "execute_result",
          "data": {
            "text/plain": [
              "superficie_m2    0\n",
              "precio_usd       0\n",
              "dtype: int64"
            ],
            "text/html": [
              "<div>\n",
              "<style scoped>\n",
              "    .dataframe tbody tr th:only-of-type {\n",
              "        vertical-align: middle;\n",
              "    }\n",
              "\n",
              "    .dataframe tbody tr th {\n",
              "        vertical-align: top;\n",
              "    }\n",
              "\n",
              "    .dataframe thead th {\n",
              "        text-align: right;\n",
              "    }\n",
              "</style>\n",
              "<table border=\"1\" class=\"dataframe\">\n",
              "  <thead>\n",
              "    <tr style=\"text-align: right;\">\n",
              "      <th></th>\n",
              "      <th>0</th>\n",
              "    </tr>\n",
              "  </thead>\n",
              "  <tbody>\n",
              "    <tr>\n",
              "      <th>superficie_m2</th>\n",
              "      <td>0</td>\n",
              "    </tr>\n",
              "    <tr>\n",
              "      <th>precio_usd</th>\n",
              "      <td>0</td>\n",
              "    </tr>\n",
              "  </tbody>\n",
              "</table>\n",
              "</div><br><label><b>dtype:</b> int64</label>"
            ]
          },
          "metadata": {},
          "execution_count": 7
        }
      ]
    },
    {
      "cell_type": "code",
      "source": [
        "df.head(10)"
      ],
      "metadata": {
        "id": "blB2MeKEewXc",
        "outputId": "3b4ba1c5-6442-4f24-a359-387e0f2876d4",
        "colab": {
          "base_uri": "https://localhost:8080/",
          "height": 363
        }
      },
      "id": "blB2MeKEewXc",
      "execution_count": 6,
      "outputs": [
        {
          "output_type": "execute_result",
          "data": {
            "text/plain": [
              "   superficie_m2  precio_usd\n",
              "0             30         250\n",
              "1             40         320\n",
              "2             50         400\n",
              "3             60         460\n",
              "4             70         520\n",
              "5             80         580\n",
              "6             90         640\n",
              "7            100         700\n",
              "8            110         750\n",
              "9            120         800"
            ],
            "text/html": [
              "\n",
              "  <div id=\"df-bcbd5655-ce41-4be3-bc8c-f0ad4adf53e1\" class=\"colab-df-container\">\n",
              "    <div>\n",
              "<style scoped>\n",
              "    .dataframe tbody tr th:only-of-type {\n",
              "        vertical-align: middle;\n",
              "    }\n",
              "\n",
              "    .dataframe tbody tr th {\n",
              "        vertical-align: top;\n",
              "    }\n",
              "\n",
              "    .dataframe thead th {\n",
              "        text-align: right;\n",
              "    }\n",
              "</style>\n",
              "<table border=\"1\" class=\"dataframe\">\n",
              "  <thead>\n",
              "    <tr style=\"text-align: right;\">\n",
              "      <th></th>\n",
              "      <th>superficie_m2</th>\n",
              "      <th>precio_usd</th>\n",
              "    </tr>\n",
              "  </thead>\n",
              "  <tbody>\n",
              "    <tr>\n",
              "      <th>0</th>\n",
              "      <td>30</td>\n",
              "      <td>250</td>\n",
              "    </tr>\n",
              "    <tr>\n",
              "      <th>1</th>\n",
              "      <td>40</td>\n",
              "      <td>320</td>\n",
              "    </tr>\n",
              "    <tr>\n",
              "      <th>2</th>\n",
              "      <td>50</td>\n",
              "      <td>400</td>\n",
              "    </tr>\n",
              "    <tr>\n",
              "      <th>3</th>\n",
              "      <td>60</td>\n",
              "      <td>460</td>\n",
              "    </tr>\n",
              "    <tr>\n",
              "      <th>4</th>\n",
              "      <td>70</td>\n",
              "      <td>520</td>\n",
              "    </tr>\n",
              "    <tr>\n",
              "      <th>5</th>\n",
              "      <td>80</td>\n",
              "      <td>580</td>\n",
              "    </tr>\n",
              "    <tr>\n",
              "      <th>6</th>\n",
              "      <td>90</td>\n",
              "      <td>640</td>\n",
              "    </tr>\n",
              "    <tr>\n",
              "      <th>7</th>\n",
              "      <td>100</td>\n",
              "      <td>700</td>\n",
              "    </tr>\n",
              "    <tr>\n",
              "      <th>8</th>\n",
              "      <td>110</td>\n",
              "      <td>750</td>\n",
              "    </tr>\n",
              "    <tr>\n",
              "      <th>9</th>\n",
              "      <td>120</td>\n",
              "      <td>800</td>\n",
              "    </tr>\n",
              "  </tbody>\n",
              "</table>\n",
              "</div>\n",
              "    <div class=\"colab-df-buttons\">\n",
              "\n",
              "  <div class=\"colab-df-container\">\n",
              "    <button class=\"colab-df-convert\" onclick=\"convertToInteractive('df-bcbd5655-ce41-4be3-bc8c-f0ad4adf53e1')\"\n",
              "            title=\"Convert this dataframe to an interactive table.\"\n",
              "            style=\"display:none;\">\n",
              "\n",
              "  <svg xmlns=\"http://www.w3.org/2000/svg\" height=\"24px\" viewBox=\"0 -960 960 960\">\n",
              "    <path d=\"M120-120v-720h720v720H120Zm60-500h600v-160H180v160Zm220 220h160v-160H400v160Zm0 220h160v-160H400v160ZM180-400h160v-160H180v160Zm440 0h160v-160H620v160ZM180-180h160v-160H180v160Zm440 0h160v-160H620v160Z\"/>\n",
              "  </svg>\n",
              "    </button>\n",
              "\n",
              "  <style>\n",
              "    .colab-df-container {\n",
              "      display:flex;\n",
              "      gap: 12px;\n",
              "    }\n",
              "\n",
              "    .colab-df-convert {\n",
              "      background-color: #E8F0FE;\n",
              "      border: none;\n",
              "      border-radius: 50%;\n",
              "      cursor: pointer;\n",
              "      display: none;\n",
              "      fill: #1967D2;\n",
              "      height: 32px;\n",
              "      padding: 0 0 0 0;\n",
              "      width: 32px;\n",
              "    }\n",
              "\n",
              "    .colab-df-convert:hover {\n",
              "      background-color: #E2EBFA;\n",
              "      box-shadow: 0px 1px 2px rgba(60, 64, 67, 0.3), 0px 1px 3px 1px rgba(60, 64, 67, 0.15);\n",
              "      fill: #174EA6;\n",
              "    }\n",
              "\n",
              "    .colab-df-buttons div {\n",
              "      margin-bottom: 4px;\n",
              "    }\n",
              "\n",
              "    [theme=dark] .colab-df-convert {\n",
              "      background-color: #3B4455;\n",
              "      fill: #D2E3FC;\n",
              "    }\n",
              "\n",
              "    [theme=dark] .colab-df-convert:hover {\n",
              "      background-color: #434B5C;\n",
              "      box-shadow: 0px 1px 3px 1px rgba(0, 0, 0, 0.15);\n",
              "      filter: drop-shadow(0px 1px 2px rgba(0, 0, 0, 0.3));\n",
              "      fill: #FFFFFF;\n",
              "    }\n",
              "  </style>\n",
              "\n",
              "    <script>\n",
              "      const buttonEl =\n",
              "        document.querySelector('#df-bcbd5655-ce41-4be3-bc8c-f0ad4adf53e1 button.colab-df-convert');\n",
              "      buttonEl.style.display =\n",
              "        google.colab.kernel.accessAllowed ? 'block' : 'none';\n",
              "\n",
              "      async function convertToInteractive(key) {\n",
              "        const element = document.querySelector('#df-bcbd5655-ce41-4be3-bc8c-f0ad4adf53e1');\n",
              "        const dataTable =\n",
              "          await google.colab.kernel.invokeFunction('convertToInteractive',\n",
              "                                                    [key], {});\n",
              "        if (!dataTable) return;\n",
              "\n",
              "        const docLinkHtml = 'Like what you see? Visit the ' +\n",
              "          '<a target=\"_blank\" href=https://colab.research.google.com/notebooks/data_table.ipynb>data table notebook</a>'\n",
              "          + ' to learn more about interactive tables.';\n",
              "        element.innerHTML = '';\n",
              "        dataTable['output_type'] = 'display_data';\n",
              "        await google.colab.output.renderOutput(dataTable, element);\n",
              "        const docLink = document.createElement('div');\n",
              "        docLink.innerHTML = docLinkHtml;\n",
              "        element.appendChild(docLink);\n",
              "      }\n",
              "    </script>\n",
              "  </div>\n",
              "\n",
              "\n",
              "    <div id=\"df-12036dee-abbf-400c-8fc7-6dec70541f15\">\n",
              "      <button class=\"colab-df-quickchart\" onclick=\"quickchart('df-12036dee-abbf-400c-8fc7-6dec70541f15')\"\n",
              "                title=\"Suggest charts\"\n",
              "                style=\"display:none;\">\n",
              "\n",
              "<svg xmlns=\"http://www.w3.org/2000/svg\" height=\"24px\"viewBox=\"0 0 24 24\"\n",
              "     width=\"24px\">\n",
              "    <g>\n",
              "        <path d=\"M19 3H5c-1.1 0-2 .9-2 2v14c0 1.1.9 2 2 2h14c1.1 0 2-.9 2-2V5c0-1.1-.9-2-2-2zM9 17H7v-7h2v7zm4 0h-2V7h2v10zm4 0h-2v-4h2v4z\"/>\n",
              "    </g>\n",
              "</svg>\n",
              "      </button>\n",
              "\n",
              "<style>\n",
              "  .colab-df-quickchart {\n",
              "      --bg-color: #E8F0FE;\n",
              "      --fill-color: #1967D2;\n",
              "      --hover-bg-color: #E2EBFA;\n",
              "      --hover-fill-color: #174EA6;\n",
              "      --disabled-fill-color: #AAA;\n",
              "      --disabled-bg-color: #DDD;\n",
              "  }\n",
              "\n",
              "  [theme=dark] .colab-df-quickchart {\n",
              "      --bg-color: #3B4455;\n",
              "      --fill-color: #D2E3FC;\n",
              "      --hover-bg-color: #434B5C;\n",
              "      --hover-fill-color: #FFFFFF;\n",
              "      --disabled-bg-color: #3B4455;\n",
              "      --disabled-fill-color: #666;\n",
              "  }\n",
              "\n",
              "  .colab-df-quickchart {\n",
              "    background-color: var(--bg-color);\n",
              "    border: none;\n",
              "    border-radius: 50%;\n",
              "    cursor: pointer;\n",
              "    display: none;\n",
              "    fill: var(--fill-color);\n",
              "    height: 32px;\n",
              "    padding: 0;\n",
              "    width: 32px;\n",
              "  }\n",
              "\n",
              "  .colab-df-quickchart:hover {\n",
              "    background-color: var(--hover-bg-color);\n",
              "    box-shadow: 0 1px 2px rgba(60, 64, 67, 0.3), 0 1px 3px 1px rgba(60, 64, 67, 0.15);\n",
              "    fill: var(--button-hover-fill-color);\n",
              "  }\n",
              "\n",
              "  .colab-df-quickchart-complete:disabled,\n",
              "  .colab-df-quickchart-complete:disabled:hover {\n",
              "    background-color: var(--disabled-bg-color);\n",
              "    fill: var(--disabled-fill-color);\n",
              "    box-shadow: none;\n",
              "  }\n",
              "\n",
              "  .colab-df-spinner {\n",
              "    border: 2px solid var(--fill-color);\n",
              "    border-color: transparent;\n",
              "    border-bottom-color: var(--fill-color);\n",
              "    animation:\n",
              "      spin 1s steps(1) infinite;\n",
              "  }\n",
              "\n",
              "  @keyframes spin {\n",
              "    0% {\n",
              "      border-color: transparent;\n",
              "      border-bottom-color: var(--fill-color);\n",
              "      border-left-color: var(--fill-color);\n",
              "    }\n",
              "    20% {\n",
              "      border-color: transparent;\n",
              "      border-left-color: var(--fill-color);\n",
              "      border-top-color: var(--fill-color);\n",
              "    }\n",
              "    30% {\n",
              "      border-color: transparent;\n",
              "      border-left-color: var(--fill-color);\n",
              "      border-top-color: var(--fill-color);\n",
              "      border-right-color: var(--fill-color);\n",
              "    }\n",
              "    40% {\n",
              "      border-color: transparent;\n",
              "      border-right-color: var(--fill-color);\n",
              "      border-top-color: var(--fill-color);\n",
              "    }\n",
              "    60% {\n",
              "      border-color: transparent;\n",
              "      border-right-color: var(--fill-color);\n",
              "    }\n",
              "    80% {\n",
              "      border-color: transparent;\n",
              "      border-right-color: var(--fill-color);\n",
              "      border-bottom-color: var(--fill-color);\n",
              "    }\n",
              "    90% {\n",
              "      border-color: transparent;\n",
              "      border-bottom-color: var(--fill-color);\n",
              "    }\n",
              "  }\n",
              "</style>\n",
              "\n",
              "      <script>\n",
              "        async function quickchart(key) {\n",
              "          const quickchartButtonEl =\n",
              "            document.querySelector('#' + key + ' button');\n",
              "          quickchartButtonEl.disabled = true;  // To prevent multiple clicks.\n",
              "          quickchartButtonEl.classList.add('colab-df-spinner');\n",
              "          try {\n",
              "            const charts = await google.colab.kernel.invokeFunction(\n",
              "                'suggestCharts', [key], {});\n",
              "          } catch (error) {\n",
              "            console.error('Error during call to suggestCharts:', error);\n",
              "          }\n",
              "          quickchartButtonEl.classList.remove('colab-df-spinner');\n",
              "          quickchartButtonEl.classList.add('colab-df-quickchart-complete');\n",
              "        }\n",
              "        (() => {\n",
              "          let quickchartButtonEl =\n",
              "            document.querySelector('#df-12036dee-abbf-400c-8fc7-6dec70541f15 button');\n",
              "          quickchartButtonEl.style.display =\n",
              "            google.colab.kernel.accessAllowed ? 'block' : 'none';\n",
              "        })();\n",
              "      </script>\n",
              "    </div>\n",
              "\n",
              "    </div>\n",
              "  </div>\n"
            ],
            "application/vnd.google.colaboratory.intrinsic+json": {
              "type": "dataframe",
              "variable_name": "df",
              "summary": "{\n  \"name\": \"df\",\n  \"rows\": 10,\n  \"fields\": [\n    {\n      \"column\": \"superficie_m2\",\n      \"properties\": {\n        \"dtype\": \"number\",\n        \"std\": 30,\n        \"min\": 30,\n        \"max\": 120,\n        \"num_unique_values\": 10,\n        \"samples\": [\n          110,\n          40,\n          80\n        ],\n        \"semantic_type\": \"\",\n        \"description\": \"\"\n      }\n    },\n    {\n      \"column\": \"precio_usd\",\n      \"properties\": {\n        \"dtype\": \"number\",\n        \"std\": 184,\n        \"min\": 250,\n        \"max\": 800,\n        \"num_unique_values\": 10,\n        \"samples\": [\n          750,\n          320,\n          580\n        ],\n        \"semantic_type\": \"\",\n        \"description\": \"\"\n      }\n    }\n  ]\n}"
            }
          },
          "metadata": {},
          "execution_count": 6
        }
      ]
    },
    {
      "cell_type": "code",
      "source": [
        "# Guardar CSV (en Colab quedará en /content/)\n",
        "csv_path = Path(\"arriendo_superficie_regresion_simple.csv\")\n",
        "df.to_csv(csv_path, index=False)"
      ],
      "metadata": {
        "id": "lxChHzxbfON2"
      },
      "id": "lxChHzxbfON2",
      "execution_count": 8,
      "outputs": []
    },
    {
      "cell_type": "code",
      "source": [
        "# Ajuste de regresión lineal (y = b0 + b1*x)\n",
        "x = df[\"superficie_m2\"].to_numpy(dtype=float)\n",
        "y = df[\"precio_usd\"].to_numpy(dtype=float)\n",
        "\n",
        "b1, b0 = np.polyfit(x, y, 1)\n",
        "y_hat = b0 + b1 * x"
      ],
      "metadata": {
        "id": "oBuiQdIGfU_a"
      },
      "id": "oBuiQdIGfU_a",
      "execution_count": 9,
      "outputs": []
    },
    {
      "cell_type": "code",
      "execution_count": 11,
      "id": "9ae81f55",
      "metadata": {
        "colab": {
          "base_uri": "https://localhost:8080/"
        },
        "id": "9ae81f55",
        "outputId": "9ab195ad-c6f6-45d5-e20f-f147bdadcfef"
      },
      "outputs": [
        {
          "output_type": "stream",
          "name": "stdout",
          "text": [
            "CSV guardado en: /content/arriendo_superficie_regresion_simple.csv\n",
            "b1 (pendiente) = 6.0970\n",
            "b0 (intercepto) = 84.7273\n",
            "SSE = 1082.4242 | SST = 307760.0000 | R^2 = 0.9965\n"
          ]
        }
      ],
      "source": [
        "# Residuos y métricas\n",
        "resid = y - y_hat\n",
        "SSE = (resid**2).sum()\n",
        "SST = ((y - y.mean())**2).sum()\n",
        "R2  = 1 - SSE/SST\n",
        "\n",
        "print(f\"CSV guardado en: {csv_path.resolve()}\")\n",
        "print(f\"b1 (pendiente) = {b1:.4f}\")\n",
        "print(f\"b0 (intercepto) = {b0:.4f}\")\n",
        "print(f\"SSE = {SSE:.4f} | SST = {SST:.4f} | R^2 = {R2:.4f}\")\n",
        "\n"
      ]
    },
    {
      "cell_type": "code",
      "execution_count": 12,
      "id": "d2c5ecc2",
      "metadata": {
        "colab": {
          "base_uri": "https://localhost:8080/",
          "height": 488
        },
        "id": "d2c5ecc2",
        "outputId": "96f7c845-6556-4e0a-9788-2278d729ec1b"
      },
      "outputs": [
        {
          "output_type": "display_data",
          "data": {
            "text/plain": [
              "<Figure size 700x500 with 1 Axes>"
            ],
            "image/png": "[encoded data removed]"
          },
          "metadata": {}
        }
      ],
      "source": [
        "# Gráfico\n",
        "plt.figure(figsize=(7,5))\n",
        "plt.scatter(x, y, label=\"Datos\")\n",
        "plt.plot(x, y_hat, label=\"Recta ajustada\")\n",
        "plt.xlabel(\"Superficie (m²)\")\n",
        "plt.ylabel(\"Precio arriendo (USD)\")\n",
        "plt.title(\"Regresión lineal simple: superficie vs precio de arriendo\")\n",
        "plt.legend()\n",
        "plt.grid(True)\n",
        "plt.show()\n"
      ]
    },
    {
      "cell_type": "markdown",
      "id": "b14334ea",
      "metadata": {
        "id": "b14334ea"
      },
      "source": [
        "### Interpretación\n",
        "**Ecuación ajustada:**\n",
        "$$\n",
        "\\hat{y} = b_0 + b_1 x\n",
        "$$\n",
        "\n",
        "Con los datos anteriores (al ejecutarlo en tu entorno deberían ser similares):\n",
        "- **Pendiente** \\(b_1\\): incremento esperado del precio por **cada m² adicional**.\n",
        "- **Intercepto** \\(b_0\\): precio estimado cuando \\(x=0\\) m² (útil para la ecuación, puede no tener sentido práctico).\n",
        "- **\\(R^2\\)**: proporción de la variación del precio explicada por la superficie.\n",
        "\n",
        "\n",
        "**Métricas usadas:**\n",
        "\n",
        "$$\n",
        "\\text{SSE} = \\sum (y_i - \\hat{y}_i)^2\n",
        "$$\n",
        "\n",
        "$$\n",
        "\\text{SST} = \\sum (y_i - \\bar{y})^2\n",
        "$$\n",
        "\n",
        "$$\n",
        "R^2 = 1 - \\frac{\\text{SSE}}{\\text{SST}}\n",
        "$$\n",
        "\n"
      ]
    },
    {
      "cell_type": "markdown",
      "id": "daed5892",
      "metadata": {
        "id": "daed5892"
      },
      "source": [
        "\n",
        "---\n",
        "\n",
        "## Ejemplo 2 — Horas de estudio → Nota de examen\n"
      ]
    },
    {
      "cell_type": "code",
      "source": [
        "# Dataset ficticio\n",
        "df2 = pd.DataFrame({\n",
        "    \"horas_estudio\": [1,2,3,4,5,6,7,8,9,10],\n",
        "    \"nota_examen\":   [2.0,3.0,3.7,4.5,5.0,5.5,6.0,6.4,6.6,6.9]\n",
        "})"
      ],
      "metadata": {
        "id": "poI5fDb9gJu9"
      },
      "id": "poI5fDb9gJu9",
      "execution_count": 13,
      "outputs": []
    },
    {
      "cell_type": "code",
      "source": [
        "df2.head()"
      ],
      "metadata": {
        "id": "xdGU_sFBgK21",
        "outputId": "29c4c8c9-cd96-44d0-a683-f64aed7b91ec",
        "colab": {
          "base_uri": "https://localhost:8080/",
          "height": 206
        }
      },
      "id": "xdGU_sFBgK21",
      "execution_count": 14,
      "outputs": [
        {
          "output_type": "execute_result",
          "data": {
            "text/plain": [
              "   horas_estudio  nota_examen\n",
              "0              1          2.0\n",
              "1              2          3.0\n",
              "2              3          3.7\n",
              "3              4          4.5\n",
              "4              5          5.0"
            ],
            "text/html": [
              "\n",
              "  <div id=\"df-93982362-def0-40f7-8f89-6fc54c634167\" class=\"colab-df-container\">\n",
              "    <div>\n",
              "<style scoped>\n",
              "    .dataframe tbody tr th:only-of-type {\n",
              "        vertical-align: middle;\n",
              "    }\n",
              "\n",
              "    .dataframe tbody tr th {\n",
              "        vertical-align: top;\n",
              "    }\n",
              "\n",
              "    .dataframe thead th {\n",
              "        text-align: right;\n",
              "    }\n",
              "</style>\n",
              "<table border=\"1\" class=\"dataframe\">\n",
              "  <thead>\n",
              "    <tr style=\"text-align: right;\">\n",
              "      <th></th>\n",
              "      <th>horas_estudio</th>\n",
              "      <th>nota_examen</th>\n",
              "    </tr>\n",
              "  </thead>\n",
              "  <tbody>\n",
              "    <tr>\n",
              "      <th>0</th>\n",
              "      <td>1</td>\n",
              "      <td>2.0</td>\n",
              "    </tr>\n",
              "    <tr>\n",
              "      <th>1</th>\n",
              "      <td>2</td>\n",
              "      <td>3.0</td>\n",
              "    </tr>\n",
              "    <tr>\n",
              "      <th>2</th>\n",
              "      <td>3</td>\n",
              "      <td>3.7</td>\n",
              "    </tr>\n",
              "    <tr>\n",
              "      <th>3</th>\n",
              "      <td>4</td>\n",
              "      <td>4.5</td>\n",
              "    </tr>\n",
              "    <tr>\n",
              "      <th>4</th>\n",
              "      <td>5</td>\n",
              "      <td>5.0</td>\n",
              "    </tr>\n",
              "  </tbody>\n",
              "</table>\n",
              "</div>\n",
              "    <div class=\"colab-df-buttons\">\n",
              "\n",
              "  <div class=\"colab-df-container\">\n",
              "    <button class=\"colab-df-convert\" onclick=\"convertToInteractive('df-93982362-def0-40f7-8f89-6fc54c634167')\"\n",
              "            title=\"Convert this dataframe to an interactive table.\"\n",
              "            style=\"display:none;\">\n",
              "\n",
              "  <svg xmlns=\"http://www.w3.org/2000/svg\" height=\"24px\" viewBox=\"0 -960 960 960\">\n",
              "    <path d=\"M120-120v-720h720v720H120Zm60-500h600v-160H180v160Zm220 220h160v-160H400v160Zm0 220h160v-160H400v160ZM180-400h160v-160H180v160Zm440 0h160v-160H620v160ZM180-180h160v-160H180v160Zm440 0h160v-160H620v160Z\"/>\n",
              "  </svg>\n",
              "    </button>\n",
              "\n",
              "  <style>\n",
              "    .colab-df-container {\n",
              "      display:flex;\n",
              "      gap: 12px;\n",
              "    }\n",
              "\n",
              "    .colab-df-convert {\n",
              "      background-color: #E8F0FE;\n",
              "      border: none;\n",
              "      border-radius: 50%;\n",
              "      cursor: pointer;\n",
              "      display: none;\n",
              "      fill: #1967D2;\n",
              "      height: 32px;\n",
              "      padding: 0 0 0 0;\n",
              "      width: 32px;\n",
              "    }\n",
              "\n",
              "    .colab-df-convert:hover {\n",
              "      background-color: #E2EBFA;\n",
              "      box-shadow: 0px 1px 2px rgba(60, 64, 67, 0.3), 0px 1px 3px 1px rgba(60, 64, 67, 0.15);\n",
              "      fill: #174EA6;\n",
              "    }\n",
              "\n",
              "    .colab-df-buttons div {\n",
              "      margin-bottom: 4px;\n",
              "    }\n",
              "\n",
              "    [theme=dark] .colab-df-convert {\n",
              "      background-color: #3B4455;\n",
              "      fill: #D2E3FC;\n",
              "    }\n",
              "\n",
              "    [theme=dark] .colab-df-convert:hover {\n",
              "      background-color: #434B5C;\n",
              "      box-shadow: 0px 1px 3px 1px rgba(0, 0, 0, 0.15);\n",
              "      filter: drop-shadow(0px 1px 2px rgba(0, 0, 0, 0.3));\n",
              "      fill: #FFFFFF;\n",
              "    }\n",
              "  </style>\n",
              "\n",
              "    <script>\n",
              "      const buttonEl =\n",
              "        document.querySelector('#df-93982362-def0-40f7-8f89-6fc54c634167 button.colab-df-convert');\n",
              "      buttonEl.style.display =\n",
              "        google.colab.kernel.accessAllowed ? 'block' : 'none';\n",
              "\n",
              "      async function convertToInteractive(key) {\n",
              "        const element = document.querySelector('#df-93982362-def0-40f7-8f89-6fc54c634167');\n",
              "        const dataTable =\n",
              "          await google.colab.kernel.invokeFunction('convertToInteractive',\n",
              "                                                    [key], {});\n",
              "        if (!dataTable) return;\n",
              "\n",
              "        const docLinkHtml = 'Like what you see? Visit the ' +\n",
              "          '<a target=\"_blank\" href=https://colab.research.google.com/notebooks/data_table.ipynb>data table notebook</a>'\n",
              "          + ' to learn more about interactive tables.';\n",
              "        element.innerHTML = '';\n",
              "        dataTable['output_type'] = 'display_data';\n",
              "        await google.colab.output.renderOutput(dataTable, element);\n",
              "        const docLink = document.createElement('div');\n",
              "        docLink.innerHTML = docLinkHtml;\n",
              "        element.appendChild(docLink);\n",
              "      }\n",
              "    </script>\n",
              "  </div>\n",
              "\n",
              "\n",
              "    <div id=\"df-80379aab-0378-49d2-89e0-e93344b30d55\">\n",
              "      <button class=\"colab-df-quickchart\" onclick=\"quickchart('df-80379aab-0378-49d2-89e0-e93344b30d55')\"\n",
              "                title=\"Suggest charts\"\n",
              "                style=\"display:none;\">\n",
              "\n",
              "<svg xmlns=\"http://www.w3.org/2000/svg\" height=\"24px\"viewBox=\"0 0 24 24\"\n",
              "     width=\"24px\">\n",
              "    <g>\n",
              "        <path d=\"M19 3H5c-1.1 0-2 .9-2 2v14c0 1.1.9 2 2 2h14c1.1 0 2-.9 2-2V5c0-1.1-.9-2-2-2zM9 17H7v-7h2v7zm4 0h-2V7h2v10zm4 0h-2v-4h2v4z\"/>\n",
              "    </g>\n",
              "</svg>\n",
              "      </button>\n",
              "\n",
              "<style>\n",
              "  .colab-df-quickchart {\n",
              "      --bg-color: #E8F0FE;\n",
              "      --fill-color: #1967D2;\n",
              "      --hover-bg-color: #E2EBFA;\n",
              "      --hover-fill-color: #174EA6;\n",
              "      --disabled-fill-color: #AAA;\n",
              "      --disabled-bg-color: #DDD;\n",
              "  }\n",
              "\n",
              "  [theme=dark] .colab-df-quickchart {\n",
              "      --bg-color: #3B4455;\n",
              "      --fill-color: #D2E3FC;\n",
              "      --hover-bg-color: #434B5C;\n",
              "      --hover-fill-color: #FFFFFF;\n",
              "      --disabled-bg-color: #3B4455;\n",
              "      --disabled-fill-color: #666;\n",
              "  }\n",
              "\n",
              "  .colab-df-quickchart {\n",
              "    background-color: var(--bg-color);\n",
              "    border: none;\n",
              "    border-radius: 50%;\n",
              "    cursor: pointer;\n",
              "    display: none;\n",
              "    fill: var(--fill-color);\n",
              "    height: 32px;\n",
              "    padding: 0;\n",
              "    width: 32px;\n",
              "  }\n",
              "\n",
              "  .colab-df-quickchart:hover {\n",
              "    background-color: var(--hover-bg-color);\n",
              "    box-shadow: 0 1px 2px rgba(60, 64, 67, 0.3), 0 1px 3px 1px rgba(60, 64, 67, 0.15);\n",
              "    fill: var(--button-hover-fill-color);\n",
              "  }\n",
              "\n",
              "  .colab-df-quickchart-complete:disabled,\n",
              "  .colab-df-quickchart-complete:disabled:hover {\n",
              "    background-color: var(--disabled-bg-color);\n",
              "    fill: var(--disabled-fill-color);\n",
              "    box-shadow: none;\n",
              "  }\n",
              "\n",
              "  .colab-df-spinner {\n",
              "    border: 2px solid var(--fill-color);\n",
              "    border-color: transparent;\n",
              "    border-bottom-color: var(--fill-color);\n",
              "    animation:\n",
              "      spin 1s steps(1) infinite;\n",
              "  }\n",
              "\n",
              "  @keyframes spin {\n",
              "    0% {\n",
              "      border-color: transparent;\n",
              "      border-bottom-color: var(--fill-color);\n",
              "      border-left-color: var(--fill-color);\n",
              "    }\n",
              "    20% {\n",
              "      border-color: transparent;\n",
              "      border-left-color: var(--fill-color);\n",
              "      border-top-color: var(--fill-color);\n",
              "    }\n",
              "    30% {\n",
              "      border-color: transparent;\n",
              "      border-left-color: var(--fill-color);\n",
              "      border-top-color: var(--fill-color);\n",
              "      border-right-color: var(--fill-color);\n",
              "    }\n",
              "    40% {\n",
              "      border-color: transparent;\n",
              "      border-right-color: var(--fill-color);\n",
              "      border-top-color: var(--fill-color);\n",
              "    }\n",
              "    60% {\n",
              "      border-color: transparent;\n",
              "      border-right-color: var(--fill-color);\n",
              "    }\n",
              "    80% {\n",
              "      border-color: transparent;\n",
              "      border-right-color: var(--fill-color);\n",
              "      border-bottom-color: var(--fill-color);\n",
              "    }\n",
              "    90% {\n",
              "      border-color: transparent;\n",
              "      border-bottom-color: var(--fill-color);\n",
              "    }\n",
              "  }\n",
              "</style>\n",
              "\n",
              "      <script>\n",
              "        async function quickchart(key) {\n",
              "          const quickchartButtonEl =\n",
              "            document.querySelector('#' + key + ' button');\n",
              "          quickchartButtonEl.disabled = true;  // To prevent multiple clicks.\n",
              "          quickchartButtonEl.classList.add('colab-df-spinner');\n",
              "          try {\n",
              "            const charts = await google.colab.kernel.invokeFunction(\n",
              "                'suggestCharts', [key], {});\n",
              "          } catch (error) {\n",
              "            console.error('Error during call to suggestCharts:', error);\n",
              "          }\n",
              "          quickchartButtonEl.classList.remove('colab-df-spinner');\n",
              "          quickchartButtonEl.classList.add('colab-df-quickchart-complete');\n",
              "        }\n",
              "        (() => {\n",
              "          let quickchartButtonEl =\n",
              "            document.querySelector('#df-80379aab-0378-49d2-89e0-e93344b30d55 button');\n",
              "          quickchartButtonEl.style.display =\n",
              "            google.colab.kernel.accessAllowed ? 'block' : 'none';\n",
              "        })();\n",
              "      </script>\n",
              "    </div>\n",
              "\n",
              "    </div>\n",
              "  </div>\n"
            ],
            "application/vnd.google.colaboratory.intrinsic+json": {
              "type": "dataframe",
              "variable_name": "df2",
              "summary": "{\n  \"name\": \"df2\",\n  \"rows\": 10,\n  \"fields\": [\n    {\n      \"column\": \"horas_estudio\",\n      \"properties\": {\n        \"dtype\": \"number\",\n        \"std\": 3,\n        \"min\": 1,\n        \"max\": 10,\n        \"num_unique_values\": 10,\n        \"samples\": [\n          9,\n          2,\n          6\n        ],\n        \"semantic_type\": \"\",\n        \"description\": \"\"\n      }\n    },\n    {\n      \"column\": \"nota_examen\",\n      \"properties\": {\n        \"dtype\": \"number\",\n        \"std\": 1.6433029070881744,\n        \"min\": 2.0,\n        \"max\": 6.9,\n        \"num_unique_values\": 10,\n        \"samples\": [\n          6.6,\n          3.0,\n          5.5\n        ],\n        \"semantic_type\": \"\",\n        \"description\": \"\"\n      }\n    }\n  ]\n}"
            }
          },
          "metadata": {},
          "execution_count": 14
        }
      ]
    },
    {
      "cell_type": "code",
      "source": [
        "df2.info()"
      ],
      "metadata": {
        "id": "amG1OqoegRTF",
        "outputId": "25816b64-aade-4a77-a582-efd5b7638324",
        "colab": {
          "base_uri": "https://localhost:8080/"
        }
      },
      "id": "amG1OqoegRTF",
      "execution_count": 15,
      "outputs": [
        {
          "output_type": "stream",
          "name": "stdout",
          "text": [
            "<class 'pandas.core.frame.DataFrame'>\n",
            "RangeIndex: 10 entries, 0 to 9\n",
            "Data columns (total 2 columns):\n",
            " #   Column         Non-Null Count  Dtype  \n",
            "---  ------         --------------  -----  \n",
            " 0   horas_estudio  10 non-null     int64  \n",
            " 1   nota_examen    10 non-null     float64\n",
            "dtypes: float64(1), int64(1)\n",
            "memory usage: 292.0 bytes\n"
          ]
        }
      ]
    },
    {
      "cell_type": "code",
      "source": [
        "df2.isnull().sum()"
      ],
      "metadata": {
        "id": "ipiAo7pUgXH-",
        "outputId": "02bbfc6b-4fe2-4c24-f62d-2b0d94d3efbe",
        "colab": {
          "base_uri": "https://localhost:8080/",
          "height": 147
        }
      },
      "id": "ipiAo7pUgXH-",
      "execution_count": 16,
      "outputs": [
        {
          "output_type": "execute_result",
          "data": {
            "text/plain": [
              "horas_estudio    0\n",
              "nota_examen      0\n",
              "dtype: int64"
            ],
            "text/html": [
              "<div>\n",
              "<style scoped>\n",
              "    .dataframe tbody tr th:only-of-type {\n",
              "        vertical-align: middle;\n",
              "    }\n",
              "\n",
              "    .dataframe tbody tr th {\n",
              "        vertical-align: top;\n",
              "    }\n",
              "\n",
              "    .dataframe thead th {\n",
              "        text-align: right;\n",
              "    }\n",
              "</style>\n",
              "<table border=\"1\" class=\"dataframe\">\n",
              "  <thead>\n",
              "    <tr style=\"text-align: right;\">\n",
              "      <th></th>\n",
              "      <th>0</th>\n",
              "    </tr>\n",
              "  </thead>\n",
              "  <tbody>\n",
              "    <tr>\n",
              "      <th>horas_estudio</th>\n",
              "      <td>0</td>\n",
              "    </tr>\n",
              "    <tr>\n",
              "      <th>nota_examen</th>\n",
              "      <td>0</td>\n",
              "    </tr>\n",
              "  </tbody>\n",
              "</table>\n",
              "</div><br><label><b>dtype:</b> int64</label>"
            ]
          },
          "metadata": {},
          "execution_count": 16
        }
      ]
    },
    {
      "cell_type": "code",
      "source": [
        "# Guardar CSV\n",
        "csv_path2 = Path(\"estudio_notas_regresion_simple.csv\")\n",
        "df2.to_csv(csv_path2, index=False)"
      ],
      "metadata": {
        "id": "yHbFgSajgeYC"
      },
      "id": "yHbFgSajgeYC",
      "execution_count": 17,
      "outputs": []
    },
    {
      "cell_type": "code",
      "source": [
        "# Ajuste de regresión\n",
        "x2 = df2[\"horas_estudio\"].to_numpy(dtype=float)\n",
        "y2 = df2[\"nota_examen\"].to_numpy(dtype=float)\n",
        "\n",
        "b1_2, b0_2 = np.polyfit(x2, y2, 1)\n",
        "y_hat2 = b0_2 + b1_2 * x2"
      ],
      "metadata": {
        "id": "jeP1sIGHgiN3"
      },
      "id": "jeP1sIGHgiN3",
      "execution_count": 19,
      "outputs": []
    },
    {
      "cell_type": "code",
      "execution_count": 20,
      "id": "a469f2cd",
      "metadata": {
        "colab": {
          "base_uri": "https://localhost:8080/"
        },
        "id": "a469f2cd",
        "outputId": "5bc2f7c9-d6d3-49be-f13d-329985736160"
      },
      "outputs": [
        {
          "output_type": "stream",
          "name": "stdout",
          "text": [
            "CSV guardado en: /content/estudio_notas_regresion_simple.csv\n",
            "b1 (pendiente) = 0.5321\n",
            "b0 (intercepto) = 2.0333\n",
            "SSE = 0.9439 | SST = 24.3040 | R^2 = 0.9612\n"
          ]
        }
      ],
      "source": [
        "# Residuos y métricas\n",
        "resid2 = y2 - y_hat2\n",
        "SSE2 = (resid2**2).sum()\n",
        "SST2 = ((y2 - y2.mean())**2).sum()\n",
        "R2_2 = 1 - SSE2/SST2\n",
        "\n",
        "print(f\"CSV guardado en: {csv_path2.resolve()}\")\n",
        "print(f\"b1 (pendiente) = {b1_2:.4f}\")\n",
        "print(f\"b0 (intercepto) = {b0_2:.4f}\")\n",
        "print(f\"SSE = {SSE2:.4f} | SST = {SST2:.4f} | R^2 = {R2_2:.4f}\")\n",
        "\n"
      ]
    },
    {
      "cell_type": "code",
      "execution_count": 28,
      "id": "2d448157",
      "metadata": {
        "colab": {
          "base_uri": "https://localhost:8080/",
          "height": 488
        },
        "id": "2d448157",
        "outputId": "e44625d7-e01c-4813-cb17-d7062f66bbc6"
      },
      "outputs": [
        {
          "output_type": "display_data",
          "data": {
            "text/plain": [
              "<Figure size 700x500 with 1 Axes>"
            ],
            "image/png": "[encoded data removed]"
          },
          "metadata": {}
        }
      ],
      "source": [
        "# Gráfico\n",
        "plt.figure(figsize=(7,5))\n",
        "plt.scatter(x2, y2, color=\"orange\",  label=\"Datos\")\n",
        "plt.plot(x2, y_hat2, label=\"Recta ajustada\")\n",
        "plt.xlabel(\"Horas de estudio (X)\")\n",
        "plt.ylabel(\"Nota examen (Y)\")\n",
        "plt.title(\"Regresión lineal simple: horas de estudio vs nota\")\n",
        "plt.legend()\n",
        "plt.grid(True)\n",
        "plt.show()\n"
      ]
    },
    {
      "cell_type": "markdown",
      "id": "63702cae",
      "metadata": {
        "id": "63702cae"
      },
      "source": [
        "\n",
        "### Interpretación\n",
        "\n",
        "**Ecuación ajustada:**\n",
        "$$\n",
        "\\hat{y} = b_0 + b_1 x\n",
        "$$\n",
        "\n",
        "- **Pendiente** \\(b_1\\): incremento esperado de la **nota** por **cada hora adicional** de estudio.  \n",
        "- **Intercepto** \\(b_0\\): nota estimada cuando \\(x=0\\).  \n",
        "- **\\(R^2\\)**: proporción de la variación de la nota explicada por las horas de estudio.\n",
        "\n",
        "**Métricas usadas:**\n",
        "$$\n",
        "\\text{SSE} = \\sum (y_i - \\hat{y}_i)^2\n",
        "$$\n",
        "\n",
        "$$\n",
        "\\text{SST} = \\sum (y_i - \\bar{y})^2\n",
        "$$\n",
        "\n",
        "$$\n",
        "R^2 = 1 - \\frac{\\text{SSE}}{\\text{SST}}\n",
        "$$\n"
      ]
    },
    {
      "cell_type": "markdown",
      "source": [
        "# **Librería Scikit-Learn**"
      ],
      "metadata": {
        "id": "_B9QBnVAQy4R"
      },
      "id": "_B9QBnVAQy4R"
    },
    {
      "cell_type": "markdown",
      "source": [
        "![Scikit-Learn.png](data:image/png;base64,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)"
      ],
      "metadata": {
        "id": "xMI2q8g8VyTZ"
      },
      "id": "xMI2q8g8VyTZ"
    },
    {
      "cell_type": "markdown",
      "source": [
        "Scikit-Learn (también conocida como sklearn) es una de las librerías de aprendizaje automático más populares y potentes en Python. Fue creada para ser accesible y fácil de usar, incluso para principiantes, pero a la vez es lo suficientemente robusta para ser utilizada en proyectos de investigación y producción a gran escala. Su objetivo principal es ofrecer una serie de algoritmos de machine learning listos para usar en un entorno consistente.\n",
        "\n"
      ],
      "metadata": {
        "id": "KbugqlJ_Q6t0"
      },
      "id": "KbugqlJ_Q6t0"
    },
    {
      "cell_type": "markdown",
      "source": [
        "# **¿Qué la hace tan popular?**\n",
        "1. Fácil de usar: Su diseño se basa en una interfaz uniforme y consistente. Una vez que aprendes a usar un algoritmo, es muy sencillo aplicar otros. Esto se debe a su estructura de Estimadores, Transformers y Predictors, que comparten métodos como .fit() para entrenar el modelo y .predict() para hacer predicciones.\n",
        "\n",
        "2. Extensa documentación: Cuenta con una documentación muy completa, clara y con muchos ejemplos, lo que facilita mucho el aprendizaje.\n",
        "\n",
        "3. Rendimiento: Está construida sobre otras librerías de alto rendimiento como NumPy, SciPy y Matplotlib, lo que le permite manejar eficientemente grandes volúmenes de datos.\n",
        "\n",
        "4. Amplia gama de algoritmos: Incluye una enorme variedad de algoritmos para las tareas más comunes de aprendizaje automático, como:\n",
        "\n",
        "* Clasificación: Para predecir una categoría (por ejemplo, si un correo es spam o no).\n",
        "\n",
        "* Regresión: Para predecir un valor numérico (por ejemplo, el precio de una casa).\n",
        "\n",
        "* Clustering: Para agrupar datos sin etiquetas (por ejemplo, segmentar clientes).\n",
        "\n",
        "* Reducción de dimensionalidad: Para simplificar los datos y visualizarlos mejor (por ejemplo, PCA).\n",
        "\n",
        "* Selección de modelos: Herramientas para evaluar y ajustar el rendimiento de los modelos."
      ],
      "metadata": {
        "id": "Lul2cTOJRlgW"
      },
      "id": "Lul2cTOJRlgW"
    },
    {
      "cell_type": "markdown",
      "source": [
        "# **¿Cómo se usa?**\n",
        "Un flujo de trabajo típico con Scikit-Learn se ve así:\n",
        "\n",
        "1. Cargar los datos: Se suelen usar librerías como Pandas para cargar y manipular los datos en un formato adecuado (como un DataFrame).\n",
        "\n",
        "2. Dividir los datos: Se separan los datos en conjuntos de entrenamiento y prueba. El conjunto de entrenamiento se usa para que el modelo \"aprenda\", y el de prueba para evaluar su rendimiento con datos que no ha visto.\n",
        "\n",
        "3. Crear el modelo: Se instancia el algoritmo que quieres usar. Por ejemplo, from sklearn.ensemble import RandomForestClassifier y luego model = RandomForestClassifier().\n",
        "\n",
        "4. Entrenar el modelo: Se usa el método .fit() para entrenar el modelo con los datos de entrenamiento. model.fit(X_train, y_train).\n",
        "\n",
        "5. Hacer predicciones: Se usa el método .predict() para hacer predicciones sobre el conjunto de prueba. predictions = model.predict(X_test).\n",
        "\n",
        "6. Evaluar el modelo: Se utilizan las métricas de Scikit-Learn para ver qué tan bien se desempeñó el modelo, como la accuracy o la f1_score."
      ],
      "metadata": {
        "id": "Vs3LhVV1Ry79"
      },
      "id": "Vs3LhVV1Ry79"
    },
    {
      "cell_type": "markdown",
      "source": [
        "# **¿A nivel de código como se muestra?**"
      ],
      "metadata": {
        "id": "L39Ix6NZUT8o"
      },
      "id": "L39Ix6NZUT8o"
    },
    {
      "cell_type": "markdown",
      "source": [
        "1. Preparar los datos\n",
        "Lo primero es tener tus datos listos. Generalmente, esto significa cargarlos en un DataFrame de Pandas. Necesitas separar tus datos en dos partes:\n",
        "\n",
        "* Características (X): Las variables independientes que usarás para hacer la predicción (por ejemplo, el tamaño de una casa, el número de habitaciones).\n",
        "\n",
        "* Objetivo (y): La variable dependiente que quieres predecir (por ejemplo, el precio de la casa).\n",
        "\n",
        "Es importante que tanto X como y estén en un formato numérico que Scikit-Learn pueda procesar, como un array de NumPy.\n",
        "\n",
        "2. Dividir los datos\n",
        "Para evaluar qué tan bien funciona tu modelo, debes dividir tus datos en dos conjuntos:\n",
        "\n",
        "* Conjunto de entrenamiento: El modelo aprenderá de estos datos.\n",
        "\n",
        "* Conjunto de prueba: Estos datos son nuevos para el modelo y se usan para evaluar su rendimiento.\n",
        "\n",
        "Esto se hace con la función train_test_split de Scikit-Learn."
      ],
      "metadata": {
        "id": "ir1FqLYmUce-"
      },
      "id": "ir1FqLYmUce-"
    },
    {
      "cell_type": "code",
      "source": [
        "from sklearn.model_selection import train_test_split\n",
        "X_train, X_test, y_train, y_test = train_test_split(X, y, test_size=0.2, random_state=42)"
      ],
      "metadata": {
        "id": "rGD6CVS6UsCj"
      },
      "id": "rGD6CVS6UsCj",
      "execution_count": null,
      "outputs": []
    },
    {
      "cell_type": "markdown",
      "source": [
        "Aquí, test_size=0.2 significa que el 20% de los datos se usarán para la prueba.\n",
        "\n",
        "3. Crear y entrenar el modelo\n",
        "Ahora, importas el modelo de regresión lineal (LinearRegression) y lo creas. Luego, lo entrenas usando los datos de entrenamiento con el método .fit()."
      ],
      "metadata": {
        "id": "m21U0VSFUs-t"
      },
      "id": "m21U0VSFUs-t"
    },
    {
      "cell_type": "code",
      "source": [
        "from sklearn.linear_model import LinearRegression\n",
        "model = LinearRegression()\n",
        "model.fit(X_train, y_train)"
      ],
      "metadata": {
        "id": "UkAovDY5UzOt"
      },
      "id": "UkAovDY5UzOt",
      "execution_count": null,
      "outputs": []
    },
    {
      "cell_type": "markdown",
      "source": [
        "El método .fit() es donde el algoritmo ajusta sus parámetros (la pendiente y la intersección) para encontrar la \"mejor línea\" que se ajusta a los datos."
      ],
      "metadata": {
        "id": "I8Uy7gLBU0He"
      },
      "id": "I8Uy7gLBU0He"
    },
    {
      "cell_type": "markdown",
      "source": [
        "4. Hacer predicciones\n",
        "Una vez entrenado, puedes usar el modelo para predecir los valores del conjunto de prueba. Esto se hace con el método .predict()."
      ],
      "metadata": {
        "id": "UO-OOdRFU6m2"
      },
      "id": "UO-OOdRFU6m2"
    },
    {
      "cell_type": "code",
      "source": [
        "predictions = model.predict(X_test)"
      ],
      "metadata": {
        "id": "LLLb1i3dU78Q"
      },
      "id": "LLLb1i3dU78Q",
      "execution_count": null,
      "outputs": []
    },
    {
      "cell_type": "markdown",
      "source": [
        "predictions ahora contendrá los valores predichos por tu modelo para cada una de las entradas en X_test."
      ],
      "metadata": {
        "id": "lwRaBeIzU_8Q"
      },
      "id": "lwRaBeIzU_8Q"
    },
    {
      "cell_type": "markdown",
      "source": [
        "5. Evaluar el modelo\n",
        "El último paso es evaluar qué tan precisas fueron tus predicciones. Puedes usar métricas como el error cuadrático medio (Mean Squared Error) o el R\n",
        "2\n",
        "  para esto."
      ],
      "metadata": {
        "id": "Ym7bW-aBVCGR"
      },
      "id": "Ym7bW-aBVCGR"
    },
    {
      "cell_type": "code",
      "source": [
        "from sklearn.metrics import mean_squared_error, r2_score\n",
        "mse = mean_squared_error(y_test, predictions)\n",
        "r2 = r2_score(y_test, predictions)\n",
        "print(f\"Error Cuadrático Medio (MSE): {mse}\")\n",
        "print(f\"R-cuadrado (R^2): {r2}\")"
      ],
      "metadata": {
        "id": "k3CKAdPrVQQA"
      },
      "id": "k3CKAdPrVQQA",
      "execution_count": null,
      "outputs": []
    },
    {
      "cell_type": "markdown",
      "source": [
        "El MSE te da una idea del error promedio de tus predicciones, mientras que el R\n",
        "2\n",
        "  te dice qué porcentaje de la variabilidad en el objetivo es explicado por tu modelo."
      ],
      "metadata": {
        "id": "MnXhjD6fVIx2"
      },
      "id": "MnXhjD6fVIx2"
    }
  ],
  "metadata": {
    "colab": {
      "provenance": []
    },
    "language_info": {
      "name": "python"
    },
    "kernelspec": {
      "name": "python3",
      "display_name": "Python 3"
    }
  },
  "nbformat": 4,
  "nbformat_minor": 5
}