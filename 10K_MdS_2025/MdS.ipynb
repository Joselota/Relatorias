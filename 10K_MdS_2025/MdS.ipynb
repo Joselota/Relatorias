{
 "cells": [
  {
   "cell_type": "code",
   "execution_count": 3,
   "id": "009473cc-50c6-48d0-a752-5a128d8471c5",
   "metadata": {},
   "outputs": [
    {
     "name": "stdout",
     "output_type": "stream",
     "text": [
      "Collecting gpxpy\n",
      "  Downloading gpxpy-1.6.2-py3-none-any.whl.metadata (5.9 kB)\n",
      "Downloading gpxpy-1.6.2-py3-none-any.whl (42 kB)\n",
      "\u001b[2K   \u001b[90m━━━━━━━━━━━━━━━━━━━━━━━━━━━━━━━━━━━━━━━━\u001b[0m \u001b[32m42.6/42.6 kB\u001b[0m \u001b[31m900.6 kB/s\u001b[0m eta \u001b[36m0:00:00\u001b[0m\n",
      "\u001b[?25hInstalling collected packages: gpxpy\n",
      "Successfully installed gpxpy-1.6.2\n",
      "Note: you may need to restart the kernel to use updated packages.\n"
     ]
    }
   ],
   "source": [
    "#pip install gpxpy"
   ]
  },
  {
   "cell_type": "code",
   "execution_count": 3,
   "id": "a35d3867-bb05-4c0c-99ba-8055a1fb8f8c",
   "metadata": {},
   "outputs": [
    {
     "name": "stdout",
     "output_type": "stream",
     "text": [
      "Collecting geojson\n",
      "  Downloading geojson-3.2.0-py3-none-any.whl.metadata (16 kB)\n",
      "Downloading geojson-3.2.0-py3-none-any.whl (15 kB)\n",
      "Installing collected packages: geojson\n",
      "Successfully installed geojson-3.2.0\n",
      "Note: you may need to restart the kernel to use updated packages.\n"
     ]
    }
   ],
   "source": [
    "#pip install geojson"
   ]
  },
  {
   "cell_type": "code",
   "execution_count": 1,
   "id": "876205bb-e2df-407d-8e56-644b1bf04140",
   "metadata": {},
   "outputs": [
    {
     "name": "stdout",
     "output_type": "stream",
     "text": [
      "Archivo GPX convertido a GeoJSON exitosamente. Guardado en: maraton_santiago_2025.geojson\n"
     ]
    }
   ],
   "source": [
    "import gpxpy\n",
    "import gpxpy.gpx\n",
    "import geojson\n",
    "\n",
    "# Especifica la ruta de tu archivo GPX\n",
    "gpx_file_path = 'activity_19162156358.GPX'\n",
    "\n",
    "gpx = None  # Inicializa gpx fuera del bloque try\n",
    "try:\n",
    "    with open(gpx_file_path, 'r') as f:\n",
    "        gpx = gpxpy.parse(f)\n",
    "except FileNotFoundError:\n",
    "    print(f\"Error: El archivo '{gpx_file_path}' no fue encontrado.\")\n",
    "    exit()\n",
    "\n",
    "if gpx:  # Solo procede si se pudo parsear el archivo GPX\n",
    "    features = []\n",
    "    for track in gpx.tracks:\n",
    "        for segment in track.segments:\n",
    "            coordinates = []\n",
    "            for point in segment.points:\n",
    "                coordinates.append((point.longitude, point.latitude))\n",
    "            if coordinates:\n",
    "                line_string = geojson.LineString(coordinates)\n",
    "                feature = geojson.Feature(geometry=line_string, properties={})\n",
    "                features.append(feature)\n",
    "\n",
    "    feature_collection = geojson.FeatureCollection(features)\n",
    "\n",
    "    # Especifica la ruta donde guardar el archivo GeoJSON\n",
    "    geojson_file_path = 'maraton_santiago_2025.geojson'\n",
    "\n",
    "    with open(geojson_file_path, 'w') as f:\n",
    "        geojson.dump(feature_collection, f)\n",
    "\n",
    "    print(f\"Archivo GPX convertido a GeoJSON exitosamente. Guardado en: {geojson_file_path}\")\n",
    "else:\n",
    "    print(\"No se pudo procesar el archivo GPX.\")"
   ]
  },
  {
   "cell_type": "code",
   "execution_count": 3,
   "id": "992058fa-315d-410f-a809-a997b867ac2b",
   "metadata": {},
   "outputs": [
    {
     "name": "stdout",
     "output_type": "stream",
     "text": [
      "Collecting folium\n",
      "  Downloading folium-0.19.5-py2.py3-none-any.whl.metadata (4.1 kB)\n",
      "Collecting branca>=0.6.0 (from folium)\n",
      "  Downloading branca-0.8.1-py3-none-any.whl.metadata (1.5 kB)\n",
      "Requirement already satisfied: jinja2>=2.9 in /opt/anaconda3/lib/python3.11/site-packages (from folium) (3.1.3)\n",
      "Requirement already satisfied: numpy in /opt/anaconda3/lib/python3.11/site-packages (from folium) (1.24.4)\n",
      "Requirement already satisfied: requests in /opt/anaconda3/lib/python3.11/site-packages (from folium) (2.32.3)\n",
      "Requirement already satisfied: xyzservices in /opt/anaconda3/lib/python3.11/site-packages (from folium) (2022.9.0)\n",
      "Requirement already satisfied: MarkupSafe>=2.0 in /opt/anaconda3/lib/python3.11/site-packages (from jinja2>=2.9->folium) (2.1.3)\n",
      "Requirement already satisfied: charset-normalizer<4,>=2 in /opt/anaconda3/lib/python3.11/site-packages (from requests->folium) (2.0.4)\n",
      "Requirement already satisfied: idna<4,>=2.5 in /opt/anaconda3/lib/python3.11/site-packages (from requests->folium) (3.4)\n",
      "Requirement already satisfied: urllib3<3,>=1.21.1 in /opt/anaconda3/lib/python3.11/site-packages (from requests->folium) (2.0.7)\n",
      "Requirement already satisfied: certifi>=2017.4.17 in /opt/anaconda3/lib/python3.11/site-packages (from requests->folium) (2025.1.31)\n",
      "Downloading folium-0.19.5-py2.py3-none-any.whl (110 kB)\n",
      "\u001b[2K   \u001b[90m━━━━━━━━━━━━━━━━━━━━━━━━━━━━━━━━━━━━━━━━\u001b[0m \u001b[32m110.9/110.9 kB\u001b[0m \u001b[31m2.1 MB/s\u001b[0m eta \u001b[36m0:00:00\u001b[0ma \u001b[36m0:00:01\u001b[0m\n",
      "\u001b[?25hDownloading branca-0.8.1-py3-none-any.whl (26 kB)\n",
      "Installing collected packages: branca, folium\n",
      "Successfully installed branca-0.8.1 folium-0.19.5\n",
      "Note: you may need to restart the kernel to use updated packages.\n"
     ]
    }
   ],
   "source": [
    "pip install folium"
   ]
  },
  {
   "cell_type": "code",
   "execution_count": 5,
   "id": "3907a638-f36f-4e5f-b8c2-cffca69c4831",
   "metadata": {},
   "outputs": [],
   "source": [
    "import gpxpy\n",
    "import folium\n",
    "\n",
    "# Leer archivo GPX\n",
    "with open('Ingrid_Solis_2023-05-14_07-54-36.GPX', 'r') as f:\n",
    "    gpx = gpxpy.parse(f)\n",
    "\n",
    "# Extraer puntos\n",
    "points = []\n",
    "for track in gpx.tracks:\n",
    "    for segment in track.segments:\n",
    "        for point in segment.points:\n",
    "            points.append([point.latitude, point.longitude])\n",
    "\n",
    "# Crear mapa centrado en el primer punto\n",
    "mapa = folium.Map(location=points[0], zoom_start=13)\n",
    "\n",
    "# Añadir ruta al mapa\n",
    "folium.PolyLine(points, color=\"blue\", weight=4.5, opacity=0.8).add_to(mapa)\n",
    "\n",
    "# Marcar inicio y meta\n",
    "\n",
    "folium.Marker(points[0], tooltip=\"Inicio\").add_to(mapa)\n",
    "folium.Marker(points[-1], tooltip=\"Meta\").add_to(mapa)\n",
    "\n",
    "# Mostrar mapa\n",
    "mapa.save('maraton_santiago_map.html')\n"
   ]
  },
  {
   "cell_type": "code",
   "execution_count": null,
   "id": "6d197764-b232-47a7-96d1-1bdd0debfd27",
   "metadata": {},
   "outputs": [],
   "source": []
  },
  {
   "cell_type": "code",
   "execution_count": 7,
   "id": "a126c6f0-ff77-4351-a531-c212f869f77c",
   "metadata": {},
   "outputs": [
    {
     "name": "stdout",
     "output_type": "stream",
     "text": [
      "Archivo CSV guardado como: activity_data.csv\n"
     ]
    }
   ],
   "source": [
    "import gpxpy\n",
    "import csv\n",
    "\n",
    "gpx_file_path = 'activity_19162156358.GPX'\n",
    "csv_file_path = 'activity_data.csv'\n",
    "\n",
    "try:\n",
    "    with open(gpx_file_path, 'r') as f:\n",
    "        gpx = gpxpy.parse(f)\n",
    "\n",
    "    with open(csv_file_path, 'w', newline='') as csvfile:\n",
    "        fieldnames = ['latitude', 'longitude', 'elevation', 'time']\n",
    "        writer = csv.DictWriter(csvfile, fieldnames=fieldnames)\n",
    "        writer.writeheader()\n",
    "\n",
    "        for track in gpx.tracks:\n",
    "            for segment in track.segments:\n",
    "                for point in segment.points:\n",
    "                    writer.writerow({\n",
    "                        'latitude': point.latitude,\n",
    "                        'longitude': point.longitude,\n",
    "                        'elevation': point.elevation,\n",
    "                        'time': point.time\n",
    "                    })\n",
    "\n",
    "    print(f\"Archivo CSV guardado como: {csv_file_path}\")\n",
    "\n",
    "except Exception as e:\n",
    "    print(f\"Ocurrió un error: {e}\")\n"
   ]
  },
  {
   "cell_type": "code",
   "execution_count": null,
   "id": "03efa123-5b59-4f6f-91a8-de165d3dabfa",
   "metadata": {},
   "outputs": [],
   "source": []
  }
 ],
 "metadata": {
  "kernelspec": {
   "display_name": "Python 3 (ipykernel)",
   "language": "python",
   "name": "python3"
  },
  "language_info": {
   "codemirror_mode": {
    "name": "ipython",
    "version": 3
   },
   "file_extension": ".py",
   "mimetype": "text/x-python",
   "name": "python",
   "nbconvert_exporter": "python",
   "pygments_lexer": "ipython3",
   "version": "3.11.7"
  }
 },
 "nbformat": 4,
 "nbformat_minor": 5
}
