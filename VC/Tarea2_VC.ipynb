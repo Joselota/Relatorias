{
  "cells": [
    {
      "cell_type": "markdown",
      "id": "1304733e-ce68-474c-a855-e94ead7a50e6",
      "metadata": {
        "id": "1304733e-ce68-474c-a855-e94ead7a50e6"
      },
      "source": [
        "<div>\n",
        "<img src=\"https://i.ibb.co/v3CvVz9/udd-short.png\" width=\"150\"/>\n",
        "<h2>Universidad del Desarrollo</h2>\n",
        "<h3>Visión computacional - Magister en Data Science - Versión 2024 </h3>\n",
        "<h4>Tarea 2 </h4>\n",
        "<h5>Profesor: Takeshi Asahi</h5>\n",
        "Estudiante: Ingrid Solís González  \n",
        "</div>"
      ]
    },
    {
      "cell_type": "markdown",
      "id": "5e187502-c618-4123-88b3-81ea5b893f6b",
      "metadata": {
        "id": "5e187502-c618-4123-88b3-81ea5b893f6b"
      },
      "source": [
        "<div style=\"background-color: #f8f9fa; padding: 15px; border-radius: 5px; border-left: 4px solid #4682b4; box-shadow: 0 2px 5px rgba(0,0,0,0.1);\">\n",
        "<h2>Instrucciones</h2>\n",
        "</div>"
      ]
    },
    {
      "cell_type": "markdown",
      "id": "85e68af5-25d2-4b72-8ce3-1bd7508d3d3b",
      "metadata": {
        "id": "85e68af5-25d2-4b72-8ce3-1bd7508d3d3b"
      },
      "source": [
        "1. Diseñar un flujo de procesamiento a nivel abstracto: adquisición de imágenes, pre-procesamiento, procesamiento de imágenes, cálculo de la medición, almacenamiento.\n",
        "\n",
        "2. Con la base de datos seleccionada, implementar un sistema de reconocimiento y/o procesamiento en el cual se realice una medida o inferencia sobre imagen. Puede ser la detección de un objeto, medición de distancias entre píxeles de alguna característica, medición del tamaño de algún objeto (en cantidad de píxeles) clasificación de la imagen, entre otros.\n",
        "\n",
        "3. Para procesar el conjunto completo de imágenes, medir los tiempos de ejecución del proceso completo. Realizar la medición para el 50% y el 100% de la imágenes varias veces, de manera de obtener algunas figuras estadísticas: tiempo máximo, tiempo mínimo, tiempo medio, desviación estándar del tiempo.\n",
        "\n",
        "4. Hacer resumen de los resultados del procesamiento. Para ello debe decidir una métrica para indicar si el procesamiento es satisfactorio. Para esto último algunas veces es necesario hacer la evaluación en forma manual, por lo tanto, si fuera este el caso, seleccionar un sub-conjunto de las imágenes (por ejemplo, unas 50) y comparar el desempeño del algoritmo en estas imágenes."
      ]
    },
    {
      "cell_type": "markdown",
      "id": "65653f0a-f3ac-44e0-b99c-8e0506cd7df2",
      "metadata": {
        "id": "65653f0a-f3ac-44e0-b99c-8e0506cd7df2"
      },
      "source": [
        "<div style=\"background-color: #f8f9fa; padding: 15px; border-radius: 5px; border-left: 4px solid #4682b4; box-shadow: 0 2px 5px rgba(0,0,0,0.1);\">\n",
        "<h2>Desarrollo</h2>\n",
        "</div>"
      ]
    },
    {
      "cell_type": "markdown",
      "id": "0e7e21be-7078-4c11-9ab9-4ccf10acb873",
      "metadata": {
        "id": "0e7e21be-7078-4c11-9ab9-4ccf10acb873"
      },
      "source": [
        "<h3><b>Flujo de procesamiento a nivel abstracto</b></h3>"
      ]
    },
    {
      "cell_type": "markdown",
      "id": "3ef6533f-5b14-4c29-8a3e-b95ddf900a21",
      "metadata": {
        "id": "3ef6533f-5b14-4c29-8a3e-b95ddf900a21"
      },
      "source": [
        "<div style=\"\n",
        "    background: linear-gradient(90deg, #f5f7fa 20%, #e4e8eb 80%);\n",
        "    padding: 12px;\n",
        "    border-radius: 8px;\n",
        "    border-left: 4px solid #4b6cb7;\n",
        "    font-family: Arial, sans-serif;\n",
        "    text-align: center;\n",
        "    box-shadow: 0 2px 4px rgba(0,0,0,0.1);\n",
        "\">\n",
        "<span style=\"\n",
        "    display: inline-block;\n",
        "    margin: 8px 0;\n",
        "    padding: 6px 12px;\n",
        "    background: #ffffff;\n",
        "    border-radius: 20px;\n",
        "    box-shadow: 0 1px 3px rgba(0,0,0,0.1);\n",
        "    font-weight: bold;\n",
        "\">I.Adquisición</span>\n",
        "<span style=\"font-size: 18px; color: #888;\">→</span>\n",
        "<span style=\"\n",
        "    display: inline-block;\n",
        "    margin: 8px 0;\n",
        "    padding: 6px 12px;\n",
        "    background: #ffffff;\n",
        "    border-radius: 20px;\n",
        "    box-shadow: 0 1px 3px rgba(0,0,0,0.1);\n",
        "    font-weight: bold;\n",
        "\">II.Pre-procesamiento</span>\n",
        "<span style=\"font-size: 18px; color: #888;\">→</span>\n",
        "<span style=\"\n",
        "    display: inline-block;\n",
        "    margin: 8px 0;\n",
        "    padding: 6px 12px;\n",
        "    background: #ffffff;\n",
        "    border-radius: 20px;\n",
        "    box-shadow: 0 1px 3px rgba(0,0,0,0.1);\n",
        "    font-weight: bold;\n",
        "\">III.Procesamiento</span>\n",
        "<span style=\"font-size: 18px; color: #888;\">→</span>\n",
        "<span style=\"\n",
        "    display: inline-block;\n",
        "    margin: 8px 0;\n",
        "    padding: 6px 12px;\n",
        "    background: #ffffff;\n",
        "    border-radius: 20px;\n",
        "    box-shadow: 0 1px 3px rgba(0,0,0,0.1);\n",
        "    font-weight: bold;\n",
        "\">IV.Medición</span>\n",
        "<span style=\"font-size: 18px; color: #888;\">→</span>\n",
        "<span style=\"\n",
        "    display: inline-block;\n",
        "    margin: 8px 0;\n",
        "    padding: 6px 12px;\n",
        "    background: #ffffff;\n",
        "    border-radius: 20px;\n",
        "    box-shadow: 0 1px 3px rgba(0,0,0,0.1);\n",
        "    font-weight: bold;\n",
        "\">V.Almacenamiento</span>\n",
        "</div>"
      ]
    },
    {
      "cell_type": "markdown",
      "id": "61a8342e-8cd6-44d2-8762-549c28f9b19e",
      "metadata": {
        "id": "61a8342e-8cd6-44d2-8762-549c28f9b19e"
      },
      "source": [
        "<div style=\"text-align: justify\">\n",
        "\n",
        "Adquisición: Carga de imágenes desde directorios etiquetados (usando ImageDataGenerator).\n",
        "\n",
        "Pre-procesamiento: Desarrollado en Tarea 1\n",
        "\n",
        "Procesamiento: Uso de MobileNetV2 para extracción de características + clasificación vía capas densas.\n",
        "\n",
        "Cálculo de medición: Inferencia de clase (predicción).\n",
        "\n",
        "Almacenamiento: Resultados disponibles en memoria y opcionalmente exportables como CSV y/o JSON.\n",
        "</div>"
      ]
    },
    {
      "cell_type": "markdown",
      "id": "a432d294-ad78-4138-a13a-1ca3ad844b6e",
      "metadata": {
        "id": "a432d294-ad78-4138-a13a-1ca3ad844b6e"
      },
      "source": [
        "<div style=\"background-color: #f0f8ff; padding: 8px; border-radius: 2px; border-left: 2px solid #4682b4;\">\n",
        "<h4><b>I. Adquisición:</b></h4>\n",
        "</div>"
      ]
    },
    {
      "cell_type": "markdown",
      "id": "827917d5-d06c-40df-817c-306246a75970",
      "metadata": {
        "id": "827917d5-d06c-40df-817c-306246a75970"
      },
      "source": [
        "<h4>1. Descripción del dataset:</h4>"
      ]
    },
    {
      "cell_type": "markdown",
      "id": "f1d35823-9003-466b-b3d2-07c249fe2476",
      "metadata": {
        "id": "f1d35823-9003-466b-b3d2-07c249fe2476"
      },
      "source": [
        "<b>Dataset elegido:</b> Google Open Images Dataset (Especificamente un subconjunto de insectos: Ant, Bee, Butterfly y Ladybug).<br>\n",
        "Estructura dataset:<br>\n",
        "<ol>\n",
        "    <li>Ant/</li>\n",
        "    <li>Bee/</li>\n",
        "    <li>Butterfly/</li>\n",
        "    <li>Ladybug/</li>\n",
        "</ol>\n",
        "<div style=\"text-align: justify\">\n",
        "<b>Descripción:</b>\n",
        "<ul>\n",
        "<li>Número de fotos: El dataset tiene más de 9 millones de imágenes, pero para esta parte de la tarea solos se seleccionará un subconjunto.</il>\n",
        "<li>Sensor: Las imágenes provienen de diversas fuentes, principalmente de la web, y fueron etiquetadas manualmente. Los sensores específicos no están indicados, ya que las imágenes provienen de cámaras de calidad variable, obtenidas en condiciones del mundo real.</il>\n",
        "<li>Condiciones ambientales: Las imágenes fueron tomadas en diferentes condiciones de iluminación y ángulos, lo que hace que el dataset sea útil para aplicaciones en escenarios de la vida real. </il>\n",
        "<li>Tipos de elementos que aparecen: En el caso del subconjunto \"insectos\", se incluyen imágenes de insectos como Ant, Bee, Butterfly y Ladybug. El dataset es adecuado para tareas de clasificación y detección de objetos, ya que las imágenes están etiquetadas con cajas delimitadoras.</il>\n",
        "</ul>\n",
        "<br>\n",
        "**Nota:\n",
        "La fuente de datos utilizada corresponde al dataset Open Images Dataset V4, (https://storage.googleapis.com/openimages/web/index.html)\n",
        "una base de datos pública de imágenes anotadas, desarrollada por Google. Desde este dataset se seleccionaron imágenes correspondientes a las categorías de insectos:\n",
        "Butterfly (mariposa), Bee (abeja), Ladybug (chinitas) y Ant (hormiga).\n",
        "\n",
        "La descarga de las imágenes se realizó utilizando el script oficial main.py del toolkit del dataset (https://github.com/EscVM/OIDv4_ToolKit)\n",
        "el cual permite filtrar por clases específicas y definir un límite de imágenes por clase.\n",
        "</div>"
      ]
    },
    {
      "cell_type": "markdown",
      "id": "4efb5f41-89cd-421a-83d1-a4b24a26bd88",
      "metadata": {
        "id": "4efb5f41-89cd-421a-83d1-a4b24a26bd88"
      },
      "source": [
        "<h4>2. Justificación de la aplicación:</h4>\n",
        "<div style=\"text-align: justify\">\n",
        "El conjunto de imágenes de insectos es interesante para aplicaciones en biología, agricultura o incluso en estudios de biodiversidad. Por ejemplo, una aplicación que detecte insectos en imágenes de cultivos podría ayudar a identificar plagas de manera automatizada, lo que permitiría a los agricultores tomar decisiones informadas sobre el control de plagas, optimizando el uso de pesticidas y mejorando los rendimientos de las cosechas.\n",
        "\n",
        "1. Aplicaciones en Agricultura: Monitoreo Automatizado de Plagas\n",
        "El monitoreo de plagas requiere intervenciones manuales, lo que puede ser costoso y, a menudo, ineficiente. Sin embargo, al utilizar un modelo de visión por computadora entrenado con un dataset como el de insectos, se pueden desarrollar aplicaciones móviles o sistemas de monitoreo que permitan detectar insectos en los cultivos de forma automatizada.\n",
        "\n",
        "2. Optimización del Uso de Pesticidas\n",
        "Una de las principales aplicaciones del dataset de insectos es en la detección precisa de plagas. Al entrenar un modelo con este dataset, se pueden identificar insectos de manera rápida y precisa, permitiendo a los agricultores aplicar pesticidas solo cuando realmente sea necesario y en áreas específicas afectadas por plagas, en lugar de usar un enfoque indiscriminado.\n",
        "    \n",
        "</div>"
      ]
    },
    {
      "cell_type": "markdown",
      "id": "bc9c04dd-1339-4652-97f9-ed02d504e629",
      "metadata": {
        "id": "bc9c04dd-1339-4652-97f9-ed02d504e629"
      },
      "source": [
        "<div style=\"background-color: #f0f8ff; padding: 8px; border-radius: 2px; border-left: 2px solid #4682b4;\">\n",
        "<h4><b>II. Pre-procesamiento:</b></h4>\n",
        "</div>"
      ]
    },
    {
      "cell_type": "markdown",
      "id": "c2202bec-cc54-4904-a9a1-21cc07eb0f5e",
      "metadata": {
        "id": "c2202bec-cc54-4904-a9a1-21cc07eb0f5e"
      },
      "source": [
        "A. Cambio de resolución de las imágenes (reducir tamaño a 512x512)"
      ]
    },
    {
      "cell_type": "markdown",
      "id": "3f8aea17-a3e8-49e3-9e1a-d40d180ec7a5",
      "metadata": {
        "id": "3f8aea17-a3e8-49e3-9e1a-d40d180ec7a5"
      },
      "source": [
        "Realizado en la tarea 1"
      ]
    },
    {
      "cell_type": "markdown",
      "id": "7e202ace-f29a-4f8b-b583-6c73b168982f",
      "metadata": {
        "id": "7e202ace-f29a-4f8b-b583-6c73b168982f"
      },
      "source": [
        "B. Filtrado gaussiano para suavizar las imágenes"
      ]
    },
    {
      "cell_type": "markdown",
      "id": "9489f2eb-742f-4869-8571-5507bbe7fd81",
      "metadata": {
        "id": "9489f2eb-742f-4869-8571-5507bbe7fd81"
      },
      "source": [
        "Realizado en la tarea 1"
      ]
    },
    {
      "cell_type": "markdown",
      "id": "c2256bbb-29f2-4535-b447-18421bd88fb4",
      "metadata": {
        "id": "c2256bbb-29f2-4535-b447-18421bd88fb4"
      },
      "source": [
        "<div style=\"background-color: #f0f8ff; padding: 8px; border-radius: 2px; border-left: 2px solid #4682b4;\">\n",
        "<h4><b>III. Procesamiento:</b></h4>\n",
        "</div>"
      ]
    },
    {
      "cell_type": "markdown",
      "id": "6de7c26a-c5dd-4d18-87c0-8d70c98462ea",
      "metadata": {
        "id": "6de7c26a-c5dd-4d18-87c0-8d70c98462ea"
      },
      "source": [
        "<h4>Clasificación (Procesamiento principal)</h4>\n"
      ]
    },
    {
      "cell_type": "markdown",
      "id": "f5c1475c-f656-40ae-9532-2b15eb92f9a6",
      "metadata": {
        "id": "f5c1475c-f656-40ae-9532-2b15eb92f9a6"
      },
      "source": [
        "<b>Objetivo</b>\n",
        "<div style=\"text-align: justify\">\n",
        "Lo que buscamos es lograr predecir si la imagen contiene una mariposa, hormiga, abeja o mariquita usando un modelo de clasificación.\n",
        "Es por ello que el propósito de esta etapa es construir un modelo de clasificación,\n",
        "capaz de identificar con alta precisión si una imagen corresponde a una mariposa, una hormiga, una abeja o una mariquita.\n",
        "</div>"
      ]
    },
    {
      "cell_type": "code",
      "execution_count": null,
      "id": "7b451007-c604-4294-9e5b-0ecb7c4b83ed",
      "metadata": {
        "id": "7b451007-c604-4294-9e5b-0ecb7c4b83ed"
      },
      "outputs": [],
      "source": [
        "Recordemos que las imagenes de 'Bee', 'Ant', 'Butterfly' y 'Ladybug'.\n",
        "Se encuentran en estas carpetas:"
      ]
    },
    {
      "cell_type": "code",
      "execution_count": null,
      "id": "db343c4a-4466-4f17-b064-2d25bec1d786",
      "metadata": {
        "id": "db343c4a-4466-4f17-b064-2d25bec1d786"
      },
      "outputs": [],
      "source": [
        "# Directorio raíz que contiene las subcarpetas\n",
        "base_dir = '/Users/desarrollo/openimages-tarea/OIDv4_ToolKit/OID/Dataset/train'\n",
        "\n",
        "# Lista de carpetas específicas que queremos mostrar\n",
        "clases = ['Bee', 'Ant', 'Butterfly', 'Ladybug']"
      ]
    },
    {
      "cell_type": "markdown",
      "id": "cfa1d5ce-3519-47d8-ac59-b365d89e2cb2",
      "metadata": {
        "id": "cfa1d5ce-3519-47d8-ac59-b365d89e2cb2"
      },
      "source": [
        "Comenzando con el procesamiento:"
      ]
    },
    {
      "cell_type": "markdown",
      "id": "5efd4cc7-60cd-4db8-891b-46d7310180e2",
      "metadata": {
        "id": "5efd4cc7-60cd-4db8-891b-46d7310180e2"
      },
      "source": [
        "<b>(A) Cargar imágenes con ImageDataGenerator</b>"
      ]
    },
    {
      "cell_type": "markdown",
      "id": "3a961a6d-f9ba-474e-954a-4936ca78f096",
      "metadata": {
        "id": "3a961a6d-f9ba-474e-954a-4936ca78f096"
      },
      "source": [
        "<div style=\"text-align: justify\">\n",
        "\n",
        "Para preparar los datos de entrada, se utiliza la clase `ImageDataGenerator` de Keras, la cual permite cargar imágenes desde un directorio estructurado por clases y aplicar técnicas de data augmentation y normalización.\n",
        "\n",
        "El conjunto de datos fue dividido automáticamente en entrenamiento (80%) y validación (20%) mediante el parámetro `validation_split`. Ambas particiones fueron generadas a partir del mismo objeto `ImageDataGenerator`, garantizando consistencia en el preprocesamiento.\n",
        "\n",
        "Las imágenes fueron redimensionadas a 224×224 píxeles y cargadas en batches de tamaño 32, con codificación `categorical` para tareas de clasificación multiclase.\n",
        "\n",
        "</div>"
      ]
    },
    {
      "cell_type": "code",
      "execution_count": null,
      "id": "006e4eca-a82b-4c59-ba54-ea7f6c09b4c9",
      "metadata": {
        "id": "006e4eca-a82b-4c59-ba54-ea7f6c09b4c9",
        "outputId": "4a1b0574-9cb2-4dc8-834f-58e16d9f0921"
      },
      "outputs": [
        {
          "name": "stderr",
          "output_type": "stream",
          "text": [
            "2025-08-15 21:50:22.105584: I tensorflow/core/platform/cpu_feature_guard.cc:210] This TensorFlow binary is optimized to use available CPU instructions in performance-critical operations.\n",
            "To enable the following instructions: AVX2 FMA, in other operations, rebuild TensorFlow with the appropriate compiler flags.\n"
          ]
        },
        {
          "name": "stdout",
          "output_type": "stream",
          "text": [
            "Found 800 images belonging to 4 classes.\n",
            "Found 200 images belonging to 4 classes.\n"
          ]
        }
      ],
      "source": [
        "from tensorflow.keras.preprocessing.image import ImageDataGenerator\n",
        "from tensorflow.keras.applications.mobilenet_v2 import preprocess_input\n",
        "from tensorflow.keras.applications import MobileNetV2\n",
        "from tensorflow.keras.models import Sequential\n",
        "from tensorflow.keras.layers import Dense, GlobalAveragePooling2D\n",
        "from tensorflow.keras.optimizers import Adam\n",
        "\n",
        "# Directorio base\n",
        "base_dir = '/Users/desarrollo/openimages-tarea/OIDv4_ToolKit/OID/Dataset/train'\n",
        "\n",
        "# Clases\n",
        "clases = ['Bee', 'Ant', 'Butterfly', 'Ladybug']\n",
        "\n",
        "# Data augmentation sin rescale\n",
        "train_datagen = ImageDataGenerator(\n",
        "    rotation_range=20,\n",
        "    width_shift_range=0.2,\n",
        "    height_shift_range=0.2,\n",
        "    shear_range=0.2,\n",
        "    zoom_range=0.2,\n",
        "    horizontal_flip=True,\n",
        "    fill_mode='nearest',\n",
        "    validation_split=0.2,\n",
        "    preprocessing_function=preprocess_input\n",
        ")\n",
        "\n",
        "train_generator = train_datagen.flow_from_directory(\n",
        "    base_dir,\n",
        "    target_size=(224, 224),\n",
        "    batch_size=32,\n",
        "    class_mode='categorical',\n",
        "    classes=clases,\n",
        "    subset='training',\n",
        "    seed=42\n",
        ")\n",
        "\n",
        "val_generator = train_datagen.flow_from_directory(\n",
        "    base_dir,\n",
        "    target_size=(224, 224),\n",
        "    batch_size=32,\n",
        "    class_mode='categorical',\n",
        "    classes=clases,\n",
        "    subset='validation',\n",
        "    seed=42\n",
        ")\n",
        "\n"
      ]
    },
    {
      "cell_type": "markdown",
      "id": "b5981e8e-0cbb-440f-ada1-c36073e8f0bc",
      "metadata": {
        "id": "b5981e8e-0cbb-440f-ada1-c36073e8f0bc"
      },
      "source": [
        "<b>Comentario:</b>\n",
        "<div style=\"text-align: justify\">\n",
        "Del output que se muestra posterior a la ejecución del código. Nos señala que ya el conjunto de imágenes ha sido dividido\n",
        "correctamente en dos subconjuntos: uno de entrenamiento compuesto por 800 imágenes\n",
        "y otro de validación con 200 imágenes.\n",
        "\n",
        "Ambas divisiones mantienen una distribución balanceada entre las cuatro clases objetivo (abeja, hormiga, mariposa y mariquita), lo cual es crucial para garantizar un aprendizaje robusto del modelo y una evaluación representativa\n",
        "de su desempeño.\n",
        "</div>"
      ]
    },
    {
      "cell_type": "markdown",
      "id": "4de82339-7687-4e31-b928-5f11a9a372a3",
      "metadata": {
        "id": "4de82339-7687-4e31-b928-5f11a9a372a3"
      },
      "source": [
        "<hr>"
      ]
    },
    {
      "cell_type": "markdown",
      "id": "8d06d286-5299-4d7e-bb02-173aaf20dbab",
      "metadata": {
        "id": "8d06d286-5299-4d7e-bb02-173aaf20dbab"
      },
      "source": [
        "<b>(B) Definir el modelo de clasificación</b>\n",
        "<div style=\"text-align: justify\">\n",
        "Para entrenar el modelo que reconocería insectos, se usa una estrategia que aprovecha un modelo ya entrenado llamado MobileNetV2.\n",
        "Este modelo, que ya sabe identificar muchos objetos, se adapta para que aprenda a reconocer nuestras cuatro clases: abeja,\n",
        "hormiga, mariposa y mariquita.\n",
        "\n",
        "Se mantiene intacta la base del modelo para conservar su conocimiento previo y se añaden nuevas capas que le permiten adaptarse a\n",
        "esta tarea específica. Además, se configura para que aprenda usando un método eficiente y mida su desempeño con la precisión,\n",
        "que indica qué tan bien acierta en sus respuestas.\n",
        "\n",
        "Nota: MobileNetV2 fue elegido porque es rápido y liviano, lo que permite entrenarlo más rápido y usarlo fácilmente.\n",
        "</div>"
      ]
    },
    {
      "cell_type": "code",
      "execution_count": null,
      "id": "90c1bde0-8f0e-4d80-bf84-1773a450439b",
      "metadata": {
        "id": "90c1bde0-8f0e-4d80-bf84-1773a450439b"
      },
      "outputs": [],
      "source": [
        "# Base MobileNetV2\n",
        "base_model = MobileNetV2(include_top=False, weights='imagenet', input_shape=(224, 224, 3))\n",
        "base_model.trainable = False  # Congelar capas base\n",
        "\n",
        "# Construcción del modelo\n",
        "model = Sequential([\n",
        "    base_model,\n",
        "    GlobalAveragePooling2D(),\n",
        "    Dense(128, activation='relu'),\n",
        "    Dense(len(clases), activation='softmax')\n",
        "])\n",
        "\n",
        "# Compilación\n",
        "model.compile(optimizer=Adam(learning_rate=0.0001),\n",
        "              loss='categorical_crossentropy',\n",
        "              metrics=['accuracy'])"
      ]
    },
    {
      "cell_type": "markdown",
      "id": "e7d04e64-2831-43a6-8f04-20841ac78ce8",
      "metadata": {
        "id": "e7d04e64-2831-43a6-8f04-20841ac78ce8"
      },
      "source": [
        "Nota: Ese mensaje indica que se descargaron correctamente los pesos preentrenados de MobileNetV2, necesarios para inicializar el modelo con conocimiento previamente aprendido en el dataset ImageNet."
      ]
    },
    {
      "cell_type": "code",
      "execution_count": null,
      "id": "1e7e5760-f3ff-4aa5-8b77-01f5c13fbe8b",
      "metadata": {
        "id": "1e7e5760-f3ff-4aa5-8b77-01f5c13fbe8b",
        "outputId": "26ca6d46-128a-4fd0-b857-bd6c44b45873"
      },
      "outputs": [
        {
          "data": {
            "text/html": [
              "<pre style=\"white-space:pre;overflow-x:auto;line-height:normal;font-family:Menlo,'DejaVu Sans Mono',consolas,'Courier New',monospace\"><span style=\"font-weight: bold\">Model: \"sequential\"</span>\n",
              "</pre>\n"
            ],
            "text/plain": [
              "\u001b[1mModel: \"sequential\"\u001b[0m\n"
            ]
          },
          "metadata": {},
          "output_type": "display_data"
        },
        {
          "data": {
            "text/html": [
              "<pre style=\"white-space:pre;overflow-x:auto;line-height:normal;font-family:Menlo,'DejaVu Sans Mono',consolas,'Courier New',monospace\">┏━━━━━━━━━━━━━━━━━━━━━━━━━━━━━━━━━┳━━━━━━━━━━━━━━━━━━━━━━━━┳━━━━━━━━━━━━━━━┓\n",
              "┃<span style=\"font-weight: bold\"> Layer (type)                    </span>┃<span style=\"font-weight: bold\"> Output Shape           </span>┃<span style=\"font-weight: bold\">       Param # </span>┃\n",
              "┡━━━━━━━━━━━━━━━━━━━━━━━━━━━━━━━━━╇━━━━━━━━━━━━━━━━━━━━━━━━╇━━━━━━━━━━━━━━━┩\n",
              "│ mobilenetv2_1.00_224            │ (<span style=\"color: #00d7ff; text-decoration-color: #00d7ff\">None</span>, <span style=\"color: #00af00; text-decoration-color: #00af00\">7</span>, <span style=\"color: #00af00; text-decoration-color: #00af00\">7</span>, <span style=\"color: #00af00; text-decoration-color: #00af00\">1280</span>)     │     <span style=\"color: #00af00; text-decoration-color: #00af00\">2,257,984</span> │\n",
              "│ (<span style=\"color: #0087ff; text-decoration-color: #0087ff\">Functional</span>)                    │                        │               │\n",
              "├─────────────────────────────────┼────────────────────────┼───────────────┤\n",
              "│ global_average_pooling2d        │ (<span style=\"color: #00d7ff; text-decoration-color: #00d7ff\">None</span>, <span style=\"color: #00af00; text-decoration-color: #00af00\">1280</span>)           │             <span style=\"color: #00af00; text-decoration-color: #00af00\">0</span> │\n",
              "│ (<span style=\"color: #0087ff; text-decoration-color: #0087ff\">GlobalAveragePooling2D</span>)        │                        │               │\n",
              "├─────────────────────────────────┼────────────────────────┼───────────────┤\n",
              "│ dense (<span style=\"color: #0087ff; text-decoration-color: #0087ff\">Dense</span>)                   │ (<span style=\"color: #00d7ff; text-decoration-color: #00d7ff\">None</span>, <span style=\"color: #00af00; text-decoration-color: #00af00\">128</span>)            │       <span style=\"color: #00af00; text-decoration-color: #00af00\">163,968</span> │\n",
              "├─────────────────────────────────┼────────────────────────┼───────────────┤\n",
              "│ dense_1 (<span style=\"color: #0087ff; text-decoration-color: #0087ff\">Dense</span>)                 │ (<span style=\"color: #00d7ff; text-decoration-color: #00d7ff\">None</span>, <span style=\"color: #00af00; text-decoration-color: #00af00\">4</span>)              │           <span style=\"color: #00af00; text-decoration-color: #00af00\">516</span> │\n",
              "└─────────────────────────────────┴────────────────────────┴───────────────┘\n",
              "</pre>\n"
            ],
            "text/plain": [
              "┏━━━━━━━━━━━━━━━━━━━━━━━━━━━━━━━━━┳━━━━━━━━━━━━━━━━━━━━━━━━┳━━━━━━━━━━━━━━━┓\n",
              "┃\u001b[1m \u001b[0m\u001b[1mLayer (type)                   \u001b[0m\u001b[1m \u001b[0m┃\u001b[1m \u001b[0m\u001b[1mOutput Shape          \u001b[0m\u001b[1m \u001b[0m┃\u001b[1m \u001b[0m\u001b[1m      Param #\u001b[0m\u001b[1m \u001b[0m┃\n",
              "┡━━━━━━━━━━━━━━━━━━━━━━━━━━━━━━━━━╇━━━━━━━━━━━━━━━━━━━━━━━━╇━━━━━━━━━━━━━━━┩\n",
              "│ mobilenetv2_1.00_224            │ (\u001b[38;5;45mNone\u001b[0m, \u001b[38;5;34m7\u001b[0m, \u001b[38;5;34m7\u001b[0m, \u001b[38;5;34m1280\u001b[0m)     │     \u001b[38;5;34m2,257,984\u001b[0m │\n",
              "│ (\u001b[38;5;33mFunctional\u001b[0m)                    │                        │               │\n",
              "├─────────────────────────────────┼────────────────────────┼───────────────┤\n",
              "│ global_average_pooling2d        │ (\u001b[38;5;45mNone\u001b[0m, \u001b[38;5;34m1280\u001b[0m)           │             \u001b[38;5;34m0\u001b[0m │\n",
              "│ (\u001b[38;5;33mGlobalAveragePooling2D\u001b[0m)        │                        │               │\n",
              "├─────────────────────────────────┼────────────────────────┼───────────────┤\n",
              "│ dense (\u001b[38;5;33mDense\u001b[0m)                   │ (\u001b[38;5;45mNone\u001b[0m, \u001b[38;5;34m128\u001b[0m)            │       \u001b[38;5;34m163,968\u001b[0m │\n",
              "├─────────────────────────────────┼────────────────────────┼───────────────┤\n",
              "│ dense_1 (\u001b[38;5;33mDense\u001b[0m)                 │ (\u001b[38;5;45mNone\u001b[0m, \u001b[38;5;34m4\u001b[0m)              │           \u001b[38;5;34m516\u001b[0m │\n",
              "└─────────────────────────────────┴────────────────────────┴───────────────┘\n"
            ]
          },
          "metadata": {},
          "output_type": "display_data"
        },
        {
          "data": {
            "text/html": [
              "<pre style=\"white-space:pre;overflow-x:auto;line-height:normal;font-family:Menlo,'DejaVu Sans Mono',consolas,'Courier New',monospace\"><span style=\"font-weight: bold\"> Total params: </span><span style=\"color: #00af00; text-decoration-color: #00af00\">2,422,468</span> (9.24 MB)\n",
              "</pre>\n"
            ],
            "text/plain": [
              "\u001b[1m Total params: \u001b[0m\u001b[38;5;34m2,422,468\u001b[0m (9.24 MB)\n"
            ]
          },
          "metadata": {},
          "output_type": "display_data"
        },
        {
          "data": {
            "text/html": [
              "<pre style=\"white-space:pre;overflow-x:auto;line-height:normal;font-family:Menlo,'DejaVu Sans Mono',consolas,'Courier New',monospace\"><span style=\"font-weight: bold\"> Trainable params: </span><span style=\"color: #00af00; text-decoration-color: #00af00\">164,484</span> (642.52 KB)\n",
              "</pre>\n"
            ],
            "text/plain": [
              "\u001b[1m Trainable params: \u001b[0m\u001b[38;5;34m164,484\u001b[0m (642.52 KB)\n"
            ]
          },
          "metadata": {},
          "output_type": "display_data"
        },
        {
          "data": {
            "text/html": [
              "<pre style=\"white-space:pre;overflow-x:auto;line-height:normal;font-family:Menlo,'DejaVu Sans Mono',consolas,'Courier New',monospace\"><span style=\"font-weight: bold\"> Non-trainable params: </span><span style=\"color: #00af00; text-decoration-color: #00af00\">2,257,984</span> (8.61 MB)\n",
              "</pre>\n"
            ],
            "text/plain": [
              "\u001b[1m Non-trainable params: \u001b[0m\u001b[38;5;34m2,257,984\u001b[0m (8.61 MB)\n"
            ]
          },
          "metadata": {},
          "output_type": "display_data"
        }
      ],
      "source": [
        "# El método model.summary() en Keras genera un resumen estructurado de la arquitectura del modelo.\n",
        "model.summary()\n"
      ]
    },
    {
      "cell_type": "markdown",
      "id": "5e36bd21-870b-4e7b-8dfb-929a0427db31",
      "metadata": {
        "id": "5e36bd21-870b-4e7b-8dfb-929a0427db31"
      },
      "source": [
        "<hr>"
      ]
    },
    {
      "cell_type": "markdown",
      "id": "3b475c18-e720-4bab-a424-f0d9a1a3b714",
      "metadata": {
        "id": "3b475c18-e720-4bab-a424-f0d9a1a3b714"
      },
      "source": [
        "<b>(C) Entrenar el modelo</b>\n",
        "<div style=\"text-align: justify\">\n",
        "Con los datos preparados y el modelo listo, llega el momento de entrenarlo. Para eso, utilizamos los conjuntos de imágenes de entrenamiento y validación que definimos anteriormente.\n",
        "\n",
        "El entrenamiento se realiza en 10 ciclos (épocas), donde el modelo va aprendiendo a reconocer patrones en las imágenes para poder clasificarlas correctamente en una de las cuatro categorías: abeja, hormiga, mariposa o mariquita.\n",
        "\n",
        "A lo largo del proceso, el modelo va mejorando su capacidad para identificar correctamente las imágenes. Adicionalmente, se evalúa constantemente su rendimiento con el conjunto de validación, lo que permite verificar que esté aprendiendo de forma adecuada y no simplemente memorizando los datos.\n",
        "\n",
        "El resultado de este paso es un modelo entrenado, listo para ser evaluado con nuevas imágenes.\n",
        "</div>"
      ]
    },
    {
      "cell_type": "code",
      "execution_count": null,
      "id": "f8dc2dad-7248-4f8d-9841-91efb3f609f1",
      "metadata": {
        "id": "f8dc2dad-7248-4f8d-9841-91efb3f609f1",
        "outputId": "63dacb81-afdd-4ac0-c163-ad7131c37bd0"
      },
      "outputs": [
        {
          "name": "stderr",
          "output_type": "stream",
          "text": [
            "/opt/anaconda3/lib/python3.11/site-packages/keras/src/trainers/data_adapters/py_dataset_adapter.py:121: UserWarning: Your `PyDataset` class should call `super().__init__(**kwargs)` in its constructor. `**kwargs` can include `workers`, `use_multiprocessing`, `max_queue_size`. Do not pass these arguments to `fit()`, as they will be ignored.\n",
            "  self._warn_if_super_not_called()\n"
          ]
        },
        {
          "name": "stdout",
          "output_type": "stream",
          "text": [
            "Epoch 1/10\n",
            "\u001b[1m25/25\u001b[0m \u001b[32m━━━━━━━━━━━━━━━━━━━━\u001b[0m\u001b[37m\u001b[0m \u001b[1m0s\u001b[0m 1s/step - accuracy: 0.3471 - loss: 1.4277"
          ]
        },
        {
          "name": "stderr",
          "output_type": "stream",
          "text": [
            "/opt/anaconda3/lib/python3.11/site-packages/keras/src/trainers/data_adapters/py_dataset_adapter.py:121: UserWarning: Your `PyDataset` class should call `super().__init__(**kwargs)` in its constructor. `**kwargs` can include `workers`, `use_multiprocessing`, `max_queue_size`. Do not pass these arguments to `fit()`, as they will be ignored.\n",
            "  self._warn_if_super_not_called()\n"
          ]
        },
        {
          "name": "stdout",
          "output_type": "stream",
          "text": [
            "\u001b[1m25/25\u001b[0m \u001b[32m━━━━━━━━━━━━━━━━━━━━\u001b[0m\u001b[37m\u001b[0m \u001b[1m43s\u001b[0m 2s/step - accuracy: 0.3512 - loss: 1.4210 - val_accuracy: 0.7150 - val_loss: 0.8895\n",
            "Epoch 2/10\n",
            "\u001b[1m25/25\u001b[0m \u001b[32m━━━━━━━━━━━━━━━━━━━━\u001b[0m\u001b[37m\u001b[0m \u001b[1m37s\u001b[0m 1s/step - accuracy: 0.7988 - loss: 0.7564 - val_accuracy: 0.8350 - val_loss: 0.5759\n",
            "Epoch 3/10\n",
            "\u001b[1m25/25\u001b[0m \u001b[32m━━━━━━━━━━━━━━━━━━━━\u001b[0m\u001b[37m\u001b[0m \u001b[1m38s\u001b[0m 2s/step - accuracy: 0.8353 - loss: 0.5583 - val_accuracy: 0.8750 - val_loss: 0.4610\n",
            "Epoch 4/10\n",
            "\u001b[1m25/25\u001b[0m \u001b[32m━━━━━━━━━━━━━━━━━━━━\u001b[0m\u001b[37m\u001b[0m \u001b[1m36s\u001b[0m 1s/step - accuracy: 0.8994 - loss: 0.3968 - val_accuracy: 0.8700 - val_loss: 0.4203\n",
            "Epoch 5/10\n",
            "\u001b[1m25/25\u001b[0m \u001b[32m━━━━━━━━━━━━━━━━━━━━\u001b[0m\u001b[37m\u001b[0m \u001b[1m35s\u001b[0m 1s/step - accuracy: 0.8873 - loss: 0.3933 - val_accuracy: 0.8650 - val_loss: 0.4085\n",
            "Epoch 6/10\n",
            "\u001b[1m25/25\u001b[0m \u001b[32m━━━━━━━━━━━━━━━━━━━━\u001b[0m\u001b[37m\u001b[0m \u001b[1m35s\u001b[0m 1s/step - accuracy: 0.9073 - loss: 0.3074 - val_accuracy: 0.8900 - val_loss: 0.3494\n",
            "Epoch 7/10\n",
            "\u001b[1m25/25\u001b[0m \u001b[32m━━━━━━━━━━━━━━━━━━━━\u001b[0m\u001b[37m\u001b[0m \u001b[1m35s\u001b[0m 1s/step - accuracy: 0.9113 - loss: 0.2942 - val_accuracy: 0.8950 - val_loss: 0.3371\n",
            "Epoch 8/10\n",
            "\u001b[1m25/25\u001b[0m \u001b[32m━━━━━━━━━━━━━━━━━━━━\u001b[0m\u001b[37m\u001b[0m \u001b[1m35s\u001b[0m 1s/step - accuracy: 0.9205 - loss: 0.2543 - val_accuracy: 0.8850 - val_loss: 0.3250\n",
            "Epoch 9/10\n",
            "\u001b[1m25/25\u001b[0m \u001b[32m━━━━━━━━━━━━━━━━━━━━\u001b[0m\u001b[37m\u001b[0m \u001b[1m35s\u001b[0m 1s/step - accuracy: 0.9248 - loss: 0.2479 - val_accuracy: 0.8800 - val_loss: 0.2935\n",
            "Epoch 10/10\n",
            "\u001b[1m25/25\u001b[0m \u001b[32m━━━━━━━━━━━━━━━━━━━━\u001b[0m\u001b[37m\u001b[0m \u001b[1m35s\u001b[0m 1s/step - accuracy: 0.9481 - loss: 0.2090 - val_accuracy: 0.8800 - val_loss: 0.3003\n"
          ]
        }
      ],
      "source": [
        "# Entrenamiento del modelo\n",
        "history = model.fit(\n",
        "    train_generator,\n",
        "    validation_data=val_generator,\n",
        "    epochs=10\n",
        ")"
      ]
    },
    {
      "cell_type": "markdown",
      "id": "12073993-d750-4184-8cc3-6d1ff2f51c9d",
      "metadata": {
        "id": "12073993-d750-4184-8cc3-6d1ff2f51c9d"
      },
      "source": [
        "<div style=\"text-align: justify\">\n",
        "<b>Comentario:</b>\n",
        "\n",
        "El modelo comienza con una precisión de alrededor del 34.5% en la primera época y aumenta gradualmente, alcanzando el 92.64% al final de la décima época. Esto indica que el modelo está aprendiendo de manera efectiva durante el entrenamiento.\n",
        "\n",
        "La pérdida disminuye desde 1.4512 en la primera época hasta 0.2352 en la última, lo que es una señal clara de que el modelo está ajustando bien sus pesos.\n",
        "\n",
        "La precisión de validación comienza en 72.5% y sube de manera consistente, alcanzando el 88.5% al final de la décima época. Esto muestra que el modelo no solo está aprendiendo, sino que también generaliza bien a los datos de validación.\n",
        "\n",
        "La pérdida de validación empieza en 0.9037 y disminuye a 0.2919, lo que indica que el modelo está mejorando en cuanto a la capacidad de hacer predicciones correctas sobre el conjunto de validación.\n",
        "</div>"
      ]
    },
    {
      "cell_type": "markdown",
      "id": "564faa80-4b53-467b-ae89-3399de0a88f5",
      "metadata": {
        "id": "564faa80-4b53-467b-ae89-3399de0a88f5"
      },
      "source": [
        "<hr>"
      ]
    },
    {
      "cell_type": "markdown",
      "id": "5c147a4b-2406-42e0-9b09-9aae3cbdcf82",
      "metadata": {
        "id": "5c147a4b-2406-42e0-9b09-9aae3cbdcf82"
      },
      "source": [
        "<b>(D) Evaluación del modelo</b>\n",
        "<div style=\"text-align: justify\">\n",
        "Tras el entrenamiento, es necesario evaluar el desempeño del modelo.\n",
        "</div>"
      ]
    },
    {
      "cell_type": "code",
      "execution_count": null,
      "id": "765e642e-2749-4d3f-8824-738b47a90fbe",
      "metadata": {
        "id": "765e642e-2749-4d3f-8824-738b47a90fbe",
        "outputId": "587a6ca5-4bee-4300-f44b-c564e0304b6e"
      },
      "outputs": [
        {
          "name": "stdout",
          "output_type": "stream",
          "text": [
            "\u001b[1m6/6\u001b[0m \u001b[32m━━━━━━━━━━━━━━━━━━━━\u001b[0m\u001b[37m\u001b[0m \u001b[1m7s\u001b[0m 1s/step - accuracy: 0.9103 - loss: 0.2482\n",
            "Validación - Pérdida: 0.2701, Precisión: 0.9010\n"
          ]
        }
      ],
      "source": [
        "# Evaluar el modelo\n",
        "val_loss, val_acc = model.evaluate(\n",
        "    val_generator,\n",
        "    steps=val_generator.samples // val_generator.batch_size\n",
        ")\n",
        "print(f\"Validación - Pérdida: {val_loss:.4f}, Precisión: {val_acc:.4f}\")"
      ]
    },
    {
      "cell_type": "markdown",
      "id": "5a063090-eaf9-404a-aa83-b372fdfd3363",
      "metadata": {
        "id": "5a063090-eaf9-404a-aa83-b372fdfd3363"
      },
      "source": [
        "<div style=\"text-align: justify\">\n",
        "<b>Comentarios</b>\n",
        "\n",
        "Precisión: 90.62%: Esto indica que el modelo tiene un desempeño muy bueno sobre el conjunto de validación.\n",
        "Está logrando una clasificación correcta en la mayoría de los casos.\n",
        "\n",
        "Pérdida: 0.2479: La pérdida es bastante baja, lo que refleja que las predicciones del modelo están bastante cerca de los valores reales.\n",
        "</div>\n",
        "\n",
        "\n"
      ]
    },
    {
      "cell_type": "markdown",
      "id": "162ff482-9344-4864-a21f-371e2ad9646b",
      "metadata": {
        "id": "162ff482-9344-4864-a21f-371e2ad9646b"
      },
      "source": [
        "Gráfiquemos estos valores:"
      ]
    },
    {
      "cell_type": "code",
      "execution_count": null,
      "id": "24293b29-90ab-49ca-9d28-66a85f049864",
      "metadata": {
        "id": "24293b29-90ab-49ca-9d28-66a85f049864",
        "outputId": "d3923907-9779-44c5-8704-e65eefc96c66"
      },
      "outputs": [
        {
          "data": {
            "image/png": "[encoded data removed]",
            "text/plain": [
              "<Figure size 1200x500 with 2 Axes>"
            ]
          },
          "metadata": {},
          "output_type": "display_data"
        }
      ],
      "source": [
        "import matplotlib.pyplot as plt\n",
        "\n",
        "# Precisión (accuracy)\n",
        "plt.figure(figsize=(12, 5))\n",
        "\n",
        "plt.subplot(1, 2, 1)\n",
        "plt.plot(history.history['accuracy'], label='Entrenamiento')\n",
        "plt.plot(history.history['val_accuracy'], label='Validación')\n",
        "plt.title('Precisión durante el entrenamiento')\n",
        "plt.xlabel('Época')\n",
        "plt.ylabel('Precisión')\n",
        "plt.legend()\n",
        "plt.grid(True)\n",
        "\n",
        "# Pérdida (loss)\n",
        "plt.subplot(1, 2, 2)\n",
        "plt.plot(history.history['loss'], label='Entrenamiento')\n",
        "plt.plot(history.history['val_loss'], label='Validación')\n",
        "plt.title('Pérdida durante el entrenamiento')\n",
        "plt.xlabel('Época')\n",
        "plt.ylabel('Pérdida')\n",
        "plt.legend()\n",
        "plt.grid(True)\n",
        "\n",
        "plt.tight_layout()\n",
        "plt.show()\n"
      ]
    },
    {
      "cell_type": "markdown",
      "id": "4b4fed7c-d673-42a5-b315-9738d4a0bf3d",
      "metadata": {
        "id": "4b4fed7c-d673-42a5-b315-9738d4a0bf3d"
      },
      "source": [
        "<div style=\"text-align: justify\">\n",
        "<b>Gráfico de Precisión</b>\n",
        "\n",
        "La línea azul que representa <b>la precisión de entrenamiento</b> podemos observar que sube de forma constante,\n",
        "lo que nos indica que el modelo está aprendiendo bien con los datos de entrenamiento.\n",
        "\n",
        "Mientras que la línea naranja <b>la precisión de validación</b> también aumenta hasta estabilizarse alrededor de 0.87–0.89,\n",
        "lo cual resulta ser muy bueno.\n",
        "\n",
        "Cabe notar que existe una pequeña brecha entre entrenamiento y validación a partir de la época 2, pero no es grande,\n",
        "lo que indica que no hay sobreajuste significativo (aún).\n",
        "\n",
        "</div>"
      ]
    },
    {
      "cell_type": "markdown",
      "id": "4886589f-4021-46ba-bbe9-c2906fb83b89",
      "metadata": {
        "id": "4886589f-4021-46ba-bbe9-c2906fb83b89"
      },
      "source": [
        "<div style=\"text-align: justify\">\n",
        "<b>Gráfico de Pérdida durante el entrenamiento</b>\n",
        "\n",
        "<b>La pérdida de entrenamiento</b> disminuye de forma consistente y termina muy baja (~0.21).\n",
        "\n",
        "<b>La pérdida de validación</b> también disminuye, pero se estabiliza un poco antes (~0.3).\n",
        "   \n",
        "</div>"
      ]
    },
    {
      "cell_type": "markdown",
      "id": "e3a61709-9d1a-42fe-93ba-b9a2b588ed8c",
      "metadata": {
        "id": "e3a61709-9d1a-42fe-93ba-b9a2b588ed8c"
      },
      "source": [
        "<hr>"
      ]
    },
    {
      "cell_type": "markdown",
      "id": "29efa629-727a-422f-94a3-88e9eda551b0",
      "metadata": {
        "id": "29efa629-727a-422f-94a3-88e9eda551b0"
      },
      "source": [
        "<div style=\"background-color: #f0f8ff; padding: 8px; border-radius: 2px; border-left: 2px solid #4682b4;\">\n",
        "<h4><b>IV. Medición:</b></h4>\n",
        "</div>"
      ]
    },
    {
      "cell_type": "markdown",
      "id": "4a119406-e5e4-4024-b31b-1c31e1a008ff",
      "metadata": {
        "id": "4a119406-e5e4-4024-b31b-1c31e1a008ff"
      },
      "source": [
        "<div style=\"text-align: justify\">\n",
        "Ahora pasamos al punto de la medición.\n",
        "La medición es un proceso esencial para evaluar el rendimiento de los modelos de machine learning, ya que permite cuantificar la eficiencia y efectividad de las predicciones realizadas.\n",
        "</div>"
      ]
    },
    {
      "cell_type": "markdown",
      "id": "90af88b4-dab8-4238-b680-b3017c85dcc1",
      "metadata": {
        "id": "90af88b4-dab8-4238-b680-b3017c85dcc1"
      },
      "source": [
        "Enunciado: Medir tiempos para el 50% y el 100% de las imágenes varias veces; obtener estadísticas"
      ]
    },
    {
      "cell_type": "markdown",
      "id": "98844bbf-18ee-4976-bd01-2bc70044a581",
      "metadata": {
        "id": "98844bbf-18ee-4976-bd01-2bc70044a581"
      },
      "source": [
        "<b>Primero para el 100% de las imagenes</b>"
      ]
    },
    {
      "cell_type": "code",
      "execution_count": null,
      "id": "ec0d2200-df87-402c-a0d9-a586db87e96b",
      "metadata": {
        "id": "ec0d2200-df87-402c-a0d9-a586db87e96b",
        "outputId": "e0985061-b6b6-4250-b420-d2c1dca09ccb"
      },
      "outputs": [
        {
          "name": "stdout",
          "output_type": "stream",
          "text": [
            "\u001b[1m1/1\u001b[0m \u001b[32m━━━━━━━━━━━━━━━━━━━━\u001b[0m\u001b[37m\u001b[0m \u001b[1m1s\u001b[0m 882ms/step\n",
            "\u001b[1m1/1\u001b[0m \u001b[32m━━━━━━━━━━━━━━━━━━━━\u001b[0m\u001b[37m\u001b[0m \u001b[1m1s\u001b[0m 812ms/step\n",
            "\u001b[1m1/1\u001b[0m \u001b[32m━━━━━━━━━━━━━━━━━━━━\u001b[0m\u001b[37m\u001b[0m \u001b[1m1s\u001b[0m 795ms/step\n",
            "\u001b[1m1/1\u001b[0m \u001b[32m━━━━━━━━━━━━━━━━━━━━\u001b[0m\u001b[37m\u001b[0m \u001b[1m1s\u001b[0m 806ms/step\n",
            "\u001b[1m1/1\u001b[0m \u001b[32m━━━━━━━━━━━━━━━━━━━━\u001b[0m\u001b[37m\u001b[0m \u001b[1m1s\u001b[0m 804ms/step\n",
            "Tiempo mínimo: 0.8353 segundos\n",
            "Tiempo máximo: 0.9332 segundos\n",
            "Tiempo medio: 0.8626 segundos\n",
            "Desviación estándar: 0.0358 segundos\n"
          ]
        }
      ],
      "source": [
        "import time\n",
        "import numpy as np\n",
        "\n",
        "tiempos = []\n",
        "\n",
        "# Se ejecuta la inferencia 5 veces para obtener estadísticas\n",
        "for _ in range(5):\n",
        "    start = time.time()\n",
        "    preds = model.predict(images)\n",
        "    end = time.time()\n",
        "    tiempos.append(end - start)\n",
        "\n",
        "# Estadísticas\n",
        "tiempos = np.array(tiempos)\n",
        "print(f\"Tiempo mínimo: {np.min(tiempos):.4f} segundos\")\n",
        "print(f\"Tiempo máximo: {np.max(tiempos):.4f} segundos\")\n",
        "print(f\"Tiempo medio: {np.mean(tiempos):.4f} segundos\")\n",
        "print(f\"Desviación estándar: {np.std(tiempos):.4f} segundos\")\n"
      ]
    },
    {
      "cell_type": "markdown",
      "id": "474ff1ba-65cc-41ff-83e9-ab0d25d0ed82",
      "metadata": {
        "id": "474ff1ba-65cc-41ff-83e9-ab0d25d0ed82"
      },
      "source": [
        "<b>Para el 50% de las imágenes</b>"
      ]
    },
    {
      "cell_type": "code",
      "execution_count": null,
      "id": "4a00da52-952e-4515-9df8-30d9cb5f0a77",
      "metadata": {
        "id": "4a00da52-952e-4515-9df8-30d9cb5f0a77"
      },
      "outputs": [],
      "source": [
        "half_images = images[:len(images)//2]"
      ]
    },
    {
      "cell_type": "code",
      "execution_count": null,
      "id": "fec85a09-7caa-409f-8be4-06375f13da45",
      "metadata": {
        "id": "fec85a09-7caa-409f-8be4-06375f13da45",
        "outputId": "65dc45ba-de72-46c2-a4cb-234fad2bc3b6"
      },
      "outputs": [
        {
          "name": "stdout",
          "output_type": "stream",
          "text": [
            "\u001b[1m1/1\u001b[0m \u001b[32m━━━━━━━━━━━━━━━━━━━━\u001b[0m\u001b[37m\u001b[0m \u001b[1m1s\u001b[0m 1s/step\n",
            "\u001b[1m1/1\u001b[0m \u001b[32m━━━━━━━━━━━━━━━━━━━━\u001b[0m\u001b[37m\u001b[0m \u001b[1m0s\u001b[0m 419ms/step\n",
            "\u001b[1m1/1\u001b[0m \u001b[32m━━━━━━━━━━━━━━━━━━━━\u001b[0m\u001b[37m\u001b[0m \u001b[1m0s\u001b[0m 417ms/step\n",
            "\u001b[1m1/1\u001b[0m \u001b[32m━━━━━━━━━━━━━━━━━━━━\u001b[0m\u001b[37m\u001b[0m \u001b[1m0s\u001b[0m 417ms/step\n",
            "\u001b[1m1/1\u001b[0m \u001b[32m━━━━━━━━━━━━━━━━━━━━\u001b[0m\u001b[37m\u001b[0m \u001b[1m0s\u001b[0m 416ms/step\n",
            "Tiempo mínimo: 0.4568 segundos\n",
            "Tiempo máximo: 1.3778 segundos\n",
            "Tiempo medio: 0.6423 segundos\n",
            "Desviación estándar: 0.3677 segundos\n"
          ]
        }
      ],
      "source": [
        "import time\n",
        "import numpy as np\n",
        "\n",
        "half_images = images[:len(images)//2]\n",
        "\n",
        "tiempos = []\n",
        "\n",
        "# Se ejecuta la inferencia 5 veces para obtener estadísticas\n",
        "for _ in range(5):\n",
        "    start = time.time()\n",
        "    preds = model.predict(half_images)\n",
        "    end = time.time()\n",
        "    tiempos.append(end - start)\n",
        "\n",
        "# Estadísticas\n",
        "tiempos = np.array(tiempos)\n",
        "print(f\"Tiempo mínimo: {np.min(tiempos):.4f} segundos\")\n",
        "print(f\"Tiempo máximo: {np.max(tiempos):.4f} segundos\")\n",
        "print(f\"Tiempo medio: {np.mean(tiempos):.4f} segundos\")\n",
        "print(f\"Desviación estándar: {np.std(tiempos):.4f} segundos\")"
      ]
    },
    {
      "cell_type": "markdown",
      "id": "4771667e-d514-4172-b329-7461b23e681d",
      "metadata": {
        "id": "4771667e-d514-4172-b329-7461b23e681d"
      },
      "source": [
        "<b>Comentarios</b>\n",
        "\n",
        "Se evaluó el tiempo de inferencia del modelo entrenado sobre el 50% y el 100% de las imágenes del conjunto de datos. En ambos casos, la prueba se repitió cinco veces para capturar la variabilidad del rendimiento.\n",
        "\n",
        "Los resultados muestran un tiempo medio razonable de inferencia, con una desviación estándar aceptable, lo que indica estabilidad en el proceso de predicción.\n",
        "    \n",
        "### Resultados de Medición de Tiempos de Ejecución\n",
        "\n",
        "| Conjunto evaluado   | Tiempo mínimo (s) | Tiempo máximo (s) | Tiempo medio (s) | Desviación estándar (s) |\n",
        "|---------------------|-------------------|-------------------|------------------|-------------------------|\n",
        "| 50% de imágenes     | 0.4430            | 1.5147            | 0.6593           | 0.4277                  |\n",
        "| 100% de imágenes    | 0.8246            | 1.9826            | 1.0771           | 0.4537                  |\n",
        "\n",
        "\n"
      ]
    },
    {
      "cell_type": "markdown",
      "id": "9d677eef-e29b-401e-85e5-8878740cb7b7",
      "metadata": {
        "id": "9d677eef-e29b-401e-85e5-8878740cb7b7"
      },
      "source": [
        "<div style=\"background-color: #f0f8ff; padding: 8px; border-radius: 2px; border-left: 2px solid #4682b4;\">\n",
        "<h4><b>V. Almacenamiento:</b></h4>\n",
        "</div>"
      ]
    },
    {
      "cell_type": "code",
      "execution_count": null,
      "id": "3a35eba8-941e-4acd-93b0-b13e5a72e96c",
      "metadata": {
        "id": "3a35eba8-941e-4acd-93b0-b13e5a72e96c",
        "outputId": "9243f91c-821a-4d41-974e-3cc9dd85cede"
      },
      "outputs": [
        {
          "name": "stdout",
          "output_type": "stream",
          "text": [
            "(32, 224, 224, 3)\n"
          ]
        }
      ],
      "source": [
        "images, _ = next(val_generator)  # Carga un batch del val_generator\n",
        "print(images.shape)  # Por ejemplo: (32, 224, 224, 3)\n"
      ]
    },
    {
      "cell_type": "markdown",
      "id": "43c7a2c4-d91c-4f32-b473-f8af7b9d8eab",
      "metadata": {
        "id": "43c7a2c4-d91c-4f32-b473-f8af7b9d8eab"
      },
      "source": [
        "<b>1. Guardar Predicciones en un archivo CSV</b>"
      ]
    },
    {
      "cell_type": "code",
      "execution_count": null,
      "id": "7c950fdf-3932-4825-a34e-d053930297bf",
      "metadata": {
        "id": "7c950fdf-3932-4825-a34e-d053930297bf",
        "outputId": "a54b9717-cb3c-40c3-b863-dac7f9861a70"
      },
      "outputs": [
        {
          "name": "stdout",
          "output_type": "stream",
          "text": [
            "\u001b[1m1/1\u001b[0m \u001b[32m━━━━━━━━━━━━━━━━━━━━\u001b[0m\u001b[37m\u001b[0m \u001b[1m1s\u001b[0m 846ms/step\n",
            "Longitud de las predicciones: 32\n",
            "Longitud de las etiquetas verdaderas: 32\n",
            "Resultados guardados en 'predicciones.csv'\n"
          ]
        }
      ],
      "source": [
        "import numpy as np\n",
        "import pandas as pd\n",
        "\n",
        "# Suponiendo que 'predictions' es un batch de predicciones del modelo\n",
        "predictions = model.predict(images)\n",
        "\n",
        "# Obtener las etiquetas verdaderas del generador\n",
        "true_labels = val_generator.classes[:len(images)]\n",
        "\n",
        "# Convertir las predicciones a clases predichas (argmax)\n",
        "predicted_classes = np.argmax(predictions, axis=-1)\n",
        "\n",
        "# Verificar la longitud de ambos arrays\n",
        "print(f'Longitud de las predicciones: {len(predicted_classes)}')\n",
        "print(f'Longitud de las etiquetas verdaderas: {len(true_labels)}')\n",
        "\n",
        "# Crear un DataFrame con las predicciones y las etiquetas\n",
        "df = pd.DataFrame({\n",
        "    'true_label': true_labels,\n",
        "    'predicted_label': predicted_classes\n",
        "})\n",
        "\n",
        "# Guardar el DataFrame en un archivo CSV\n",
        "df.to_csv('predicciones.csv', index=False)\n",
        "\n",
        "print(\"Resultados guardados en 'predicciones.csv'\")\n",
        "\n"
      ]
    },
    {
      "cell_type": "markdown",
      "id": "b669f95d-5cb7-4c3c-9f42-eddb6f3253b0",
      "metadata": {
        "id": "b669f95d-5cb7-4c3c-9f42-eddb6f3253b0"
      },
      "source": [
        "<b>2.Guardar Métricas en un archivo JSON</b>"
      ]
    },
    {
      "cell_type": "code",
      "execution_count": null,
      "id": "821c850a-b69d-43c0-92db-502b1770036e",
      "metadata": {
        "id": "821c850a-b69d-43c0-92db-502b1770036e",
        "outputId": "3851c1d2-b5a5-4def-aaec-9c0864841bdc"
      },
      "outputs": [
        {
          "name": "stdout",
          "output_type": "stream",
          "text": [
            "Métricas guardadas en 'metrics.json'\n"
          ]
        }
      ],
      "source": [
        "import json\n",
        "\n",
        "# Guardar las métricas después de entrenar el modelo\n",
        "metrics = {\n",
        "    'accuracy': history.history['accuracy'],\n",
        "    'loss': history.history['loss'],\n",
        "    'val_accuracy': history.history['val_accuracy'],\n",
        "    'val_loss': history.history['val_loss']\n",
        "}\n",
        "\n",
        "# Guardar las métricas en un archivo JSON\n",
        "with open('metrics.json', 'w') as f:\n",
        "    json.dump(metrics, f)\n",
        "\n",
        "print(\"Métricas guardadas en 'metrics.json'\")\n"
      ]
    },
    {
      "cell_type": "markdown",
      "id": "24fe6434-3fd6-4cd2-9712-eda6acd5c75d",
      "metadata": {
        "id": "24fe6434-3fd6-4cd2-9712-eda6acd5c75d"
      },
      "source": [
        "<hr>"
      ]
    },
    {
      "cell_type": "markdown",
      "id": "7d6fb7e7-5d3b-412b-b555-482c5df85599",
      "metadata": {
        "id": "7d6fb7e7-5d3b-412b-b555-482c5df85599"
      },
      "source": [
        "<div style=\"background-color: #f8f9fa; padding: 15px; border-radius: 5px; border-left: 4px solid #4682b4; box-shadow: 0 2px 5px rgba(0,0,0,0.1);\">\n",
        "<h2>Resumen de Resultados</h2>\n",
        "</div>"
      ]
    },
    {
      "cell_type": "markdown",
      "id": "96afc1a1-44f3-496a-8f5d-ed642d3b2e85",
      "metadata": {
        "id": "96afc1a1-44f3-496a-8f5d-ed642d3b2e85"
      },
      "source": [
        "<div style=\"text-align: justify\">\n",
        "\n",
        "- **Transfer Learning fue una estrategia efectiva**  \n",
        "  El uso de MobileNetV2 preentrenada permitió aprovechar características previamente aprendidas sobre imágenes genéricas (ImageNet), acelerando el proceso de entrenamiento y mejorando el rendimiento con una cantidad de datos relativamente acotada.\n",
        "\n",
        "- **El modelo logró una alta capacidad de generalización**  \n",
        "  La precisión en validación alcanzó un 90.62%, con una pérdida de 0.2479, lo cual refleja un buen equilibrio entre precisión y complejidad. Esto indica que el modelo no está sobreajustado y mantiene buen desempeño con datos no vistos.\n",
        "\n",
        "- **Evolución del entrenamiento fue positiva y sostenida**  \n",
        "  Se observó una curva de aprendizaje saludable, con mejoras constantes en la precisión y reducción en la pérdida a lo largo de las 10 épocas. Esto sugiere que el modelo y los hiperparámetros elegidos (optimizador, tasa de aprendizaje, arquitectura) fueron adecuados.\n",
        "\n",
        "- **El tiempo de inferencia es aceptable para aplicaciones no críticas**  \n",
        "  Con un tiempo promedio de inferencia de 1.08 segundos por lote de imágenes, el modelo es viable para aplicaciones en entornos de escritorio o backend. No obstante, para escenarios en tiempo real o dispositivos embebidos, podrían requerirse optimizaciones (cuantización, TensorFlow Lite, ejecución en GPU).\n",
        "\n",
        "- **El modelo es fácilmente extensible y adaptable**  \n",
        "  Gracias al enfoque modular, es posible:\n",
        "  - Descongelar parte del _backbone_ para hacer _fine-tuning_ y ganar precisión.\n",
        "  - Cambiar MobileNetV2 por otro _backbone_ más liviano o más potente.\n",
        "  - Ampliar la cantidad de clases o adaptar el modelo a otros tipos de imágenes con mínima reconfiguración.\n",
        "\n",
        "</div>"
      ]
    },
    {
      "cell_type": "code",
      "execution_count": null,
      "id": "36307da2-b630-41ca-af7f-c38fc72000f8",
      "metadata": {
        "id": "36307da2-b630-41ca-af7f-c38fc72000f8",
        "outputId": "f269a931-3ae8-4466-895b-9701b836c2f7"
      },
      "outputs": [
        {
          "name": "stdout",
          "output_type": "stream",
          "text": [
            "Epoch 1/10\n",
            "\u001b[1m25/25\u001b[0m \u001b[32m━━━━━━━━━━━━━━━━━━━━\u001b[0m\u001b[37m\u001b[0m \u001b[1m42s\u001b[0m 2s/step - accuracy: 0.4149 - loss: 1.3257 - val_accuracy: 0.7650 - val_loss: 0.8293\n",
            "Epoch 2/10\n",
            "\u001b[1m25/25\u001b[0m \u001b[32m━━━━━━━━━━━━━━━━━━━━\u001b[0m\u001b[37m\u001b[0m \u001b[1m36s\u001b[0m 1s/step - accuracy: 0.7877 - loss: 0.7592 - val_accuracy: 0.8000 - val_loss: 0.6053\n",
            "Epoch 3/10\n",
            "\u001b[1m25/25\u001b[0m \u001b[32m━━━━━━━━━━━━━━━━━━━━\u001b[0m\u001b[37m\u001b[0m \u001b[1m36s\u001b[0m 1s/step - accuracy: 0.8209 - loss: 0.5452 - val_accuracy: 0.8350 - val_loss: 0.4693\n",
            "Epoch 4/10\n",
            "\u001b[1m25/25\u001b[0m \u001b[32m━━━━━━━━━━━━━━━━━━━━\u001b[0m\u001b[37m\u001b[0m \u001b[1m36s\u001b[0m 1s/step - accuracy: 0.8583 - loss: 0.4293 - val_accuracy: 0.8550 - val_loss: 0.4294\n",
            "Epoch 5/10\n",
            "\u001b[1m25/25\u001b[0m \u001b[32m━━━━━━━━━━━━━━━━━━━━\u001b[0m\u001b[37m\u001b[0m \u001b[1m36s\u001b[0m 1s/step - accuracy: 0.8884 - loss: 0.3630 - val_accuracy: 0.8500 - val_loss: 0.3815\n",
            "Epoch 6/10\n",
            "\u001b[1m25/25\u001b[0m \u001b[32m━━━━━━━━━━━━━━━━━━━━\u001b[0m\u001b[37m\u001b[0m \u001b[1m36s\u001b[0m 1s/step - accuracy: 0.9171 - loss: 0.2970 - val_accuracy: 0.8550 - val_loss: 0.3656\n",
            "Epoch 7/10\n",
            "\u001b[1m25/25\u001b[0m \u001b[32m━━━━━━━━━━━━━━━━━━━━\u001b[0m\u001b[37m\u001b[0m \u001b[1m36s\u001b[0m 1s/step - accuracy: 0.9316 - loss: 0.2494 - val_accuracy: 0.8450 - val_loss: 0.4187\n",
            "Epoch 8/10\n",
            "\u001b[1m25/25\u001b[0m \u001b[32m━━━━━━━━━━━━━━━━━━━━\u001b[0m\u001b[37m\u001b[0m \u001b[1m36s\u001b[0m 1s/step - accuracy: 0.9284 - loss: 0.2517 - val_accuracy: 0.8850 - val_loss: 0.3534\n",
            "Epoch 9/10\n",
            "\u001b[1m25/25\u001b[0m \u001b[32m━━━━━━━━━━━━━━━━━━━━\u001b[0m\u001b[37m\u001b[0m \u001b[1m36s\u001b[0m 1s/step - accuracy: 0.9454 - loss: 0.2003 - val_accuracy: 0.8950 - val_loss: 0.3117\n",
            "Epoch 10/10\n",
            "\u001b[1m25/25\u001b[0m \u001b[32m━━━━━━━━━━━━━━━━━━━━\u001b[0m\u001b[37m\u001b[0m \u001b[1m37s\u001b[0m 1s/step - accuracy: 0.9344 - loss: 0.2284 - val_accuracy: 0.8600 - val_loss: 0.3207\n"
          ]
        },
        {
          "name": "stderr",
          "output_type": "stream",
          "text": [
            "WARNING:absl:You are saving your model as an HDF5 file via `model.save()` or `keras.saving.save_model(model)`. This file format is considered legacy. We recommend using instead the native Keras format, e.g. `model.save('my_model.keras')` or `keras.saving.save_model(model, 'my_model.keras')`. \n"
          ]
        },
        {
          "name": "stdout",
          "output_type": "stream",
          "text": [
            "✅ Modelo guardado como modelo_insectos.h5\n"
          ]
        }
      ],
      "source": [
        "# Crear modelo con MobileNetV2\n",
        "base_model = MobileNetV2(weights='imagenet', include_top=False, input_shape=(224, 224, 3))\n",
        "base_model.trainable = False  # Transfer learning\n",
        "\n",
        "# Modelo final\n",
        "model = Sequential([\n",
        "    base_model,\n",
        "    GlobalAveragePooling2D(),\n",
        "    Dense(128, activation='relu'),\n",
        "    Dense(len(clases), activation='softmax')  # 4 clases\n",
        "])\n",
        "\n",
        "# Compilar\n",
        "model.compile(optimizer=Adam(learning_rate=1e-4),\n",
        "              loss='categorical_crossentropy',\n",
        "              metrics=['accuracy'])\n",
        "\n",
        "# Entrenar\n",
        "history = model.fit(\n",
        "    train_generator,\n",
        "    validation_data=val_generator,\n",
        "    epochs=10  # Puedes ajustar\n",
        ")\n",
        "\n",
        "# Guardar modelo\n",
        "model.save(\"modelo_insectos.h5\")\n",
        "print(\"✅ Modelo guardado como modelo_insectos.h5\")\n"
      ]
    },
    {
      "cell_type": "code",
      "execution_count": null,
      "id": "fe647ae3-d9d5-4808-866d-1f7dd73b4da0",
      "metadata": {
        "id": "fe647ae3-d9d5-4808-866d-1f7dd73b4da0"
      },
      "outputs": [],
      "source": []
    }
  ],
  "metadata": {
    "kernelspec": {
      "display_name": "Python 3 (ipykernel)",
      "language": "python",
      "name": "python3"
    },
    "language_info": {
      "codemirror_mode": {
        "name": "ipython",
        "version": 3
      },
      "file_extension": ".py",
      "mimetype": "text/x-python",
      "name": "python",
      "nbconvert_exporter": "python",
      "pygments_lexer": "ipython3",
      "version": "3.11.7"
    },
    "colab": {
      "provenance": []
    }
  },
  "nbformat": 4,
  "nbformat_minor": 5
}